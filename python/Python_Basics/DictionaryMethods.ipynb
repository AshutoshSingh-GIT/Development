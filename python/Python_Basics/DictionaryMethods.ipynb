{
 "cells": [
  {
   "cell_type": "code",
   "execution_count": 33,
   "id": "1da4582f",
   "metadata": {},
   "outputs": [
    {
     "name": "stdout",
     "output_type": "stream",
     "text": [
      "{'Raja': 1000, 'Ram': 10, 'Mohan': 100, 'Roy': 1}\n",
      "<class 'dict'>\n",
      "4\n",
      "10\n",
      "1\n",
      "#\n",
      "-1799726092062896907\n",
      "5396474170669481502\n"
     ]
    }
   ],
   "source": [
    "d = {\"Raja\":1000,\"Ram\":10,\"Mohan\":100,\"Roy\":1}\n",
    "print(d)\n",
    "print(type(d))\n",
    "print(len(d))\n",
    "print(d[\"Ram\"])\n",
    "#get()\tReturns the value of the specified key\n",
    "print(d.get(\"Roy\",0))\n",
    "print(d.get(\"Ashu\",\"#\"))\n",
    "print(hash(\"Don\"))\n",
    "print(hash(\"55\"))\n"
   ]
  },
  {
   "cell_type": "code",
   "execution_count": 68,
   "id": "f4fe2716",
   "metadata": {},
   "outputs": [
    {
     "name": "stdout",
     "output_type": "stream",
     "text": [
      "{'Raja': 1000, 'Ram': 10, 'Mohan': 100, 'sir': 1000000, 'Roy': 10000}\n"
     ]
    },
    {
     "data": {
      "text/plain": [
       "{'Raja': 1000, 'Ram': 10, 'Mohan': 100, 'sir': 1000000, 'Roy': 10000}"
      ]
     },
     "execution_count": 68,
     "metadata": {},
     "output_type": "execute_result"
    }
   ],
   "source": [
    "#update\n",
    "d[\"Roy\"]=10000\n",
    "print(d)\n",
    "#clear()\tRemoves all the elements from the dictionary\n",
    "#d.clear()\n",
    "#copy()\tReturns a shallow copy of the dictionary\n",
    "d.copy()"
   ]
  },
  {
   "cell_type": "code",
   "execution_count": 71,
   "id": "885a6994",
   "metadata": {},
   "outputs": [
    {
     "name": "stdout",
     "output_type": "stream",
     "text": [
      "{'Raja': 1000, 'Ram': 10, 'Mohan': 100, 'sir': 1000000, 'Roy': 10000, 'Reformer': 1, 'Sir': 1000000, 'Holy': 10000000}\n",
      "{'Raja': 1000, 'Ram': 10, 'Mohan': 100, 'sir': 1000000, 'Roy': 10000, 'Reformer': 1, 'Sir': 1000000, 'Holy': 10000000}\n"
     ]
    }
   ],
   "source": [
    "#insert\n",
    "d[\"Reformer\"]=1\n",
    "print(d)\n",
    "#update()\tUpdates the dictionary with the specified key-value pairs\n",
    "d.update({\"Holy\":10000000})\n",
    "print(d)"
   ]
  },
  {
   "cell_type": "code",
   "execution_count": 72,
   "id": "a22fb067",
   "metadata": {},
   "outputs": [
    {
     "name": "stdout",
     "output_type": "stream",
     "text": [
      "{'Raja': 1000, 'Ram': 10, 'Mohan': 100, 'Roy': 10000, 'Reformer': 1, 'Sir': 1000000, 'Holy': 10000000}\n",
      "{'Raja': 1000, 'Ram': 10, 'Mohan': 100, 'Roy': 10000, 'Reformer': 1, 'Sir': 1000000}\n"
     ]
    }
   ],
   "source": [
    "#Delete\n",
    "#pop()\tRemoves the element with the specified key\n",
    "d.pop(\"sir\")\n",
    "print(d)\n",
    "#popitem()\tRemoves the last inserted key-value pair\n",
    "d.popitem()\n",
    "#del d('Raja')\n",
    "print(d)"
   ]
  },
  {
   "cell_type": "code",
   "execution_count": 60,
   "id": "3be69280",
   "metadata": {},
   "outputs": [
    {
     "name": "stdout",
     "output_type": "stream",
     "text": [
      "dict_keys(['Raja', 'Ram', 'Mohan', 'Roy', 'Reformer'])\n",
      "<class 'dict_keys'>\n",
      "['Raja', 'Ram', 'Mohan', 'Roy', 'Reformer']\n",
      "dict_values([1000, 10, 100, 10000, 1])\n",
      "<class 'dict_values'>\n",
      "[1000, 10, 100, 10000, 1]\n"
     ]
    }
   ],
   "source": [
    "#keys()\tReturns a list containing the dictionary's keys\n",
    "print(d.keys())\n",
    "print(type(d.keys()))\n",
    "print(list(d.keys()))\n",
    "#values()\tReturns a list of all the values in the dictionary\n",
    "print(d.values())\n",
    "print(type(d.values()))\n",
    "print(list(d.values()))"
   ]
  },
  {
   "cell_type": "code",
   "execution_count": 66,
   "id": "e49ffd5f",
   "metadata": {},
   "outputs": [
    {
     "name": "stdout",
     "output_type": "stream",
     "text": [
      "dict_items([('Raja', 1000), ('Ram', 10), ('Mohan', 100)])\n",
      "<class 'dict_items'>\n"
     ]
    }
   ],
   "source": [
    "#items()\tReturns a dict_item --(iterable) containing a tuple for each key value pair\n",
    "print(d.items())\n",
    "print(type(d.items()))"
   ]
  },
  {
   "cell_type": "code",
   "execution_count": 75,
   "id": "2be0fdca",
   "metadata": {},
   "outputs": [
    {
     "name": "stdout",
     "output_type": "stream",
     "text": [
      "Mustang\n",
      "{'brand': 'Ford', 'model': 'Mustang', 'year': 1964, 'name': 'james'}\n"
     ]
    }
   ],
   "source": [
    "#setdefault(keyname, value) Returns the value of the specified key, If the key does not exist, insert the key, with the specified value\n",
    "car = {\"brand\": \"Ford\", \"model\": \"Mustang\",\"year\": 1964}\n",
    "x = car.setdefault(\"model\", \"Bronco\")\n",
    "y= car.setdefault(\"name\",\"james\")\n",
    "print(x)\n",
    "print(car)"
   ]
  },
  {
   "cell_type": "code",
   "execution_count": 81,
   "id": "2791f8d4",
   "metadata": {},
   "outputs": [
    {
     "name": "stdout",
     "output_type": "stream",
     "text": [
      "{'key1': 0, 'key2': 0, 'key3': 0}\n"
     ]
    }
   ],
   "source": [
    "#fromkeys(keys, value)\tReturns a dictionary with the specified keys and value\n",
    "x = ('key1', 'key2', 'key3')\n",
    "Y=(0)\n",
    "thisdict = dict.fromkeys(x,Y)\n",
    "\n",
    "print(thisdict)"
   ]
  },
  {
   "cell_type": "code",
   "execution_count": 83,
   "id": "8f89287b",
   "metadata": {},
   "outputs": [],
   "source": [
    "#Nested Dictionary\n",
    "Sal = {\n",
    "    \"HR\":{\n",
    "        101:10,\n",
    "        102:23\n",
    "    },\n",
    "    \"Sales\":{\n",
    "        111:100,\n",
    "        132:10021,\n",
    "        91:981\n",
    "        },\n",
    "    \"Tech\":{\n",
    "        152:65,\n",
    "        71:778,\n",
    "        45:989        \n",
    "    }\n",
    "}"
   ]
  },
  {
   "cell_type": "code",
   "execution_count": 84,
   "id": "e006dbb0",
   "metadata": {},
   "outputs": [
    {
     "data": {
      "text/plain": [
       "dict_keys(['HR', 'Sales', 'Tech'])"
      ]
     },
     "execution_count": 84,
     "metadata": {},
     "output_type": "execute_result"
    }
   ],
   "source": [
    "Sal.keys()"
   ]
  },
  {
   "cell_type": "code",
   "execution_count": 86,
   "id": "5604860b",
   "metadata": {},
   "outputs": [
    {
     "data": {
      "text/plain": [
       "{152: 65, 71: 778, 45: 989}"
      ]
     },
     "execution_count": 86,
     "metadata": {},
     "output_type": "execute_result"
    }
   ],
   "source": [
    "Sal['Tech']"
   ]
  },
  {
   "cell_type": "code",
   "execution_count": 88,
   "id": "d0c39e75",
   "metadata": {},
   "outputs": [
    {
     "data": {
      "text/plain": [
       "778"
      ]
     },
     "execution_count": 88,
     "metadata": {},
     "output_type": "execute_result"
    }
   ],
   "source": [
    "Sal['Tech'][71]\n",
    "Sal.get('Tech').get(71)"
   ]
  },
  {
   "cell_type": "code",
   "execution_count": 95,
   "id": "751a99d4",
   "metadata": {},
   "outputs": [
    {
     "name": "stdout",
     "output_type": "stream",
     "text": [
      "[10, 23]\n",
      "HR 16\n",
      "[100, 10021, 981]\n",
      "Sales 3700\n",
      "[65, 778, 989]\n",
      "Tech 610\n"
     ]
    }
   ],
   "source": [
    "for depart in Sal:\n",
    "    value=list(Sal[depart].values())\n",
    "    print(value)\n",
    "    print(depart, sum(value)//len(value))"
   ]
  },
  {
   "cell_type": "code",
   "execution_count": null,
   "id": "8eeebeba",
   "metadata": {},
   "outputs": [],
   "source": []
  }
 ],
 "metadata": {
  "kernelspec": {
   "display_name": "Python 3 (ipykernel)",
   "language": "python",
   "name": "python3"
  },
  "language_info": {
   "codemirror_mode": {
    "name": "ipython",
    "version": 3
   },
   "file_extension": ".py",
   "mimetype": "text/x-python",
   "name": "python",
   "nbconvert_exporter": "python",
   "pygments_lexer": "ipython3",
   "version": "3.11.1"
  }
 },
 "nbformat": 4,
 "nbformat_minor": 5
}
