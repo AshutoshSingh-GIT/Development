{
 "cells": [
  {
   "cell_type": "markdown",
   "id": "f1d847e3",
   "metadata": {},
   "source": [
    "# module -- A python file (*.py)\n",
    "\n",
    ".ipynb- interactive python notebook"
   ]
  },
  {
   "cell_type": "markdown",
   "id": "47ebdbb2",
   "metadata": {},
   "source": [
    "#### Module also enables code reusability\n",
    "import the module\n",
    "syntax -- import module_name\n",
    "math.py\n",
    "random.py\n",
    "OS.py"
   ]
  },
  {
   "cell_type": "code",
   "execution_count": 1,
   "id": "2a7f404f",
   "metadata": {},
   "outputs": [],
   "source": [
    "import math"
   ]
  },
  {
   "cell_type": "code",
   "execution_count": 2,
   "id": "26f82e08",
   "metadata": {},
   "outputs": [
    {
     "data": {
      "text/plain": [
       "<module 'math' from '/Library/Frameworks/Python.framework/Versions/3.11/lib/python3.11/lib-dynload/math.cpython-311-darwin.so'>"
      ]
     },
     "execution_count": 2,
     "metadata": {},
     "output_type": "execute_result"
    }
   ],
   "source": [
    "math"
   ]
  },
  {
   "cell_type": "code",
   "execution_count": 3,
   "id": "1947f558",
   "metadata": {},
   "outputs": [
    {
     "data": {
      "text/plain": [
       "4.0"
      ]
     },
     "execution_count": 3,
     "metadata": {},
     "output_type": "execute_result"
    }
   ],
   "source": [
    "math.sqrt(16)"
   ]
  },
  {
   "cell_type": "code",
   "execution_count": 4,
   "id": "780959ab",
   "metadata": {},
   "outputs": [
    {
     "data": {
      "text/plain": [
       "-4"
      ]
     },
     "execution_count": 4,
     "metadata": {},
     "output_type": "execute_result"
    }
   ],
   "source": [
    "math.floor(-3.4)"
   ]
  },
  {
   "cell_type": "code",
   "execution_count": 5,
   "id": "5a44fca2",
   "metadata": {},
   "outputs": [
    {
     "data": {
      "text/plain": [
       "3.141592653589793"
      ]
     },
     "execution_count": 5,
     "metadata": {},
     "output_type": "execute_result"
    }
   ],
   "source": [
    "math.pi"
   ]
  },
  {
   "cell_type": "code",
   "execution_count": 6,
   "id": "057a07fb",
   "metadata": {},
   "outputs": [
    {
     "data": {
      "text/plain": [
       "inf"
      ]
     },
     "execution_count": 6,
     "metadata": {},
     "output_type": "execute_result"
    }
   ],
   "source": [
    "math.inf"
   ]
  },
  {
   "cell_type": "code",
   "execution_count": 9,
   "id": "753caa6d",
   "metadata": {},
   "outputs": [
    {
     "data": {
      "text/plain": [
       "nan"
      ]
     },
     "execution_count": 9,
     "metadata": {},
     "output_type": "execute_result"
    }
   ],
   "source": [
    "# not a number\n",
    "math.nan"
   ]
  },
  {
   "cell_type": "code",
   "execution_count": 10,
   "id": "1fe6875d",
   "metadata": {},
   "outputs": [
    {
     "data": {
      "text/plain": [
       "inf"
      ]
     },
     "execution_count": 10,
     "metadata": {},
     "output_type": "execute_result"
    }
   ],
   "source": [
    "math.inf"
   ]
  },
  {
   "cell_type": "code",
   "execution_count": 11,
   "id": "2793c40e",
   "metadata": {},
   "outputs": [
    {
     "data": {
      "text/plain": [
       "-inf"
      ]
     },
     "execution_count": 11,
     "metadata": {},
     "output_type": "execute_result"
    }
   ],
   "source": [
    "-math.inf"
   ]
  },
  {
   "cell_type": "code",
   "execution_count": 13,
   "id": "954bc58e",
   "metadata": {},
   "outputs": [],
   "source": [
    "import random as rd"
   ]
  },
  {
   "cell_type": "code",
   "execution_count": 15,
   "id": "4a6ad1e9",
   "metadata": {},
   "outputs": [
    {
     "data": {
      "text/plain": [
       "-16"
      ]
     },
     "execution_count": 15,
     "metadata": {},
     "output_type": "execute_result"
    }
   ],
   "source": [
    "#psuedo random number --  generated via a formula\n",
    "rd.randint(-100,200)"
   ]
  },
  {
   "cell_type": "code",
   "execution_count": 23,
   "id": "283fbaf2",
   "metadata": {},
   "outputs": [],
   "source": [
    "rd.seed(100)"
   ]
  },
  {
   "cell_type": "code",
   "execution_count": 27,
   "id": "77372040",
   "metadata": {},
   "outputs": [
    {
     "data": {
      "text/plain": [
       "98"
      ]
     },
     "execution_count": 27,
     "metadata": {},
     "output_type": "execute_result"
    }
   ],
   "source": [
    "rd.randint(0,100)"
   ]
  },
  {
   "cell_type": "code",
   "execution_count": null,
   "id": "dac59d3b",
   "metadata": {},
   "outputs": [],
   "source": []
  },
  {
   "cell_type": "code",
   "execution_count": 5,
   "id": "de1f45e0",
   "metadata": {},
   "outputs": [],
   "source": [
    "##os module -- intract with your system"
   ]
  },
  {
   "cell_type": "code",
   "execution_count": 3,
   "id": "fdf70a6c",
   "metadata": {},
   "outputs": [],
   "source": [
    "import os\n"
   ]
  },
  {
   "cell_type": "code",
   "execution_count": 4,
   "id": "269c5bec",
   "metadata": {},
   "outputs": [
    {
     "data": {
      "text/plain": [
       "'/Users/ashutosh/Desktop/Directory/python/PythonCode/JupyterNotebook'"
      ]
     },
     "execution_count": 4,
     "metadata": {},
     "output_type": "execute_result"
    }
   ],
   "source": [
    "os.getcwd()"
   ]
  },
  {
   "cell_type": "code",
   "execution_count": 6,
   "id": "1b7f88cf",
   "metadata": {},
   "outputs": [],
   "source": [
    "os.mkdir(\"Hello\")"
   ]
  },
  {
   "cell_type": "code",
   "execution_count": 7,
   "id": "55970810",
   "metadata": {},
   "outputs": [
    {
     "data": {
      "text/plain": [
       "['firstNote.ipynb',\n",
       " '.DS_Store',\n",
       " 'pythonStringMethods.ipynb',\n",
       " 'Python_OOP.ipynb',\n",
       " 'DictionaryMethods.ipynb',\n",
       " '.ipynb_checkpoints',\n",
       " 'Hello',\n",
       " 'pythonBuiltInFunction.ipynb',\n",
       " 'SetMethods.ipynb',\n",
       " 'module and exceptions.ipynb']"
      ]
     },
     "execution_count": 7,
     "metadata": {},
     "output_type": "execute_result"
    }
   ],
   "source": [
    "# list directory -- Important\n",
    "os.listdir()"
   ]
  },
  {
   "cell_type": "code",
   "execution_count": 8,
   "id": "0b72a670",
   "metadata": {},
   "outputs": [
    {
     "data": {
      "text/plain": [
       "['Personal',\n",
       " 'Welcome to HDFC Bank NetBanking.pdf',\n",
       " '.DS_Store',\n",
       " 'CoverLetter and Resume',\n",
       " 'python',\n",
       " 'SQL_ETL_Data_warehousing_concepts']"
      ]
     },
     "execution_count": 8,
     "metadata": {},
     "output_type": "execute_result"
    }
   ],
   "source": [
    "os.listdir('/Users/ashutosh/Desktop/Directory')"
   ]
  },
  {
   "cell_type": "code",
   "execution_count": 4,
   "id": "4ede04ae",
   "metadata": {},
   "outputs": [],
   "source": [
    "os.rmdir(\"Hello\")"
   ]
  },
  {
   "cell_type": "code",
   "execution_count": 6,
   "id": "16e14ade",
   "metadata": {},
   "outputs": [],
   "source": [
    "# shell utility\n",
    "import shutil"
   ]
  },
  {
   "cell_type": "code",
   "execution_count": 7,
   "id": "bb92849c",
   "metadata": {},
   "outputs": [],
   "source": [
    "# System module\n",
    "import sys"
   ]
  },
  {
   "cell_type": "code",
   "execution_count": 8,
   "id": "591004be",
   "metadata": {},
   "outputs": [
    {
     "data": {
      "text/plain": [
       "'/Library/Frameworks/Python.framework/Versions/3.11/bin/python3'"
      ]
     },
     "execution_count": 8,
     "metadata": {},
     "output_type": "execute_result"
    }
   ],
   "source": [
    "sys.executable"
   ]
  },
  {
   "cell_type": "code",
   "execution_count": 9,
   "id": "34f57793",
   "metadata": {},
   "outputs": [],
   "source": [
    " import datetime"
   ]
  },
  {
   "cell_type": "code",
   "execution_count": 12,
   "id": "ea0ca991",
   "metadata": {},
   "outputs": [],
   "source": [
    "# import specific function from a module\n",
    "from math import sqrt, factorial, pow"
   ]
  },
  {
   "cell_type": "code",
   "execution_count": 11,
   "id": "8d13b90b",
   "metadata": {},
   "outputs": [
    {
     "data": {
      "text/plain": [
       "49.0"
      ]
     },
     "execution_count": 11,
     "metadata": {},
     "output_type": "execute_result"
    }
   ],
   "source": [
    "sqrt(2401)"
   ]
  },
  {
   "cell_type": "code",
   "execution_count": 13,
   "id": "eb0017bf",
   "metadata": {},
   "outputs": [
    {
     "ename": "NameError",
     "evalue": "name 'math' is not defined",
     "output_type": "error",
     "traceback": [
      "\u001b[0;31m---------------------------------------------------------------------------\u001b[0m",
      "\u001b[0;31mNameError\u001b[0m                                 Traceback (most recent call last)",
      "Cell \u001b[0;32mIn[13], line 1\u001b[0m\n\u001b[0;32m----> 1\u001b[0m \u001b[43mmath\u001b[49m\u001b[38;5;241m.\u001b[39msqrt(\u001b[38;5;241m2401\u001b[39m)\n",
      "\u001b[0;31mNameError\u001b[0m: name 'math' is not defined"
     ]
    }
   ],
   "source": [
    "math.sqrt(2401)"
   ]
  },
  {
   "cell_type": "code",
   "execution_count": 14,
   "id": "4672cfdb",
   "metadata": {},
   "outputs": [],
   "source": [
    "from math import *"
   ]
  },
  {
   "cell_type": "code",
   "execution_count": 16,
   "id": "3669d300",
   "metadata": {},
   "outputs": [
    {
     "data": {
      "text/plain": [
       "1.0"
      ]
     },
     "execution_count": 16,
     "metadata": {},
     "output_type": "execute_result"
    }
   ],
   "source": [
    "log10(10)"
   ]
  },
  {
   "cell_type": "code",
   "execution_count": 19,
   "id": "1b7fb672",
   "metadata": {},
   "outputs": [],
   "source": [
    "#alias \n",
    "import math as m"
   ]
  },
  {
   "cell_type": "code",
   "execution_count": 18,
   "id": "8004d34c",
   "metadata": {},
   "outputs": [
    {
     "data": {
      "text/plain": [
       "6"
      ]
     },
     "execution_count": 18,
     "metadata": {},
     "output_type": "execute_result"
    }
   ],
   "source": [
    "m.ceil(5.4)"
   ]
  },
  {
   "cell_type": "markdown",
   "id": "7cd1277d",
   "metadata": {},
   "source": [
    "##Packages -- a directory having multiple module\n",
    "\n",
    "\n",
    "collection of modules form package\n",
    "\n",
    "need to create a directory\n",
    "\n",
    "\n",
    "__init__.py -- initalize code"
   ]
  },
  {
   "cell_type": "code",
   "execution_count": 21,
   "id": "c87a65f7",
   "metadata": {},
   "outputs": [],
   "source": [
    "# import game -- package import\n",
    "# from game import player  -- import only one sub package \n",
    "# from game.player import movement -- import one module from sub package\n",
    "# from game.player.movement import one_function -- import one function from one module from one sub package from one package "
   ]
  },
  {
   "cell_type": "markdown",
   "id": "b492ada5",
   "metadata": {},
   "source": [
    "## once a package is published in pypi repositorty we call it a library.\n",
    "package is called library because it is globally accessable to everyone."
   ]
  },
  {
   "cell_type": "code",
   "execution_count": 22,
   "id": "40bc236f",
   "metadata": {},
   "outputs": [
    {
     "ename": "SyntaxError",
     "evalue": "invalid syntax (73984280.py, line 3)",
     "output_type": "error",
     "traceback": [
      "\u001b[0;36m  Cell \u001b[0;32mIn[22], line 3\u001b[0;36m\u001b[0m\n\u001b[0;31m    Exception --\u001b[0m\n\u001b[0m                 ^\u001b[0m\n\u001b[0;31mSyntaxError\u001b[0m\u001b[0;31m:\u001b[0m invalid syntax\n"
     ]
    }
   ],
   "source": [
    "error -- Syntax\n",
    "\n",
    "Exception -- "
   ]
  },
  {
   "cell_type": "code",
   "execution_count": 23,
   "id": "c67ace3b",
   "metadata": {},
   "outputs": [
    {
     "ename": "NameError",
     "evalue": "name 'a' is not defined",
     "output_type": "error",
     "traceback": [
      "\u001b[0;31m---------------------------------------------------------------------------\u001b[0m",
      "\u001b[0;31mNameError\u001b[0m                                 Traceback (most recent call last)",
      "Cell \u001b[0;32mIn[23], line 1\u001b[0m\n\u001b[0;32m----> 1\u001b[0m \u001b[38;5;28mprint\u001b[39m(\u001b[43ma\u001b[49m)\n",
      "\u001b[0;31mNameError\u001b[0m: name 'a' is not defined"
     ]
    }
   ],
   "source": [
    "print(a)"
   ]
  },
  {
   "cell_type": "code",
   "execution_count": 25,
   "id": "27b427fd",
   "metadata": {},
   "outputs": [
    {
     "ename": "SyntaxError",
     "evalue": "incomplete input (1900823558.py, line 1)",
     "output_type": "error",
     "traceback": [
      "\u001b[0;36m  Cell \u001b[0;32mIn[25], line 1\u001b[0;36m\u001b[0m\n\u001b[0;31m    if (5<3):\u001b[0m\n\u001b[0m             ^\u001b[0m\n\u001b[0;31mSyntaxError\u001b[0m\u001b[0;31m:\u001b[0m incomplete input\n"
     ]
    }
   ],
   "source": [
    "if (5<3):"
   ]
  },
  {
   "cell_type": "code",
   "execution_count": 26,
   "id": "cdc37d69",
   "metadata": {},
   "outputs": [
    {
     "ename": "IndentationError",
     "evalue": "unexpected indent (1129705033.py, line 3)",
     "output_type": "error",
     "traceback": [
      "\u001b[0;36m  Cell \u001b[0;32mIn[26], line 3\u001b[0;36m\u001b[0m\n\u001b[0;31m    print(\"hj\")\u001b[0m\n\u001b[0m    ^\u001b[0m\n\u001b[0;31mIndentationError\u001b[0m\u001b[0;31m:\u001b[0m unexpected indent\n"
     ]
    }
   ],
   "source": [
    "if (5<3):\n",
    "    print(\"hek\")\n",
    "        print(\"hj\")"
   ]
  },
  {
   "cell_type": "code",
   "execution_count": 27,
   "id": "3e9cec53",
   "metadata": {},
   "outputs": [
    {
     "ename": "ModuleNotFoundError",
     "evalue": "No module named 'dotknow'",
     "output_type": "error",
     "traceback": [
      "\u001b[0;31m---------------------------------------------------------------------------\u001b[0m",
      "\u001b[0;31mModuleNotFoundError\u001b[0m                       Traceback (most recent call last)",
      "Cell \u001b[0;32mIn[27], line 1\u001b[0m\n\u001b[0;32m----> 1\u001b[0m \u001b[38;5;28;01mimport\u001b[39;00m \u001b[38;5;21;01mdotknow\u001b[39;00m\n",
      "\u001b[0;31mModuleNotFoundError\u001b[0m: No module named 'dotknow'"
     ]
    }
   ],
   "source": [
    "import dotknow"
   ]
  },
  {
   "cell_type": "code",
   "execution_count": 28,
   "id": "8926b1ed",
   "metadata": {},
   "outputs": [
    {
     "ename": "AttributeError",
     "evalue": "'str' object has no attribute 'sort'",
     "output_type": "error",
     "traceback": [
      "\u001b[0;31m---------------------------------------------------------------------------\u001b[0m",
      "\u001b[0;31mAttributeError\u001b[0m                            Traceback (most recent call last)",
      "Cell \u001b[0;32mIn[28], line 1\u001b[0m\n\u001b[0;32m----> 1\u001b[0m \u001b[38;5;124;43m\"\u001b[39;49m\u001b[38;5;124;43mdata science\u001b[39;49m\u001b[38;5;124;43m\"\u001b[39;49m\u001b[38;5;241;43m.\u001b[39;49m\u001b[43msort\u001b[49m()\n",
      "\u001b[0;31mAttributeError\u001b[0m: 'str' object has no attribute 'sort'"
     ]
    }
   ],
   "source": [
    "\"data science\".sort()"
   ]
  },
  {
   "cell_type": "code",
   "execution_count": 29,
   "id": "3b3f9d25",
   "metadata": {},
   "outputs": [
    {
     "ename": "IndexError",
     "evalue": "list index out of range",
     "output_type": "error",
     "traceback": [
      "\u001b[0;31m---------------------------------------------------------------------------\u001b[0m",
      "\u001b[0;31mIndexError\u001b[0m                                Traceback (most recent call last)",
      "Cell \u001b[0;32mIn[29], line 2\u001b[0m\n\u001b[1;32m      1\u001b[0m lst \u001b[38;5;241m=\u001b[39m [\u001b[38;5;241m1\u001b[39m,\u001b[38;5;241m23\u001b[39m,\u001b[38;5;241m4\u001b[39m]\n\u001b[0;32m----> 2\u001b[0m \u001b[38;5;28mprint\u001b[39m(\u001b[43mlst\u001b[49m\u001b[43m[\u001b[49m\u001b[38;5;241;43m5\u001b[39;49m\u001b[43m]\u001b[49m)\n",
      "\u001b[0;31mIndexError\u001b[0m: list index out of range"
     ]
    }
   ],
   "source": [
    "lst = [1,23,4]\n",
    "print(lst[5])"
   ]
  },
  {
   "cell_type": "code",
   "execution_count": 30,
   "id": "0f1e88b4",
   "metadata": {},
   "outputs": [
    {
     "ename": "TypeError",
     "evalue": "can only concatenate str (not \"int\") to str",
     "output_type": "error",
     "traceback": [
      "\u001b[0;31m---------------------------------------------------------------------------\u001b[0m",
      "\u001b[0;31mTypeError\u001b[0m                                 Traceback (most recent call last)",
      "Cell \u001b[0;32mIn[30], line 1\u001b[0m\n\u001b[0;32m----> 1\u001b[0m \u001b[38;5;124;43m\"\u001b[39;49m\u001b[38;5;124;43mhello\u001b[39;49m\u001b[38;5;124;43m\"\u001b[39;49m\u001b[38;5;241;43m+\u001b[39;49m\u001b[38;5;241;43m5\u001b[39;49m\n",
      "\u001b[0;31mTypeError\u001b[0m: can only concatenate str (not \"int\") to str"
     ]
    }
   ],
   "source": [
    "\"hello\"+5"
   ]
  },
  {
   "cell_type": "code",
   "execution_count": 31,
   "id": "c7cd0f68",
   "metadata": {},
   "outputs": [],
   "source": [
    "#dir()-- gives you all methods/function associated with one function"
   ]
  },
  {
   "cell_type": "code",
   "execution_count": 32,
   "id": "f00735f7",
   "metadata": {},
   "outputs": [
    {
     "name": "stdout",
     "output_type": "stream",
     "text": [
      "['ArithmeticError', 'AssertionError', 'AttributeError', 'BaseException', 'BaseExceptionGroup', 'BlockingIOError', 'BrokenPipeError', 'BufferError', 'BytesWarning', 'ChildProcessError', 'ConnectionAbortedError', 'ConnectionError', 'ConnectionRefusedError', 'ConnectionResetError', 'DeprecationWarning', 'EOFError', 'Ellipsis', 'EncodingWarning', 'EnvironmentError', 'Exception', 'ExceptionGroup', 'False', 'FileExistsError', 'FileNotFoundError', 'FloatingPointError', 'FutureWarning', 'GeneratorExit', 'IOError', 'ImportError', 'ImportWarning', 'IndentationError', 'IndexError', 'InterruptedError', 'IsADirectoryError', 'KeyError', 'KeyboardInterrupt', 'LookupError', 'MemoryError', 'ModuleNotFoundError', 'NameError', 'None', 'NotADirectoryError', 'NotImplemented', 'NotImplementedError', 'OSError', 'OverflowError', 'PendingDeprecationWarning', 'PermissionError', 'ProcessLookupError', 'RecursionError', 'ReferenceError', 'ResourceWarning', 'RuntimeError', 'RuntimeWarning', 'StopAsyncIteration', 'StopIteration', 'SyntaxError', 'SyntaxWarning', 'SystemError', 'SystemExit', 'TabError', 'TimeoutError', 'True', 'TypeError', 'UnboundLocalError', 'UnicodeDecodeError', 'UnicodeEncodeError', 'UnicodeError', 'UnicodeTranslateError', 'UnicodeWarning', 'UserWarning', 'ValueError', 'Warning', 'ZeroDivisionError', '__IPYTHON__', '__build_class__', '__debug__', '__doc__', '__import__', '__loader__', '__name__', '__package__', '__spec__', 'abs', 'aiter', 'all', 'anext', 'any', 'ascii', 'bin', 'bool', 'breakpoint', 'bytearray', 'bytes', 'callable', 'chr', 'classmethod', 'compile', 'complex', 'copyright', 'credits', 'delattr', 'dict', 'dir', 'display', 'divmod', 'enumerate', 'eval', 'exec', 'execfile', 'filter', 'float', 'format', 'frozenset', 'get_ipython', 'getattr', 'globals', 'hasattr', 'hash', 'help', 'hex', 'id', 'input', 'int', 'isinstance', 'issubclass', 'iter', 'len', 'license', 'list', 'locals', 'map', 'max', 'memoryview', 'min', 'next', 'object', 'oct', 'open', 'ord', 'pow', 'print', 'property', 'range', 'repr', 'reversed', 'round', 'runfile', 'set', 'setattr', 'slice', 'sorted', 'staticmethod', 'str', 'sum', 'super', 'tuple', 'type', 'vars', 'zip']\n"
     ]
    }
   ],
   "source": [
    "print(dir(__builtins__))"
   ]
  },
  {
   "cell_type": "code",
   "execution_count": 34,
   "id": "7978ec59",
   "metadata": {},
   "outputs": [],
   "source": [
    "import keyword"
   ]
  },
  {
   "cell_type": "code",
   "execution_count": 35,
   "id": "a503ecc1",
   "metadata": {},
   "outputs": [
    {
     "name": "stdout",
     "output_type": "stream",
     "text": [
      "['False', 'None', 'True', 'and', 'as', 'assert', 'async', 'await', 'break', 'class', 'continue', 'def', 'del', 'elif', 'else', 'except', 'finally', 'for', 'from', 'global', 'if', 'import', 'in', 'is', 'lambda', 'nonlocal', 'not', 'or', 'pass', 'raise', 'return', 'try', 'while', 'with', 'yield']\n"
     ]
    }
   ],
   "source": [
    "print(keyword.kwlist)"
   ]
  },
  {
   "cell_type": "code",
   "execution_count": 36,
   "id": "db369a7e",
   "metadata": {},
   "outputs": [
    {
     "name": "stdout",
     "output_type": "stream",
     "text": [
      "3\n",
      "0\n"
     ]
    },
    {
     "ename": "ZeroDivisionError",
     "evalue": "division by zero",
     "output_type": "error",
     "traceback": [
      "\u001b[0;31m---------------------------------------------------------------------------\u001b[0m",
      "\u001b[0;31mZeroDivisionError\u001b[0m                         Traceback (most recent call last)",
      "Cell \u001b[0;32mIn[36], line 3\u001b[0m\n\u001b[1;32m      1\u001b[0m a\u001b[38;5;241m=\u001b[39m\u001b[38;5;28mint\u001b[39m(\u001b[38;5;28minput\u001b[39m())\n\u001b[1;32m      2\u001b[0m b\u001b[38;5;241m=\u001b[39m\u001b[38;5;28mint\u001b[39m(\u001b[38;5;28minput\u001b[39m())\n\u001b[0;32m----> 3\u001b[0m \u001b[38;5;28mprint\u001b[39m(\u001b[43ma\u001b[49m\u001b[38;5;241;43m/\u001b[39;49m\u001b[43mb\u001b[49m)\n\u001b[1;32m      5\u001b[0m \u001b[38;5;28mprint\u001b[39m (\u001b[38;5;124m\"\u001b[39m\u001b[38;5;124m100 lines of code\u001b[39m\u001b[38;5;124m\"\u001b[39m)\n",
      "\u001b[0;31mZeroDivisionError\u001b[0m: division by zero"
     ]
    }
   ],
   "source": [
    "a=int(input())\n",
    "b=int(input())\n",
    "\n",
    "print(a/b)\n",
    "\n",
    "print (\"100 lines of code\")"
   ]
  },
  {
   "cell_type": "markdown",
   "id": "e4a9be36",
   "metadata": {},
   "source": [
    "# Exception\n",
    "\n",
    "it is class containig all exceptions"
   ]
  },
  {
   "cell_type": "code",
   "execution_count": 37,
   "id": "f144e68f",
   "metadata": {},
   "outputs": [
    {
     "name": "stdout",
     "output_type": "stream",
     "text": [
      "4\n",
      "0\n",
      "wrong input\n",
      "100 lines of code\n"
     ]
    }
   ],
   "source": [
    "a=int(input())\n",
    "b=int(input())\n",
    "try:\n",
    "    \n",
    "    print(a/b)\n",
    "except:\n",
    "    print(\"wrong input\")\n",
    "    \n",
    "print (\"100 lines of code\")"
   ]
  },
  {
   "cell_type": "code",
   "execution_count": 38,
   "id": "5e106fc0",
   "metadata": {},
   "outputs": [
    {
     "name": "stdout",
     "output_type": "stream",
     "text": [
      "5\n",
      "2\n",
      "2.5\n",
      "100 lines of code\n"
     ]
    }
   ],
   "source": [
    "a=int(input())\n",
    "b=int(input())\n",
    "try:\n",
    "    \n",
    "    print(a/b)\n",
    "except:\n",
    "    print(\"wrong input\")\n",
    "    \n",
    "print (\"100 lines of code\")"
   ]
  },
  {
   "cell_type": "code",
   "execution_count": 41,
   "id": "f4737a50",
   "metadata": {},
   "outputs": [
    {
     "name": "stdout",
     "output_type": "stream",
     "text": [
      "A\n",
      "B\n",
      "5.0\n",
      "ce\n",
      "can only concatenate str (not \"int\") to str\n",
      "100 line of code\n"
     ]
    }
   ],
   "source": [
    "try:\n",
    "    print(\"A\")\n",
    "    print(\"B\")\n",
    "    print(5/1)\n",
    "    print(\"ce\")\n",
    "    print(\"hello\"+4)\n",
    "    \n",
    "except Exception as e:\n",
    "    print(e)\n",
    "    \n",
    "print(\"100 line of code\")    \n",
    "    \n",
    "    "
   ]
  },
  {
   "cell_type": "code",
   "execution_count": 44,
   "id": "05c91b74",
   "metadata": {},
   "outputs": [],
   "source": [
    "import sys"
   ]
  },
  {
   "cell_type": "code",
   "execution_count": 45,
   "id": "0a85f68a",
   "metadata": {},
   "outputs": [
    {
     "name": "stdout",
     "output_type": "stream",
     "text": [
      "2.5\n",
      "++++++++++++++++++++++++++++++++++++++++++++++++++\n",
      "division by zero\n",
      "(<class 'ZeroDivisionError'>, ZeroDivisionError('division by zero'), <traceback object at 0x107441a00>)\n",
      "++++++++++++++++++++++++++++++++++++++++++++++++++\n",
      "invalid literal for int() with base 10: 'hello'\n",
      "(<class 'ValueError'>, ValueError(\"invalid literal for int() with base 10: 'hello'\"), <traceback object at 0x107441a00>)\n",
      "++++++++++++++++++++++++++++++++++++++++++++++++++\n",
      "int() argument must be a string, a bytes-like object or a real number, not 'NoneType'\n",
      "(<class 'TypeError'>, TypeError(\"int() argument must be a string, a bytes-like object or a real number, not 'NoneType'\"), <traceback object at 0x107441a00>)\n",
      "++++++++++++++++++++++++++++++++++++++++++++++++++\n",
      "100 line of code\n"
     ]
    }
   ],
   "source": [
    "lst = [2,0,\"hello\", None]\n",
    "\n",
    "for ele in lst:\n",
    "    try:\n",
    "        ele = int (ele)\n",
    "        print(5/ele)\n",
    "        \n",
    "    except Exception as e:\n",
    "        print(e)\n",
    "        print(sys.exc_info())\n",
    "        \n",
    "    print (\"+\"*50) \n",
    "    \n",
    "print(\"100 line of code\")    "
   ]
  },
  {
   "cell_type": "code",
   "execution_count": 47,
   "id": "74486493",
   "metadata": {},
   "outputs": [
    {
     "name": "stdout",
     "output_type": "stream",
     "text": [
      "2.5\n",
      "--------------------------------------------------\n",
      "dont divide by zero:  division by zero\n",
      "--------------------------------------------------\n",
      "value error occured : invalid literal for int() with base 10: 'hello'\n",
      "--------------------------------------------------\n",
      "int() argument must be a string, a bytes-like object or a real number, not 'NoneType'\n",
      "--------------------------------------------------\n",
      "100 line of code\n"
     ]
    }
   ],
   "source": [
    "lst = [2,0,\"hello\", None]\n",
    "\n",
    "for ele in lst:\n",
    "    try:\n",
    "        ele = int (ele)\n",
    "        print(5/ele)\n",
    "    \n",
    "    except ValueError as e:\n",
    "        print (\"value error occured :\", e)\n",
    "    except ZeroDivisionError as e:\n",
    "        print(\"dont divide by zero: \", e)\n",
    "    except Exception as e:\n",
    "        print(e)\n",
    "       # print(sys.exc_info())\n",
    "        \n",
    "    print (\"-\"*50) \n",
    "    \n",
    "print(\"100 line of code\")   "
   ]
  },
  {
   "cell_type": "code",
   "execution_count": 48,
   "id": "6f3fb5b8",
   "metadata": {},
   "outputs": [
    {
     "ename": "Exception",
     "evalue": "This is custom Exception",
     "output_type": "error",
     "traceback": [
      "\u001b[0;31m---------------------------------------------------------------------------\u001b[0m",
      "\u001b[0;31mException\u001b[0m                                 Traceback (most recent call last)",
      "Cell \u001b[0;32mIn[48], line 2\u001b[0m\n\u001b[1;32m      1\u001b[0m \u001b[38;5;66;03m## raise coustom exception\u001b[39;00m\n\u001b[0;32m----> 2\u001b[0m \u001b[38;5;28;01mraise\u001b[39;00m \u001b[38;5;167;01mException\u001b[39;00m(\u001b[38;5;124m\"\u001b[39m\u001b[38;5;124mThis is custom Exception\u001b[39m\u001b[38;5;124m\"\u001b[39m)\n",
      "\u001b[0;31mException\u001b[0m: This is custom Exception"
     ]
    }
   ],
   "source": [
    "## raise coustom exception\n",
    "raise Exception(\"This is custom Exception\")"
   ]
  },
  {
   "cell_type": "code",
   "execution_count": 51,
   "id": "a9049d0f",
   "metadata": {},
   "outputs": [
    {
     "name": "stdout",
     "output_type": "stream",
     "text": [
      "g\n",
      "Name cant be less than 2 char\n"
     ]
    }
   ],
   "source": [
    "try:\n",
    "    name = input()\n",
    "    if len(name)<2:\n",
    "        raise Exception (\"Name cant be less than 2 char\")\n",
    "                    \n",
    "            \n",
    "except Exception as e:\n",
    "    print(e)"
   ]
  },
  {
   "cell_type": "code",
   "execution_count": 53,
   "id": "07473fc1",
   "metadata": {},
   "outputs": [
    {
     "name": "stdout",
     "output_type": "stream",
     "text": [
      "g\n"
     ]
    },
    {
     "ename": "Exception",
     "evalue": "Name cant be less than 2 char",
     "output_type": "error",
     "traceback": [
      "\u001b[0;31m---------------------------------------------------------------------------\u001b[0m",
      "\u001b[0;31mException\u001b[0m                                 Traceback (most recent call last)",
      "Cell \u001b[0;32mIn[53], line 3\u001b[0m\n\u001b[1;32m      1\u001b[0m name \u001b[38;5;241m=\u001b[39m \u001b[38;5;28minput\u001b[39m()\n\u001b[1;32m      2\u001b[0m \u001b[38;5;28;01mif\u001b[39;00m \u001b[38;5;28mlen\u001b[39m(name)\u001b[38;5;241m<\u001b[39m\u001b[38;5;241m2\u001b[39m:\n\u001b[0;32m----> 3\u001b[0m     \u001b[38;5;28;01mraise\u001b[39;00m \u001b[38;5;167;01mException\u001b[39;00m (\u001b[38;5;124m\"\u001b[39m\u001b[38;5;124mName cant be less than 2 char\u001b[39m\u001b[38;5;124m\"\u001b[39m)\n",
      "\u001b[0;31mException\u001b[0m: Name cant be less than 2 char"
     ]
    }
   ],
   "source": [
    "name = input()\n",
    "if len(name)<2:\n",
    "    raise Exception (\"Name cant be less than 2 char\")"
   ]
  },
  {
   "cell_type": "code",
   "execution_count": 55,
   "id": "9f616f6d",
   "metadata": {},
   "outputs": [
    {
     "name": "stdout",
     "output_type": "stream",
     "text": [
      "j\n",
      "Name cant be less than 2 char\n",
      "finally--> I'm always exceuted 100% of times\n"
     ]
    }
   ],
   "source": [
    "try:\n",
    "    name = input()\n",
    "    if len(name)<2:\n",
    "        raise Exception (\"Name cant be less than 2 char\")\n",
    "except Exception as e:\n",
    "    print(e)\n",
    "finally:\n",
    "    print(\"finally--> I'm always exceuted 100% of times\")\n"
   ]
  },
  {
   "cell_type": "code",
   "execution_count": 57,
   "id": "fdd45cc3",
   "metadata": {},
   "outputs": [
    {
     "name": "stdout",
     "output_type": "stream",
     "text": [
      "g\n",
      "Name cant be less than 2 char\n"
     ]
    }
   ],
   "source": [
    "try:\n",
    "    name = input()\n",
    "    if len(name)<2:\n",
    "        raise Exception (\"Name cant be less than 2 char\")\n",
    "except Exception as e:\n",
    "    print(e)\n",
    "else:\n",
    "    print(\"else block\")"
   ]
  },
  {
   "cell_type": "code",
   "execution_count": 58,
   "id": "928ee626",
   "metadata": {},
   "outputs": [
    {
     "name": "stdout",
     "output_type": "stream",
     "text": [
      "hh\n",
      "else block\n"
     ]
    }
   ],
   "source": [
    "try:\n",
    "    name = input()\n",
    "    if len(name)<2:\n",
    "        raise Exception (\"Name cant be less than 2 char\")\n",
    "except Exception as e:\n",
    "    print(e)\n",
    "else:\n",
    "    print(\"else block\")"
   ]
  },
  {
   "cell_type": "code",
   "execution_count": null,
   "id": "2f0cdfd7",
   "metadata": {},
   "outputs": [],
   "source": []
  },
  {
   "cell_type": "code",
   "execution_count": 61,
   "id": "f2ccc55c",
   "metadata": {},
   "outputs": [],
   "source": [
    "def remove_duplicate_words(data):\n",
    "    lst = data.split(\" \")\n",
    "    words = list(set(lst))\n",
    "    return \" \".join(words)"
   ]
  },
  {
   "cell_type": "code",
   "execution_count": 62,
   "id": "b4f44422",
   "metadata": {},
   "outputs": [
    {
     "data": {
      "text/plain": [
       "'world be change to you see the in wish'"
      ]
     },
     "execution_count": 62,
     "metadata": {},
     "output_type": "execute_result"
    }
   ],
   "source": [
    "remove_duplicate_words(\"be the change you wish to see in the world\")"
   ]
  },
  {
   "cell_type": "code",
   "execution_count": 63,
   "id": "88308c57",
   "metadata": {},
   "outputs": [],
   "source": [
    "dic = {'a':10, 'b':35}"
   ]
  },
  {
   "cell_type": "code",
   "execution_count": 84,
   "id": "d1a4626c",
   "metadata": {},
   "outputs": [
    {
     "name": "stdout",
     "output_type": "stream",
     "text": [
      "(0, 'a')\n",
      "(1, 'b')\n",
      "(2, 'c')\n",
      "(3, 'd')\n",
      "100 a\n",
      "101 b\n",
      "102 c\n",
      "103 d\n",
      "0\n",
      "b\n",
      "1\n",
      "a\n",
      "2\n",
      "d\n",
      "3\n",
      "c\n"
     ]
    }
   ],
   "source": [
    "for key in enumerate(['a','b','c','d']):\n",
    "    print(key)\n",
    "    \n",
    "for key,value in enumerate(['a','b','c','d'],100):\n",
    "    print(key,value)   \n",
    "    \n",
    "for key,value in enumerate({'a','b','c','d'}):\n",
    "    print(key)\n",
    "    print(value)\n",
    " "
   ]
  },
  {
   "cell_type": "code",
   "execution_count": 68,
   "id": "9b14c778",
   "metadata": {},
   "outputs": [
    {
     "data": {
      "text/plain": [
       "['/Users/ashutosh/Desktop/Directory/python/PythonCode/JupyterNotebook',\n",
       " '/Library/Frameworks/Python.framework/Versions/3.11/lib/python311.zip',\n",
       " '/Library/Frameworks/Python.framework/Versions/3.11/lib/python3.11',\n",
       " '/Library/Frameworks/Python.framework/Versions/3.11/lib/python3.11/lib-dynload',\n",
       " '',\n",
       " '/Library/Frameworks/Python.framework/Versions/3.11/lib/python3.11/site-packages']"
      ]
     },
     "execution_count": 68,
     "metadata": {},
     "output_type": "execute_result"
    }
   ],
   "source": [
    "sys.path"
   ]
  },
  {
   "cell_type": "code",
   "execution_count": 76,
   "id": "c2034258",
   "metadata": {},
   "outputs": [
    {
     "data": {
      "text/plain": [
       "<module 'posixpath' (frozen)>"
      ]
     },
     "execution_count": 76,
     "metadata": {},
     "output_type": "execute_result"
    }
   ],
   "source": [
    "import os\n",
    "os.path"
   ]
  },
  {
   "cell_type": "code",
   "execution_count": null,
   "id": "81a17892",
   "metadata": {},
   "outputs": [],
   "source": []
  }
 ],
 "metadata": {
  "kernelspec": {
   "display_name": "Python 3 (ipykernel)",
   "language": "python",
   "name": "python3"
  },
  "language_info": {
   "codemirror_mode": {
    "name": "ipython",
    "version": 3
   },
   "file_extension": ".py",
   "mimetype": "text/x-python",
   "name": "python",
   "nbconvert_exporter": "python",
   "pygments_lexer": "ipython3",
   "version": "3.11.1"
  }
 },
 "nbformat": 4,
 "nbformat_minor": 5
}
