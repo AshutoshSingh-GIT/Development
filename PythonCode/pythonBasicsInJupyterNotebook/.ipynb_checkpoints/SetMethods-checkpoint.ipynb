{
 "cells": [
  {
   "cell_type": "code",
   "execution_count": 3,
   "id": "d9c51ca2",
   "metadata": {},
   "outputs": [
    {
     "name": "stdout",
     "output_type": "stream",
     "text": [
      "{1, 2, 3, 5, 7, 9}\n",
      "<class 'set'>\n",
      "{1, 2, 3, 5, 6, 7, 9}\n"
     ]
    }
   ],
   "source": [
    "#Unordered, Mutable\n",
    "S = {1,2,3,3,2,5,7,7,9,1}\n",
    "print(S)\n",
    "print(type(S))\n",
    "S.add(6)\n",
    "print(S)\n"
   ]
  },
  {
   "cell_type": "code",
   "execution_count": 6,
   "id": "a143facb",
   "metadata": {},
   "outputs": [
    {
     "name": "stdout",
     "output_type": "stream",
     "text": [
      "{1, 2, 3, 5, 6, 7, 9}\n"
     ]
    }
   ],
   "source": [
    "#add()\tAdds an element to the set\n",
    "S.add(6)\n",
    "S.add(6)\n",
    "S.add(6)\n",
    "S.add(6)\n",
    "print(S)\n",
    "# clear()\tRemoves all the elements from the set\n",
    "# copy()\tReturns a copy of the set"
   ]
  },
  {
   "cell_type": "code",
   "execution_count": 14,
   "id": "a671bb57",
   "metadata": {},
   "outputs": [],
   "source": [
    "#remove()\tRemoves the specified element    \n",
    "S.remove(1)\n",
    "#pop()\tRemoves an element from the set\n",
    "S.pop()\n",
    "#discard()\tRemove the specified item, does not raise error if specified element is missing\n",
    "S.discard(10)"
   ]
  },
  {
   "cell_type": "code",
   "execution_count": 22,
   "id": "c40de0b5",
   "metadata": {},
   "outputs": [
    {
     "name": "stdout",
     "output_type": "stream",
     "text": [
      "{1, 2, 3, 4, 5, 6, 7, 9, '4'}\n"
     ]
    }
   ],
   "source": [
    "#Insert \n",
    "#update(set) method updates the current set, by adding items from another set (or any other iterable). If an item is present in both sets, only one appearance of this item will be present in the updated set.\n",
    "S.update({1,2,5,6,9,3})\n",
    "S.update((4,4,7))\n",
    "print(S)"
   ]
  },
  {
   "cell_type": "code",
   "execution_count": 30,
   "id": "ea12f7cc",
   "metadata": {},
   "outputs": [
    {
     "name": "stdout",
     "output_type": "stream",
     "text": [
      "{1, 2, 3}\n",
      "{4}\n",
      "{1, 2, 3, 4, 5, 6}\n",
      "{1, 2, 3, 5, 6}\n"
     ]
    }
   ],
   "source": [
    "S1={1,2,3,4}\n",
    "S2={4,5,6}\n",
    "# difference()\tReturns a set containing the difference between two or more sets (A-B)\n",
    "print(S1.difference(S2))\n",
    "# intersection()\tReturns a set, that is the intersection of two or more sets\n",
    "print(S1.intersection(S2))\n",
    "# union()\tReturn a set containing the union of sets\n",
    "print(S1.union(S2))\n",
    "# symmetric_difference()\tReturns a set with the symmetric differences of two sets \n",
    "print(S1.symmetric_difference(S2))"
   ]
  },
  {
   "cell_type": "code",
   "execution_count": 49,
   "id": "ad348559",
   "metadata": {},
   "outputs": [
    {
     "name": "stdout",
     "output_type": "stream",
     "text": [
      "None\n"
     ]
    }
   ],
   "source": [
    "# difference_update()\tRemoves the items in this set that are also included in another, specified set\n",
    "print(S1.difference_update(S2))\n",
    "# intersection_update()\tRemoves the items in this set that are not present in other, specified set(s)\n",
    "# symmetric_difference_update()\tinserts the symmetric differences from this set and another"
   ]
  },
  {
   "cell_type": "code",
   "execution_count": 46,
   "id": "56ed6e17",
   "metadata": {},
   "outputs": [
    {
     "name": "stdout",
     "output_type": "stream",
     "text": [
      "False\n",
      "True\n",
      "True\n",
      "False\n",
      "True\n",
      "False\n"
     ]
    }
   ],
   "source": [
    "S3={3,5,4,6,7,8}\n",
    "S4={5,7}\n",
    "S5={9}\n",
    "# isdisjoint()\tReturns whether two sets have a intersection or not\n",
    "print(S3.isdisjoint(S4))\n",
    "print(S4.isdisjoint(S5))\n",
    "# issubset()\tReturns whether another set contains this set or not\n",
    "print(S4.issubset(S3))\n",
    "print(S3.issubset(S4))\n",
    "# issuperset()\tReturns whether this set contains another set or not\n",
    "print(S3.issuperset(S4))\n",
    "print(S4.issuperset(S3))"
   ]
  },
  {
   "cell_type": "code",
   "execution_count": null,
   "id": "54ea142b",
   "metadata": {},
   "outputs": [],
   "source": []
  }
 ],
 "metadata": {
  "kernelspec": {
   "display_name": "Python 3 (ipykernel)",
   "language": "python",
   "name": "python3"
  },
  "language_info": {
   "codemirror_mode": {
    "name": "ipython",
    "version": 3
   },
   "file_extension": ".py",
   "mimetype": "text/x-python",
   "name": "python",
   "nbconvert_exporter": "python",
   "pygments_lexer": "ipython3",
   "version": "3.11.1"
  }
 },
 "nbformat": 4,
 "nbformat_minor": 5
}
