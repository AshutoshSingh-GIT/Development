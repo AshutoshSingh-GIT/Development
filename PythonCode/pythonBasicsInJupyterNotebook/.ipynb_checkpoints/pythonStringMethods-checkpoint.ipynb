{
 "cells": [
  {
   "cell_type": "code",
   "execution_count": 4,
   "id": "05c6f059",
   "metadata": {},
   "outputs": [
    {
     "name": "stdout",
     "output_type": "stream",
     "text": [
      " hello, how are you doing today?  \n"
     ]
    }
   ],
   "source": [
    "#2. casefold() Converts string into lower case\n",
    "S=\" HELLO, how ARE you doING todaY?  \"\n",
    "print(S.capitalize())"
   ]
  },
  {
   "cell_type": "code",
   "execution_count": 14,
   "id": "61036bbb",
   "metadata": {},
   "outputs": [
    {
     "name": "stdout",
     "output_type": "stream",
     "text": [
      "00000000000000000000000000000000000000000000000000000000000000000000000000000000000000000000000000000000000000000000000000000000000000000000000000000000000000000000000000000000000000000000000000000000000000000000000000000000000000000000000000000000000000000000000000000000000000000000000000000000000000000000000000000000000000000000000000000000000000000000000000000000000000000000000000000000000000000000000000000000000000000000000000000000000000000000000000000000000000000000000  HELLO, how ARE you doING todaY         ?00000000000000000000000000000000000000000000000000000000000000000000000000000000000000000000000000000000000000000000000000000000000000000000000000000000000000000000000000000000000000000000000000000000000000000000000000000000000000000000000000000000000000000000000000000000000000000000000000000000000000000000000000000000000000000000000000000000000000000000000000000000000000000000000000000000000000000000000000000000000000000000000000000000000000000000000000000000000000000000000\n"
     ]
    }
   ],
   "source": [
    "#3. center(length , character) Returns a centered string\n",
    "S=\"  HELLO, how ARE you doING todaY         ?\"\n",
    "print(S.center(1000, \"0\"))"
   ]
  },
  {
   "cell_type": "code",
   "execution_count": 19,
   "id": "bf84cfab",
   "metadata": {},
   "outputs": [
    {
     "name": "stdout",
     "output_type": "stream",
     "text": [
      "2\n",
      "4354205152\n",
      "4469430704\n"
     ]
    }
   ],
   "source": [
    "#4. count(sub[, start[, end])\tReturns the number of times a specified value occurs in a string\n",
    "S=\"  HELLO, how ARE you doING todaY         ?\"\n",
    "print(S.count('o', 2, 20))\n",
    "print(id(S.count('o', 2, 20)))\n",
    "print(id(S))"
   ]
  },
  {
   "cell_type": "code",
   "execution_count": 157,
   "id": "24ef9d14",
   "metadata": {},
   "outputs": [
    {
     "name": "stdout",
     "output_type": "stream",
     "text": [
      "True\n",
      "True\n"
     ]
    }
   ],
   "source": [
    "#5. endswith(suffix[, start[, end]]) Returns true if the string ends with the specified value\n",
    "S=\"  HELLO, how ARE you doING todaY         ?\"\n",
    "print(S.endswith('?',1,100))\n",
    "# startswith()\tReturns true if the string starts with the specified value\n",
    "S=\"HELLO, how ARE you doING todaY         ?\"\n",
    "print(S.startswith('H',0,10))"
   ]
  },
  {
   "cell_type": "code",
   "execution_count": 28,
   "id": "3fdf6764",
   "metadata": {},
   "outputs": [
    {
     "name": "stdout",
     "output_type": "stream",
     "text": [
      "HELLO, how ARE you doING todaY?\n"
     ]
    }
   ],
   "source": [
    "#6.expandtabs()\tSets the tab size of the string\n",
    "S=\"HELLO, how ARE you doING todaY?\"\n",
    "print(S.expandtabs(2000))"
   ]
  },
  {
   "cell_type": "code",
   "execution_count": 38,
   "id": "7ce260a2",
   "metadata": {},
   "outputs": [
    {
     "name": "stdout",
     "output_type": "stream",
     "text": [
      "b'HELLO, how ARE you doING todaY?'\n"
     ]
    }
   ],
   "source": [
    "#7. encode()\tReturns an encoded version of the string\n",
    "S=\"HELLO, how ARE you doING todaY?\"\n",
    "print(S.encode(encoding='utf8'))"
   ]
  },
  {
   "cell_type": "code",
   "execution_count": 182,
   "id": "ceb4a4f8",
   "metadata": {},
   "outputs": [
    {
     "name": "stdout",
     "output_type": "stream",
     "text": [
      "8\n",
      "-1\n",
      "15\n"
     ]
    }
   ],
   "source": [
    "#8. find(sub[, start[, end]])\tSearches the string for a specified value and returns the position of where it was found, Else -1\n",
    "S=\"HELLO, how ARE you doING todaY?\"\n",
    "print(S.find('o',8,10))\n",
    "print(S.find('y',8,10))\n",
    "# rfind()\tSearches the string for a specified value and returns the last position of where it was found\n",
    "S=\"HELLO, how ARE you doING todaY?\"\n",
    "print(S.rfind('y',0,28))"
   ]
  },
  {
   "cell_type": "code",
   "execution_count": 184,
   "id": "417a94c0",
   "metadata": {},
   "outputs": [
    {
     "name": "stdout",
     "output_type": "stream",
     "text": [
      "8\n",
      "8\n"
     ]
    }
   ],
   "source": [
    "#9. index(sub[, start[, end]])\tSearches the string for a specified value and returns the position of where it was found, Else error\n",
    "S=\"HELLO, how ARE you doING todaY?\"\n",
    "print(S.index('o',8,10))\n",
    "#print(S.index('y',8,10))\n",
    "# rindex()Searches the string for a specified value and returns the last position of where it was found\n",
    "S=\"HELLO, how ARE you doING todaY?\"\n",
    "print(S.rindex('o',8,10))\n",
    "#print(S.rindex('y',8,10))"
   ]
  },
  {
   "cell_type": "code",
   "execution_count": 89,
   "id": "3e9e268f",
   "metadata": {},
   "outputs": [
    {
     "name": "stdout",
     "output_type": "stream",
     "text": [
      "For only 49.00 dollars!\n",
      "The rectangle with length 5 and breadth 4 has area 20\n",
      "The rectangle with length 6 and breadth 4 has area A\n",
      "The rectangle with length 6 and breadth 4 has area A\n",
      "The multiplication value of 30\n",
      "The rectangle with length 6 and breadth 4 has area 24\n"
     ]
    }
   ],
   "source": [
    "#10. format(value1, value2, ...) Formats specified values inside a placeholder a string\n",
    "txt = \"For only {price:.2f} dollars!\"\n",
    "print(txt.format(price = 49))\n",
    "l=5\n",
    "b=4\n",
    "A=l*b\n",
    "print(f\"The rectangle with length {l} and breadth {b} has area {A}\")\n",
    "print(\"The rectangle with length {q} and breadth {p} has area {W}\".format(q=6,p=4,W=\"A\"))\n",
    "print(\"The rectangle with length {} and breadth {} has area {}\".format(6,4,\"A\"))\n",
    "print(\"The multiplication value of\", 6*5)\n",
    "print(\"The rectangle with length {0} and breadth {1} has area {2}\".format(6,4,6*4))\n",
    "\n"
   ]
  },
  {
   "cell_type": "code",
   "execution_count": 95,
   "id": "f87fcccd",
   "metadata": {},
   "outputs": [
    {
     "name": "stdout",
     "output_type": "stream",
     "text": [
      "My name is Ashutosh and I am 25 years old.\n"
     ]
    }
   ],
   "source": [
    "#11. format_map() Formats specified values inside a placeholder a string\n",
    "d = {'name': 'Ashutosh', 'age': 25}\n",
    "print(\"My name is {name} and I am {age} years old.\".format_map(d))"
   ]
  },
  {
   "cell_type": "code",
   "execution_count": 137,
   "id": "3b1053fe",
   "metadata": {},
   "outputs": [
    {
     "name": "stdout",
     "output_type": "stream",
     "text": [
      "True\n",
      "False\n",
      "False\n",
      "True\n",
      "True\n",
      "False\n",
      "True\n",
      "True\n",
      "True\n",
      "True\n",
      "True\n",
      "False\n",
      "False\n",
      "False\n",
      "True\n",
      "False\n",
      "False\n",
      "True\n",
      "True\n",
      "False\n",
      "False\n",
      "True\n",
      "True\n",
      "False\n"
     ]
    }
   ],
   "source": [
    "#12. isalnum()\tReturns True if all characters in the string are alphanumeric\n",
    "S=\"Company12gbddbdjbc\"\n",
    "Y=\"HELL0 yu\"\n",
    "print(S.isalnum())\n",
    "print(Y.isalnum())\n",
    "#isalpha()\tReturns True if all characters in the string are in the alphabet\n",
    "S=\"Company 12 gbddbd jbc\"\n",
    "Y=\"HELLHi\"\n",
    "print(S.isalpha())\n",
    "print(Y.isalpha())\n",
    "#isdecimal()\tReturns True if all characters in the string are decimals\n",
    "S=\"\\u0033\"\n",
    "Y=\"\\u0047\"\n",
    "print(S.isdecimal())\n",
    "print(Y.isdecimal())\n",
    "#isdigit()\tReturns True if all characters in the string are digits\n",
    "a = \"\\u0030\" #unicode for 0\n",
    "b = \"\\u00B2\" #unicode for ²\n",
    "print(a.isdigit())\n",
    "print(b.isdigit())\n",
    "#isascii()\tReturns True if all characters in the string are ascii characters\n",
    "txt = \"Company123\"\n",
    "x = txt.isascii()\n",
    "print(x)\n",
    "#isnumeric()\tReturns True if all characters in the string are numeric\n",
    "a = \"\\u0030\" #unicode for 0\n",
    "b = \"\\u00B2\" #unicode for &sup2;\n",
    "c = \"10km2\"\n",
    "d = \"-1\"\n",
    "e = \"1.5\"\n",
    "print(a.isnumeric())\n",
    "print(b.isnumeric())\n",
    "print(c.isnumeric())\n",
    "print(d.isnumeric())\n",
    "print(e.isnumeric())\n",
    "#islower()\tReturns True if all characters in the string are lower case\n",
    "a = \"hello dear\"\n",
    "b = \"helloDear\"\n",
    "print(a.islower())\n",
    "print(b.islower())\n",
    "#isupper()\tReturns True if all characters in the string are upper case\n",
    "a = \"hello dearD\"\n",
    "b = \"DEQAR\"\n",
    "print(a.isupper())\n",
    "print(b.isupper())\n",
    "#isspace()\tReturns True if all characters in the string are whitespaces\n",
    "a = \"   \"\n",
    "b = \"D  f. \"\n",
    "print(a.isspace())\n",
    "print(b.isspace())\n",
    "#isprintable()\tReturns True if all characters in the string are printable\n",
    "txt = \"Hello!\\n Are you #1?\"\n",
    "print(txt.isprintable())\n",
    "#istitle()\tTrue if all words in a text start with a upper case letter, AND the rest of the word are lower case letters, otherwise False.\n",
    "txt = \"Hello, And Welcome To My World!\"\n",
    "print(txt.istitle())\n",
    "#isidentifier()\tReturns True if the string is an identifier -- A string is considered a valid identifier if it only contains alphanumeric letters (a-z) and (0-9), or underscores (_). A valid identifier cannot start with a number, or contain any spaces.\n",
    "a = \"_1A\"\n",
    "b = \"@As\"\n",
    "print(a.isidentifier())\n",
    "print(b.isidentifier())\n"
   ]
  },
  {
   "cell_type": "code",
   "execution_count": 159,
   "id": "5b837a5c",
   "metadata": {},
   "outputs": [
    {
     "name": "stdout",
     "output_type": "stream",
     "text": [
      "   The quick brown fox jumps over the lazy dog000000000000000000000000000000000000000000000000000000\n",
      "000000000000000000000000000000000000000000000000000000   The quick brown fox jumps over the lazy dog\n"
     ]
    }
   ],
   "source": [
    "#13. ljust(width, fillchar=' ', /)\tReturns a left justified version of the string\n",
    "S=\"   The quick brown fox jumps over the lazy dog\"\n",
    "print(S.ljust(100, '0'))\n",
    "# rjust(width, fillchar=' ', /)\tReturns a right justified version of the string\n",
    "S=\"   The quick brown fox jumps over the lazy dog\"\n",
    "print(S.rjust(100, '0'))"
   ]
  },
  {
   "cell_type": "code",
   "execution_count": 153,
   "id": "b5b52182",
   "metadata": {},
   "outputs": [
    {
     "name": "stdout",
     "output_type": "stream",
     "text": [
      "   THE QUICK BROWN FOX JUMPS OVER THE LAZY DOG\n",
      "   the quick brown fox jumps over the lazy dog\n",
      "tHE qUICK bROWN fOX jUMPS oVER tHE lAZY dOG\n"
     ]
    }
   ],
   "source": [
    "#14. upper() Converts a string into upper case\n",
    "S=\"   The quick brown fox jumps over the lazy dog\"\n",
    "print(S.upper())\n",
    "#lower() Converts a string into lower case\n",
    "S=\"   The quick brown fox jumps over the lazy dog\"\n",
    "print(S.lower())\n",
    "# swapcase()\tSwaps cases, lower case becomes upper case and vice versa\n",
    "S=\"The Quick Brown Fox Jumps Over The Lazy Dog\"\n",
    "print(S.swapcase())"
   ]
  },
  {
   "cell_type": "code",
   "execution_count": 145,
   "id": "e13130a9",
   "metadata": {},
   "outputs": [
    {
     "name": "stdout",
     "output_type": "stream",
     "text": [
      "The quick brown fox   jumps over the lazy dog   \n",
      "   The quick brown fox   jumps over the lazy dog\n",
      "The quick brown fox   jumps over the lazy dog\n"
     ]
    }
   ],
   "source": [
    "#14. lstrip() Returns a left trim version of the string\n",
    "S=\"   The quick brown fox   jumps over the lazy dog   \"\n",
    "print(S.lstrip())\n",
    "#l rstrip() Returns a right trim version of the string\n",
    "S=\"   The quick brown fox   jumps over the lazy dog    \"\n",
    "print(S.rstrip())\n",
    "#l strip() Returns a trim version of the string\n",
    "S=\"   The quick brown fox   jumps over the lazy dog    \"\n",
    "print(S.strip())"
   ]
  },
  {
   "cell_type": "code",
   "execution_count": 146,
   "id": "c47d8fff",
   "metadata": {},
   "outputs": [
    {
     "name": "stdout",
     "output_type": "stream",
     "text": [
      "The Quick Brown Fox Jumps Over The Lazy Dog\n"
     ]
    }
   ],
   "source": [
    "#15. title()\tConverts the first character of each word to upper case\n",
    "S=\"the quick brown fox jumps over the lazy dog\"\n",
    "print(S.title())\n"
   ]
  },
  {
   "cell_type": "code",
   "execution_count": 204,
   "id": "a5fe902a",
   "metadata": {},
   "outputs": [
    {
     "name": "stdout",
     "output_type": "stream",
     "text": [
      "{109: 101, 83: 74, 97: 111}\n",
      "Hi Joe!\n"
     ]
    }
   ],
   "source": [
    "#16. maketrans()\tReturns a translation table to be used in translations\n",
    "#translate()\tReturns a translated string\n",
    "txt = \"Hi Sam!\"\n",
    "x = \"mSa\"\n",
    "y = \"eJo\"\n",
    "mytable = str.maketrans(x, y)\n",
    "print(mytable)\n",
    "print(txt.translate(mytable))"
   ]
  },
  {
   "cell_type": "code",
   "execution_count": 151,
   "id": "79ddf2bd",
   "metadata": {},
   "outputs": [
    {
     "name": "stdout",
     "output_type": "stream",
     "text": [
      "00000000000000000000000000000000000000   The quick brown fox   jumps over the lazy dog    \n"
     ]
    }
   ],
   "source": [
    "#17. zfill()\tFills the string with a specified number of 0 values at the beginning\n",
    "S=\"   The quick brown fox   jumps over the lazy dog    \"\n",
    "print(S.zfill(90))"
   ]
  },
  {
   "cell_type": "code",
   "execution_count": 203,
   "id": "9f8a03cd",
   "metadata": {},
   "outputs": [
    {
     "name": "stdout",
     "output_type": "stream",
     "text": [
      "Joe@Penee@Vicstar\n",
      "John#Peter#Vicky\n",
      "nameTESTcountry\n"
     ]
    }
   ],
   "source": [
    "#18. Lsit to string\n",
    "\n",
    "#join() \tTakes all items in an iterable and joins them into one string.\n",
    "myList =[\"Joe\", \"Penee\", \"Vicstar\"]\n",
    "print(\"@\".join(myList))\n",
    "myTuple = (\"John\", \"Peter\", \"Vicky\")\n",
    "print(\"#\".join(myTuple))\n",
    "myDict = {\"name\": \"John\", \"country\": \"Norway\"}\n",
    "mySeparator = \"TEST\"\n",
    "print(mySeparator.join(myDict))"
   ]
  },
  {
   "cell_type": "code",
   "execution_count": 173,
   "id": "51d64161",
   "metadata": {},
   "outputs": [
    {
     "name": "stdout",
     "output_type": "stream",
     "text": [
      "('Hello ', 'Jane', ' Austen!')\n",
      "('Ram has 3 friends, Harry, ', 'Ram', ' , Mena!')\n"
     ]
    }
   ],
   "source": [
    "#19. partition(value)\tReturns a tuple where the string is parted into three parts\n",
    "# The first element contains the part before the specified string.\n",
    "# The second element contains the specified string.\n",
    "# The third element contains the part after the string.\n",
    "S= \"Hello Jane Austen!\"\n",
    "print(S.partition('Jane'))\n",
    "\n",
    "#rpartition()\tReturns a tuple where the string is parted into three parts\n",
    "S= \"Ram has 3 friends, Harry, Ram , Mena!\"\n",
    "print(S.rpartition('Ram'))\n"
   ]
  },
  {
   "cell_type": "code",
   "execution_count": 188,
   "id": "619add1e",
   "metadata": {},
   "outputs": [
    {
     "name": "stdout",
     "output_type": "stream",
     "text": [
      "three three was a race horse, two two was one too.\n",
      "three three was a race horse, two two was three too.\n"
     ]
    }
   ],
   "source": [
    "#20. replace(oldvalue, newvalue, count) Returns a string where a specified value is replaced with a specified value\n",
    "txt = \"one one was a race horse, two two was one too.\"\n",
    "print(txt.replace(\"one\", \"three\",2))\n",
    "print(txt.replace(\"one\", \"three\"))"
   ]
  },
  {
   "cell_type": "code",
   "execution_count": 202,
   "id": "970b5c6e",
   "metadata": {},
   "outputs": [
    {
     "name": "stdout",
     "output_type": "stream",
     "text": [
      "['Thank you', ' for the music', 'Welcome to ', 'the jungle']\n",
      "['hello, ', 'y na', 'e is Peter, I am 26 years old']\n",
      "['hello, my name is Peter', ' I am 26 years old']\n"
     ]
    }
   ],
   "source": [
    "#21.  String to List\n",
    "\n",
    "#splitlines(keeplinebreaks)\tSplits the string at line breaks and returns a list\n",
    "txt = \"Thank you\\n for the music\\nWelcome to \\nthe jungle\"\n",
    "print(txt.splitlines(keepends=False))\n",
    "# split(separator, maxsplit)\tSplits the string at the specified separator, and returns a list\n",
    "txt = \"hello, my name is Peter, I am 26 years old\"\n",
    "print(txt.split(\"m\",2))\n",
    "# rsplit()\tSplits the string at the specified separator, and returns a list\n",
    "txt = \"hello, my name is Peter, I am 26 years old\"\n",
    "print(txt.rsplit(\",\",1))"
   ]
  }
 ],
 "metadata": {
  "kernelspec": {
   "display_name": "Python 3 (ipykernel)",
   "language": "python",
   "name": "python3"
  },
  "language_info": {
   "codemirror_mode": {
    "name": "ipython",
    "version": 3
   },
   "file_extension": ".py",
   "mimetype": "text/x-python",
   "name": "python",
   "nbconvert_exporter": "python",
   "pygments_lexer": "ipython3",
   "version": "3.11.1"
  }
 },
 "nbformat": 4,
 "nbformat_minor": 5
}
