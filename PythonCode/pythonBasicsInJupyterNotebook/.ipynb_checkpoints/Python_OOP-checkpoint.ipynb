{
 "cells": [
  {
   "cell_type": "markdown",
   "id": "42a85da2",
   "metadata": {},
   "source": [
    "# Obeject Oriented Programming \n",
    "    simulate real world entity\n",
    "### Class - templete/blueprint/real world entity \n",
    "    can have some attributes/properties and functionalties\n",
    "### Objects - specific instance of class"
   ]
  },
  {
   "cell_type": "markdown",
   "id": "f82c0b12",
   "metadata": {},
   "source": [
    "#### Abstaraction --- to hide things (use case should be implemneted), no need understand backgroung functionality.\n",
    "#### encapsulation --- complete functionality can be accessed via one object as it is encapsultion all property/attributes and behaviour.\n",
    "#### inheritance ---\n",
    "#### polymorphisim -- "
   ]
  },
  {
   "cell_type": "code",
   "execution_count": 3,
   "id": "37df53de",
   "metadata": {},
   "outputs": [],
   "source": [
    "#an example of a class\n",
    "class student:\n",
    "    pass"
   ]
  },
  {
   "cell_type": "code",
   "execution_count": 4,
   "id": "f1606903",
   "metadata": {},
   "outputs": [],
   "source": [
    "#instance\n",
    "s1=student()"
   ]
  },
  {
   "cell_type": "code",
   "execution_count": 6,
   "id": "aab471b8",
   "metadata": {},
   "outputs": [
    {
     "data": {
      "text/plain": [
       "__main__.student"
      ]
     },
     "execution_count": 6,
     "metadata": {},
     "output_type": "execute_result"
    }
   ],
   "source": [
    "type(s1)"
   ]
  },
  {
   "cell_type": "code",
   "execution_count": 7,
   "id": "60ba79f0",
   "metadata": {},
   "outputs": [],
   "source": [
    "s1.name = \"Ashutosh\""
   ]
  },
  {
   "cell_type": "code",
   "execution_count": 8,
   "id": "f4e9e19d",
   "metadata": {},
   "outputs": [
    {
     "name": "stdout",
     "output_type": "stream",
     "text": [
      "Ashutosh\n"
     ]
    }
   ],
   "source": [
    "print(s1.name)"
   ]
  },
  {
   "cell_type": "code",
   "execution_count": 9,
   "id": "228871b1",
   "metadata": {},
   "outputs": [
    {
     "ename": "AttributeError",
     "evalue": "'student' object has no attribute 'name'",
     "output_type": "error",
     "traceback": [
      "\u001b[0;31m---------------------------------------------------------------------------\u001b[0m",
      "\u001b[0;31mAttributeError\u001b[0m                            Traceback (most recent call last)",
      "Cell \u001b[0;32mIn[9], line 2\u001b[0m\n\u001b[1;32m      1\u001b[0m s2 \u001b[38;5;241m=\u001b[39m student()\n\u001b[0;32m----> 2\u001b[0m \u001b[43ms2\u001b[49m\u001b[38;5;241;43m.\u001b[39;49m\u001b[43mname\u001b[49m\n",
      "\u001b[0;31mAttributeError\u001b[0m: 'student' object has no attribute 'name'"
     ]
    }
   ],
   "source": [
    "s2 = student()\n",
    "s2.name"
   ]
  },
  {
   "cell_type": "code",
   "execution_count": 10,
   "id": "c56b824b",
   "metadata": {},
   "outputs": [],
   "source": [
    "class student: \n",
    "    def __init__(self):\n",
    "        self.name = \"un-named\""
   ]
  },
  {
   "cell_type": "code",
   "execution_count": 11,
   "id": "bf88ad48",
   "metadata": {},
   "outputs": [],
   "source": [
    "s1 = student()\n",
    "s2 = student()"
   ]
  },
  {
   "cell_type": "code",
   "execution_count": 13,
   "id": "3919841b",
   "metadata": {},
   "outputs": [
    {
     "name": "stdout",
     "output_type": "stream",
     "text": [
      "un-named\n",
      "un-named\n"
     ]
    }
   ],
   "source": [
    "print(s1.name)\n",
    "print(s2.name)"
   ]
  },
  {
   "cell_type": "code",
   "execution_count": 23,
   "id": "d243f9cf",
   "metadata": {},
   "outputs": [],
   "source": [
    "class student:\n",
    "    #Constructor function --Automatically invoked  \n",
    "    ##(__init__ magic method)   \n",
    "    def __init__(self):\n",
    "        print(\"enrolling new student\")\n",
    "        print(self)\n",
    "        self.name = \"un-named\""
   ]
  },
  {
   "cell_type": "code",
   "execution_count": 24,
   "id": "e7d87f02",
   "metadata": {},
   "outputs": [
    {
     "name": "stdout",
     "output_type": "stream",
     "text": [
      "enrolling new student\n",
      "<__main__.student object at 0x107c1ad10>\n",
      "enrolling new student\n",
      "<__main__.student object at 0x107c12ed0>\n"
     ]
    }
   ],
   "source": [
    "s1 = student()\n",
    "s2 = student()"
   ]
  },
  {
   "cell_type": "code",
   "execution_count": 25,
   "id": "61e6c77d",
   "metadata": {},
   "outputs": [
    {
     "data": {
      "text/plain": [
       "<__main__.student at 0x107c1ad10>"
      ]
     },
     "execution_count": 25,
     "metadata": {},
     "output_type": "execute_result"
    }
   ],
   "source": [
    "s1"
   ]
  },
  {
   "cell_type": "code",
   "execution_count": 26,
   "id": "1bef9c4c",
   "metadata": {},
   "outputs": [
    {
     "data": {
      "text/plain": [
       "<__main__.student at 0x107c12ed0>"
      ]
     },
     "execution_count": 26,
     "metadata": {},
     "output_type": "execute_result"
    }
   ],
   "source": [
    "s2"
   ]
  },
  {
   "cell_type": "code",
   "execution_count": 22,
   "id": "b26d65ca",
   "metadata": {},
   "outputs": [
    {
     "data": {
      "text/plain": [
       "'un-named'"
      ]
     },
     "execution_count": 22,
     "metadata": {},
     "output_type": "execute_result"
    }
   ],
   "source": [
    "s1.name"
   ]
  },
  {
   "cell_type": "code",
   "execution_count": 19,
   "id": "26c94af9",
   "metadata": {},
   "outputs": [
    {
     "data": {
      "text/plain": [
       "'un-named'"
      ]
     },
     "execution_count": 19,
     "metadata": {},
     "output_type": "execute_result"
    }
   ],
   "source": [
    "s2.name"
   ]
  },
  {
   "cell_type": "code",
   "execution_count": 28,
   "id": "ca5048e4",
   "metadata": {},
   "outputs": [],
   "source": [
    "  #parameterized constructor\n",
    "class student:\n",
    "     #constructor \n",
    "    def __init__(self, nw_name):\n",
    "        print(\"creating a new student\")\n",
    "        self.name = nw_name"
   ]
  },
  {
   "cell_type": "code",
   "execution_count": 29,
   "id": "c4021431",
   "metadata": {},
   "outputs": [
    {
     "name": "stdout",
     "output_type": "stream",
     "text": [
      "creating a new student\n"
     ]
    }
   ],
   "source": [
    "s1=student(\"Ashutosh\")"
   ]
  },
  {
   "cell_type": "code",
   "execution_count": 30,
   "id": "ae2e581d",
   "metadata": {},
   "outputs": [
    {
     "name": "stdout",
     "output_type": "stream",
     "text": [
      "creating a new student\n"
     ]
    }
   ],
   "source": [
    "s2=student(\"Singh\")"
   ]
  },
  {
   "cell_type": "code",
   "execution_count": 33,
   "id": "8d1e1bea",
   "metadata": {},
   "outputs": [
    {
     "name": "stdout",
     "output_type": "stream",
     "text": [
      "Ashutosh\n",
      "Singh\n"
     ]
    }
   ],
   "source": [
    "print(s1.name)\n",
    "print(s2.name)"
   ]
  },
  {
   "cell_type": "code",
   "execution_count": 38,
   "id": "2e9dbf91",
   "metadata": {},
   "outputs": [],
   "source": [
    " class student:\n",
    "    #class variable -- inside the class but outside the constructor \n",
    "    counter = 1\n",
    "    \n",
    "    #constructor functions\n",
    "    def __init__(self, nw_name):\n",
    "        print(\"creating a new student\")\n",
    "        #instance variables --- self.name , self.id\n",
    "        self.name = nw_name \n",
    "        "
   ]
  },
  {
   "cell_type": "code",
   "execution_count": 42,
   "id": "7f86ef9e",
   "metadata": {},
   "outputs": [
    {
     "name": "stdout",
     "output_type": "stream",
     "text": [
      "1\n",
      "11\n"
     ]
    }
   ],
   "source": [
    "#class variable calling\n",
    "print(student.counter)\n",
    "student.counter=11\n",
    "print(student.counter)"
   ]
  },
  {
   "cell_type": "code",
   "execution_count": null,
   "id": "77b65082",
   "metadata": {},
   "outputs": [],
   "source": []
  },
  {
   "cell_type": "code",
   "execution_count": null,
   "id": "b9e1cfc2",
   "metadata": {},
   "outputs": [],
   "source": []
  },
  {
   "cell_type": "code",
   "execution_count": 61,
   "id": "ab8c262d",
   "metadata": {},
   "outputs": [],
   "source": [
    "  class student:\n",
    "    #class variable -- inside the class but outside the constructor \n",
    "    count = 1\n",
    "    \n",
    "    #constructor functions\n",
    "    def __init__(self, nw_name):\n",
    "        print(\"creating a new student\")\n",
    "        #instance variables --- self.name , self.id\n",
    "        self.name = nw_name \n",
    "        self.id= student.count\n",
    "        student.count+=1"
   ]
  },
  {
   "cell_type": "code",
   "execution_count": 62,
   "id": "5ba4319f",
   "metadata": {},
   "outputs": [
    {
     "name": "stdout",
     "output_type": "stream",
     "text": [
      "creating a new student\n",
      "<__main__.student object at 0x107e13550>\n",
      "creating a new student\n",
      "<__main__.student object at 0x107e13550>\n"
     ]
    }
   ],
   "source": [
    "s1=student(\"Ashitosh\")\n",
    "print(s1)\n",
    "s2=student(\"singh\")\n",
    "print(s1)"
   ]
  },
  {
   "cell_type": "code",
   "execution_count": 63,
   "id": "acc7c90e",
   "metadata": {},
   "outputs": [
    {
     "data": {
      "text/plain": [
       "3"
      ]
     },
     "execution_count": 63,
     "metadata": {},
     "output_type": "execute_result"
    }
   ],
   "source": [
    "student.count"
   ]
  },
  {
   "cell_type": "code",
   "execution_count": 64,
   "id": "6ac86cb5",
   "metadata": {},
   "outputs": [
    {
     "name": "stdout",
     "output_type": "stream",
     "text": [
      "Ashitosh 1 3\n",
      "singh 2 3\n"
     ]
    }
   ],
   "source": [
    "print(s1.name,s1.id,s1.count)\n",
    "print(s2.name,s2.id,s2.count)"
   ]
  },
  {
   "cell_type": "code",
   "execution_count": 65,
   "id": "631a2331",
   "metadata": {},
   "outputs": [
    {
     "name": "stdout",
     "output_type": "stream",
     "text": [
      "creating a new student\n"
     ]
    }
   ],
   "source": [
    "s3=student(\"Anne\")"
   ]
  },
  {
   "cell_type": "code",
   "execution_count": 66,
   "id": "b6b6cea3",
   "metadata": {},
   "outputs": [
    {
     "name": "stdout",
     "output_type": "stream",
     "text": [
      "Anne 3 4\n"
     ]
    }
   ],
   "source": [
    "print(s3.name,s3.id,s3.count)"
   ]
  },
  {
   "cell_type": "code",
   "execution_count": 68,
   "id": "7ed62908",
   "metadata": {},
   "outputs": [
    {
     "name": "stdout",
     "output_type": "stream",
     "text": [
      "1 Ashitosh\n",
      "2 singh\n",
      "3 Anne\n"
     ]
    }
   ],
   "source": [
    "# iterarting over instance \n",
    "for item in (s1, s2, s3):\n",
    "    print(item.id,item.name)"
   ]
  },
  {
   "cell_type": "code",
   "execution_count": 69,
   "id": "05df6ca4",
   "metadata": {},
   "outputs": [
    {
     "name": "stdout",
     "output_type": "stream",
     "text": [
      "4\n",
      "4\n"
     ]
    }
   ],
   "source": [
    "print(student.count)\n",
    "print(s1.count)"
   ]
  },
  {
   "cell_type": "code",
   "execution_count": 70,
   "id": "566206a8",
   "metadata": {},
   "outputs": [
    {
     "name": "stdout",
     "output_type": "stream",
     "text": [
      "4\n",
      "4\n",
      "40\n",
      "4\n"
     ]
    }
   ],
   "source": [
    "# created a new property\n",
    "s2.count=40\n",
    "print(student.count)\n",
    "print(s1.count)\n",
    "print(s2.count)\n",
    "print(s3.count)"
   ]
  },
  {
   "cell_type": "code",
   "execution_count": 73,
   "id": "3b1a1f05",
   "metadata": {},
   "outputs": [
    {
     "name": "stdout",
     "output_type": "stream",
     "text": [
      "5\n",
      "7\n"
     ]
    }
   ],
   "source": [
    "class A():\n",
    "    def __init__(self,count=5):\n",
    "        self.count=count\n",
    "#default value of A\n",
    "obj1=A()\n",
    "obj2=A(7)\n",
    "print(obj1.count)\n",
    "print(obj2.count)"
   ]
  },
  {
   "cell_type": "code",
   "execution_count": 78,
   "id": "a5445366",
   "metadata": {},
   "outputs": [],
   "source": [
    "class student:\n",
    "    #class variable -- inside the class but outside the constructor \n",
    "    count = 1\n",
    "    \n",
    "    #constructor functions\n",
    "    def __init__(self, nw_name):\n",
    "        print(\"creating a new student\")\n",
    "        #instance variables --- self.name , self.id\n",
    "        self.name = nw_name \n",
    "        self.id= student.count\n",
    "        student.count+=1\n",
    "    "
   ]
  },
  {
   "cell_type": "code",
   "execution_count": 79,
   "id": "1800d572",
   "metadata": {},
   "outputs": [
    {
     "name": "stdout",
     "output_type": "stream",
     "text": [
      "creating a new student\n"
     ]
    }
   ],
   "source": [
    "s1=student(\"Ashutosh\")"
   ]
  },
  {
   "cell_type": "code",
   "execution_count": 80,
   "id": "ff1b168a",
   "metadata": {},
   "outputs": [
    {
     "name": "stdout",
     "output_type": "stream",
     "text": [
      "<__main__.student object at 0x107f6db50>\n"
     ]
    }
   ],
   "source": [
    "print(s1)"
   ]
  },
  {
   "cell_type": "code",
   "execution_count": 83,
   "id": "977aeb34",
   "metadata": {},
   "outputs": [],
   "source": [
    "## define output of class will be printed using string represenation\n",
    "class student:\n",
    "    #class variable -- inside the class but outside the constructor \n",
    "    count = 1\n",
    "    \n",
    "    #constructor functions\n",
    "    def __init__(self, nw_name):\n",
    "        print(\"creating a new student\")\n",
    "        #instance variables --- self.name , self.id\n",
    "        self.name = nw_name \n",
    "        self.id= student.count\n",
    "        student.count+=1\n",
    "    #to print something in string representation    \n",
    "    def __str__(self):\n",
    "        return f\"I'am {self.name} and my ID is {self.id}\""
   ]
  },
  {
   "cell_type": "code",
   "execution_count": 84,
   "id": "4be4a0fa",
   "metadata": {},
   "outputs": [
    {
     "name": "stdout",
     "output_type": "stream",
     "text": [
      "creating a new student\n",
      "I'am Ashu and my ID is 1\n"
     ]
    }
   ],
   "source": [
    "s1= student(\"Ashu\")\n",
    "print(s1)"
   ]
  },
  {
   "cell_type": "code",
   "execution_count": 86,
   "id": "08682c0e",
   "metadata": {},
   "outputs": [
    {
     "name": "stdout",
     "output_type": "stream",
     "text": [
      "creating a new student\n",
      "I'am john and my ID is 2\n"
     ]
    }
   ],
   "source": [
    "s2=student(\"john\")\n",
    "print(s2)"
   ]
  },
  {
   "cell_type": "code",
   "execution_count": 92,
   "id": "65123b23",
   "metadata": {},
   "outputs": [],
   "source": [
    "## __repr__ how object will be represented\n",
    "## __str__ define output of class will be printed using string represenation\n",
    "class student:\n",
    "    #class variable -- inside the class but outside the constructor \n",
    "    count = 1\n",
    "    \n",
    "    #constructor functions\n",
    "    def __init__(self, nw_name):\n",
    "        print(\"creating a new student\")\n",
    "        #instance variables --- self.name , self.id\n",
    "        self.name = nw_name \n",
    "        self.id= student.count\n",
    "        student.count+=1\n",
    "    #to print something in string representation    \n",
    "    def __str__(self):\n",
    "        return f\"I'am {self.name} and my ID is {self.id}\"\n",
    "    #to repersent instance using dunder meth  od\n",
    "    def __repr__(self):\n",
    "        return f\"hello, i'm {self.name}, this __repr__ magic method\""
   ]
  },
  {
   "cell_type": "code",
   "execution_count": 93,
   "id": "b9049345",
   "metadata": {},
   "outputs": [
    {
     "name": "stdout",
     "output_type": "stream",
     "text": [
      "creating a new student\n",
      "creating a new student\n"
     ]
    }
   ],
   "source": [
    "s1= student(\"Ashu\")\n",
    "s2=student(\"john\")"
   ]
  },
  {
   "cell_type": "code",
   "execution_count": 95,
   "id": "776f437a",
   "metadata": {},
   "outputs": [
    {
     "name": "stdout",
     "output_type": "stream",
     "text": [
      "I'am Ashu and my ID is 1\n"
     ]
    },
    {
     "data": {
      "text/plain": [
       "hello, i'm Ashu, this __repr__ magic method"
      ]
     },
     "execution_count": 95,
     "metadata": {},
     "output_type": "execute_result"
    }
   ],
   "source": [
    "print(s1)\n",
    "s1"
   ]
  },
  {
   "cell_type": "code",
   "execution_count": 96,
   "id": "1284db30",
   "metadata": {},
   "outputs": [
    {
     "name": "stdout",
     "output_type": "stream",
     "text": [
      "I'am john and my ID is 2\n"
     ]
    },
    {
     "data": {
      "text/plain": [
       "hello, i'm john, this __repr__ magic method"
      ]
     },
     "execution_count": 96,
     "metadata": {},
     "output_type": "execute_result"
    }
   ],
   "source": [
    "print(s2)\n",
    "s2"
   ]
  },
  {
   "cell_type": "markdown",
   "id": "0de496f6",
   "metadata": {},
   "source": [
    "#### instance behaviour using instance method"
   ]
  },
  {
   "cell_type": "code",
   "execution_count": 101,
   "id": "c3cdccce",
   "metadata": {},
   "outputs": [],
   "source": [
    "## __repr__ how object will be represented\n",
    "## __str__ define output of class will be printed using string represenation\n",
    "class student:\n",
    "    #class variable -- inside the class but outside the constructor \n",
    "    count = 1\n",
    "    \n",
    "    #constructor functions, magic/dunder method\n",
    "    def __init__(self, nw_name):\n",
    "        print(\"creating a new student\")\n",
    "        #instance variables --- self.name , self.id\n",
    "        self.name = nw_name \n",
    "        self.id= student.count\n",
    "        student.count+=1\n",
    "    #to print something in string representation    \n",
    "    def __str__(self):\n",
    "        return f\"I'am {self.name} and my ID is {self.id}\"\n",
    "    #to repersent instance using dunder meth  od\n",
    "    def __repr__(self):\n",
    "        return f\"hello, i'm {self.name}, this __repr__ magic method\"\n",
    "    #instance method\n",
    "    def intro(self):\n",
    "        print(f\"Hello, my name is {self.name}, and my roll_number is {self.id}\")"
   ]
  },
  {
   "cell_type": "code",
   "execution_count": 102,
   "id": "c812aa8a",
   "metadata": {},
   "outputs": [
    {
     "name": "stdout",
     "output_type": "stream",
     "text": [
      "creating a new student\n",
      "creating a new student\n"
     ]
    }
   ],
   "source": [
    "s1= student(\"Ashu\")\n",
    "s2= student(\"john\")"
   ]
  },
  {
   "cell_type": "code",
   "execution_count": 103,
   "id": "b90b5391",
   "metadata": {},
   "outputs": [
    {
     "name": "stdout",
     "output_type": "stream",
     "text": [
      "Hello, my name is Ashu, and my roll_number is 1\n",
      "Hello, my name is john, and my roll_number is 2\n"
     ]
    }
   ],
   "source": [
    "s1.intro()\n",
    "s2.intro()"
   ]
  },
  {
   "cell_type": "code",
   "execution_count": 106,
   "id": "1ef0a76b",
   "metadata": {},
   "outputs": [],
   "source": [
    "#literal :: constant value"
   ]
  },
  {
   "cell_type": "code",
   "execution_count": 108,
   "id": "2565233b",
   "metadata": {},
   "outputs": [],
   "source": [
    "#Question"
   ]
  },
  {
   "cell_type": "code",
   "execution_count": null,
   "id": "4f941057",
   "metadata": {},
   "outputs": [],
   "source": [
    "#Question"
   ]
  },
  {
   "cell_type": "code",
   "execution_count": 39,
   "id": "3ff22d50",
   "metadata": {},
   "outputs": [],
   "source": [
    "class Account:\n",
    "    count=1001\n",
    "    def __init__ (self, bal=10000):\n",
    "        self.Account_Number=Account.count\n",
    "        Account.count+=1        \n",
    "        self.Account_balance=bal\n",
    "        \n",
    "    def __repr__(self):\n",
    "        return (f\"My acount number is {self.Account_Number} and my account balance is {self.Account_balance}\")\n",
    "     \n",
    "    def deposit(self, Amt):\n",
    "        if Amt>0:\n",
    "            print(f\"Adding money...{Amt} now!\")\n",
    "            self.Account_balance+=Amt\n",
    "        \n",
    "    def withdraw(self, Amt):\n",
    "        print(f\"Removing money...{Amt} now!!\")\n",
    "        if self.Account_balance < Amt:\n",
    "            print(\"Insufficient balance\")\n",
    "        else:\n",
    "            self.Account_balance-=Amt\n",
    "            \n",
    "## Other dunder methods to explore \n",
    "# __eq__\n",
    "# __gt__\n",
    "        \n",
    "        \n",
    "    "
   ]
  },
  {
   "cell_type": "code",
   "execution_count": 49,
   "id": "c0e5c1ab",
   "metadata": {},
   "outputs": [],
   "source": [
    "a1=Account(20000)"
   ]
  },
  {
   "cell_type": "code",
   "execution_count": 50,
   "id": "7f22b250",
   "metadata": {},
   "outputs": [
    {
     "name": "stdout",
     "output_type": "stream",
     "text": [
      "My acount number is 1003 and my account balance is 20000\n"
     ]
    }
   ],
   "source": [
    "print(a1)"
   ]
  },
  {
   "cell_type": "code",
   "execution_count": 51,
   "id": "38b590f4",
   "metadata": {},
   "outputs": [
    {
     "name": "stdout",
     "output_type": "stream",
     "text": [
      "Adding money...5000 now!\n"
     ]
    }
   ],
   "source": [
    "a1.deposit(5000)"
   ]
  },
  {
   "cell_type": "code",
   "execution_count": 52,
   "id": "7659825c",
   "metadata": {},
   "outputs": [
    {
     "data": {
      "text/plain": [
       "My acount number is 1003 and my account balance is 25000"
      ]
     },
     "execution_count": 52,
     "metadata": {},
     "output_type": "execute_result"
    }
   ],
   "source": [
    " a1\n"
   ]
  },
  {
   "cell_type": "code",
   "execution_count": 53,
   "id": "b392fbe9",
   "metadata": {},
   "outputs": [
    {
     "name": "stdout",
     "output_type": "stream",
     "text": [
      "Removing money...20000 now!!\n"
     ]
    }
   ],
   "source": [
    "a1.withdraw(20000)"
   ]
  },
  {
   "cell_type": "code",
   "execution_count": 54,
   "id": "3e48b372",
   "metadata": {},
   "outputs": [
    {
     "name": "stdout",
     "output_type": "stream",
     "text": [
      "Removing money...7000 now!!\n",
      "Insufficient balance\n"
     ]
    }
   ],
   "source": [
    "a1.withdraw(7000)"
   ]
  },
  {
   "cell_type": "code",
   "execution_count": 55,
   "id": "315fca32",
   "metadata": {},
   "outputs": [
    {
     "data": {
      "text/plain": [
       "My acount number is 1003 and my account balance is 5000"
      ]
     },
     "execution_count": 55,
     "metadata": {},
     "output_type": "execute_result"
    }
   ],
   "source": [
    "a1"
   ]
  },
  {
   "cell_type": "markdown",
   "id": "f0be09b8",
   "metadata": {},
   "source": [
    "# Inheritance   - parent and child relationship \n",
    "\n",
    "#### to receive some attribute/property from your supiriors\n",
    "\n",
    "### reason -- allow resuibilty of code \n",
    "(DRY -- Do not repeat yourself)\n"
   ]
  },
  {
   "cell_type": "code",
   "execution_count": 58,
   "id": "730b0fe5",
   "metadata": {},
   "outputs": [],
   "source": [
    "class Account:\n",
    "    count=1001\n",
    "    def __init__ (self, bal=10000):\n",
    "        print(f\"createing a new account now..\")\n",
    "        self.Account_Number=Account.count\n",
    "        Account.count+=1        \n",
    "        self.Account_balance=bal\n",
    "        \n",
    "    def __repr__(self):\n",
    "        return (f\"My acount number is {self.Account_Number} and my account balance is {self.Account_balance}\")\n",
    "     \n",
    "    def deposit(self, Amt):\n",
    "        if Amt>0:\n",
    "            print(f\"Adding money...{Amt} now!\")\n",
    "            self.Account_balance+=Amt\n",
    "        \n",
    "    def withdraw(self, Amt):\n",
    "        print(f\"Removing money...{Amt} now!!\")\n",
    "        if self.Account_balance < Amt:\n",
    "            print(\"Insufficient balance\")\n",
    "        else:\n",
    "            self.Account_balance-=Amt\n",
    "            \n",
    "class savingAccount(Account):\n",
    "    pass\n",
    "\n",
    "class currentAccount(Account):\n",
    "    pass\n",
    "            "
   ]
  },
  {
   "cell_type": "code",
   "execution_count": 61,
   "id": "7b9eda01",
   "metadata": {},
   "outputs": [
    {
     "name": "stdout",
     "output_type": "stream",
     "text": [
      "createing a new account now..\n"
     ]
    }
   ],
   "source": [
    "sa_1 = savingAccount(20000)"
   ]
  },
  {
   "cell_type": "code",
   "execution_count": 62,
   "id": "b681c2ac",
   "metadata": {},
   "outputs": [
    {
     "data": {
      "text/plain": [
       "20000"
      ]
     },
     "execution_count": 62,
     "metadata": {},
     "output_type": "execute_result"
    }
   ],
   "source": [
    "sa_1.Account_balance"
   ]
  },
  {
   "cell_type": "code",
   "execution_count": 110,
   "id": "37116c82",
   "metadata": {},
   "outputs": [],
   "source": [
    "class Account:\n",
    "    count=1001\n",
    "    def __init__ (self, bal=10000):\n",
    "        print(f\"createing a new account now..\")\n",
    "        self.Account_Number=Account.count\n",
    "        Account.count+=1        \n",
    "        self.Account_balance=bal\n",
    "        self.curr_tran=0\n",
    "        \n",
    "    def __repr__(self):\n",
    "        return (f\"My acount number is {self.Account_Number} and my account balance is {self.Account_balance}\")\n",
    "    \n",
    "\n",
    "    def deposit(self, Amt):\n",
    "        if Amt>0:\n",
    "            if self.curr_tran<self.max_tran:\n",
    "                print(f\"Adding money...{Amt} now!\")\n",
    "                self.Account_balance+=Amt\n",
    "                self.curr_tran+=1\n",
    "            else:\n",
    "                print(f\"Transaction limit exceeded...\")\n",
    "        else:\n",
    "            print(\"please enter a positive value\")\n",
    "    \n",
    "        \n",
    "    def withdraw(self, Amt):\n",
    "        \n",
    "        if self.Account_balance < Amt:\n",
    "            print(\"Insufficient balance\")\n",
    "        else:\n",
    "            if self.curr_tran<self.max_tran:\n",
    "                print(f\"Removing money...{Amt} now!!\")\n",
    "                self.Account_balance-=Amt\n",
    "                self.curr_tran+=1\n",
    "            else:\n",
    "                print(f\"Transaction limit exceeded...\")\n",
    "            \n",
    "class savingAccount(Account):\n",
    "    def __init__ (self):\n",
    "        super().__init__()\n",
    "        self.max_tran=2\n",
    "        \n",
    "\n",
    "class currentAccount(Account):\n",
    "    def __init__ (self):\n",
    "        super().__init__()\n",
    "        self.max_tran=10\n",
    "        \n",
    "            "
   ]
  },
  {
   "cell_type": "code",
   "execution_count": 111,
   "id": "67118ed8",
   "metadata": {},
   "outputs": [
    {
     "name": "stdout",
     "output_type": "stream",
     "text": [
      "createing a new account now..\n",
      "createing a new account now..\n"
     ]
    }
   ],
   "source": [
    "sa_1 = savingAccount()\n",
    "ca_1 = currentAccount()"
   ]
  },
  {
   "cell_type": "code",
   "execution_count": 112,
   "id": "0783af82",
   "metadata": {},
   "outputs": [
    {
     "name": "stdout",
     "output_type": "stream",
     "text": [
      "2\n",
      "0\n",
      "10\n",
      "0\n"
     ]
    }
   ],
   "source": [
    "print(sa_1.max_tran)\n",
    "print(sa_1.curr_tran)\n",
    "print(ca_1.max_tran)\n",
    "print(ca_1.curr_tran)"
   ]
  },
  {
   "cell_type": "code",
   "execution_count": 113,
   "id": "fa16cfb7",
   "metadata": {},
   "outputs": [
    {
     "name": "stdout",
     "output_type": "stream",
     "text": [
      "My acount number is 1001 and my account balance is 10000\n",
      "My acount number is 1002 and my account balance is 10000\n"
     ]
    }
   ],
   "source": [
    "print(sa_1)\n",
    "print(ca_1)"
   ]
  },
  {
   "cell_type": "code",
   "execution_count": 114,
   "id": "b86fd87f",
   "metadata": {},
   "outputs": [
    {
     "name": "stdout",
     "output_type": "stream",
     "text": [
      "Adding money...5000 now!\n",
      "Adding money...6000 now!\n",
      "Transaction limit exceeded...\n"
     ]
    }
   ],
   "source": [
    "sa_1.deposit(5000)\n",
    "sa_1.deposit(6000)\n",
    "sa_1.deposit(7000)"
   ]
  },
  {
   "cell_type": "code",
   "execution_count": 115,
   "id": "1923b9ec",
   "metadata": {},
   "outputs": [
    {
     "data": {
      "text/plain": [
       "My acount number is 1001 and my account balance is 21000"
      ]
     },
     "execution_count": 115,
     "metadata": {},
     "output_type": "execute_result"
    }
   ],
   "source": [
    "sa_1"
   ]
  },
  {
   "cell_type": "code",
   "execution_count": 116,
   "id": "db05da09",
   "metadata": {},
   "outputs": [
    {
     "name": "stdout",
     "output_type": "stream",
     "text": [
      "Transaction limit exceeded...\n"
     ]
    }
   ],
   "source": [
    " sa_1.withdraw(14000)"
   ]
  },
  {
   "cell_type": "code",
   "execution_count": 117,
   "id": "91db4f17",
   "metadata": {},
   "outputs": [
    {
     "data": {
      "text/plain": [
       "My acount number is 1001 and my account balance is 21000"
      ]
     },
     "execution_count": 117,
     "metadata": {},
     "output_type": "execute_result"
    }
   ],
   "source": [
    "sa_1"
   ]
  },
  {
   "cell_type": "code",
   "execution_count": 118,
   "id": "8f3c3684",
   "metadata": {},
   "outputs": [
    {
     "name": "stdout",
     "output_type": "stream",
     "text": [
      "Adding money...5000 now!\n",
      "Adding money...6000 now!\n",
      "Adding money...7000 now!\n"
     ]
    }
   ],
   "source": [
    "ca_1.deposit(5000)\n",
    "ca_1.deposit(6000)\n",
    "ca_1.deposit(7000)"
   ]
  },
  {
   "cell_type": "markdown",
   "id": "68efed2e",
   "metadata": {},
   "source": [
    "# polymorphisim - one function can have many form\n",
    "command -- speak()\n",
    " dog -- baww\n",
    " cat -- meow\n",
    " lion -- roar etc..  "
   ]
  },
  {
   "cell_type": "code",
   "execution_count": 128,
   "id": "e277c269",
   "metadata": {},
   "outputs": [],
   "source": [
    "class Account:\n",
    "    count=1001\n",
    "    def __init__ (self, bal=10000):\n",
    "        print(f\"creating a new account now..\")\n",
    "        self.Account_Number=Account.count\n",
    "        Account.count+=1        \n",
    "        self.Account_balance=bal\n",
    "        self.curr_tran=0\n",
    "        \n",
    "    def __repr__(self):\n",
    "        return (f\"My acount number is {self.Account_Number} and my account balance is {self.Account_balance}\")\n",
    "    \n",
    "\n",
    "    def deposit(self, Amt):\n",
    "        if Amt>0:\n",
    "            if self.curr_tran<self.max_tran:\n",
    "                print(f\"Adding money...{Amt} now!\")\n",
    "                self.Account_balance+=Amt\n",
    "                self.curr_tran+=1\n",
    "            else:\n",
    "                print(f\"Transaction limit exceeded...\")\n",
    "        else:\n",
    "            print(\"please enter a positive value\")\n",
    "    \n",
    "        \n",
    "    def withdraw(self, Amt):\n",
    "        \n",
    "        if self.Account_balance < Amt:\n",
    "            print(\"Insufficient balance\")\n",
    "        else:\n",
    "            if self.curr_tran<self.max_tran:\n",
    "                print(f\"Removing money...{Amt} now!!\")\n",
    "                self.Account_balance-=Amt\n",
    "                self.curr_tran+=1\n",
    "            else:\n",
    "                print(f\"Transaction limit exceeded...\")\n",
    "    #one function is used to get different output in child class\n",
    "    #polymorphism - one function takes many forms\n",
    "    ###### class/object level polymorphism overloading #######\n",
    "    def getInterest(self):\n",
    "        pass\n",
    "            \n",
    "class savingAccount(Account):\n",
    "    def __init__ (self):\n",
    "        super().__init__()\n",
    "        self.max_tran=2\n",
    "     \n",
    "    def getInterest(self):\n",
    "        interest=0.05*self.Account_balance\n",
    "        print(f\"Interest accured: {interest}\")\n",
    "\n",
    "class currentAccount(Account):\n",
    "    def __init__ (self):\n",
    "        super().__init__()\n",
    "        self.max_tran=10\n",
    "        \n",
    "    def getInterest(self):\n",
    "        interest=0.02*self.Account_balance\n",
    "        print(f\"Interest accured: {interest}\")   \n",
    "            "
   ]
  },
  {
   "cell_type": "code",
   "execution_count": 129,
   "id": "0b59329c",
   "metadata": {},
   "outputs": [
    {
     "name": "stdout",
     "output_type": "stream",
     "text": [
      "creating a new account now..\n",
      "creating a new account now..\n"
     ]
    }
   ],
   "source": [
    "sa_1=savingAccount()\n",
    "ca_1=currentAccount()"
   ]
  },
  {
   "cell_type": "code",
   "execution_count": 130,
   "id": "a9d0d53f",
   "metadata": {},
   "outputs": [
    {
     "name": "stdout",
     "output_type": "stream",
     "text": [
      "Interest accured: 500.0\n",
      "Interest accured: 200.0\n"
     ]
    }
   ],
   "source": [
    "sa_1.getInterest()\n",
    "ca_1.getInterest()"
   ]
  },
  {
   "cell_type": "code",
   "execution_count": 132,
   "id": "db2dcbcb",
   "metadata": {},
   "outputs": [
    {
     "name": "stdout",
     "output_type": "stream",
     "text": [
      "5\n",
      "23\n",
      "[1, 2, 3, 4, 5, 6]\n"
     ]
    }
   ],
   "source": [
    "#operator polymorphism -- operator overloading\n",
    "print(2+3)\n",
    "print('2'+'3')\n",
    "print([1,2,3]+[4,5,6])"
   ]
  },
  {
   "cell_type": "code",
   "execution_count": 135,
   "id": "e9a85a24",
   "metadata": {},
   "outputs": [
    {
     "name": "stdout",
     "output_type": "stream",
     "text": [
      "3\n",
      "8\n"
     ]
    }
   ],
   "source": [
    "#function polymorphism -- function overloading\n",
    "print(len(\"Hii\"))\n",
    "print(len([1,2,3,4,4,5,6,7]))"
   ]
  },
  {
   "cell_type": "markdown",
   "id": "77dbfc9e",
   "metadata": {},
   "source": [
    "## private variable and method"
   ]
  },
  {
   "cell_type": "code",
   "execution_count": 140,
   "id": "081932a2",
   "metadata": {},
   "outputs": [],
   "source": [
    "class account():\n",
    "    def __init__(self, balance=100):\n",
    "        ## Private variable -- cannot be updated only accessed##\n",
    "        self.__balance=balance\n",
    "    def get_bal(self):\n",
    "        return self.__balance\n",
    "    ##Private method -- cannot be accessed outside this class##\n",
    "    def __helper (self):\n",
    "        return (\"this is a private method\")"
   ]
  },
  {
   "cell_type": "code",
   "execution_count": 141,
   "id": "ec1995a5",
   "metadata": {},
   "outputs": [],
   "source": [
    "a1=account()"
   ]
  },
  {
   "cell_type": "code",
   "execution_count": 143,
   "id": "946938c2",
   "metadata": {},
   "outputs": [
    {
     "data": {
      "text/plain": [
       "100"
      ]
     },
     "execution_count": 143,
     "metadata": {},
     "output_type": "execute_result"
    }
   ],
   "source": [
    "a1.get_bal()"
   ]
  },
  {
   "cell_type": "code",
   "execution_count": 144,
   "id": "8a9dfdb6",
   "metadata": {},
   "outputs": [
    {
     "ename": "AttributeError",
     "evalue": "'account' object has no attribute '__balance'",
     "output_type": "error",
     "traceback": [
      "\u001b[0;31m---------------------------------------------------------------------------\u001b[0m",
      "\u001b[0;31mAttributeError\u001b[0m                            Traceback (most recent call last)",
      "Cell \u001b[0;32mIn[144], line 1\u001b[0m\n\u001b[0;32m----> 1\u001b[0m \u001b[43ma1\u001b[49m\u001b[38;5;241;43m.\u001b[39;49m\u001b[43m__balance\u001b[49m\n",
      "\u001b[0;31mAttributeError\u001b[0m: 'account' object has no attribute '__balance'"
     ]
    }
   ],
   "source": [
    "a1.__balance"
   ]
  },
  {
   "cell_type": "code",
   "execution_count": 145,
   "id": "6cbce33a",
   "metadata": {},
   "outputs": [],
   "source": [
    "a1.__balance=99"
   ]
  },
  {
   "cell_type": "code",
   "execution_count": 146,
   "id": "87fff1e1",
   "metadata": {},
   "outputs": [
    {
     "data": {
      "text/plain": [
       "100"
      ]
     },
     "execution_count": 146,
     "metadata": {},
     "output_type": "execute_result"
    }
   ],
   "source": [
    "a1.get_bal()"
   ]
  },
  {
   "cell_type": "code",
   "execution_count": null,
   "id": "eb5f4627",
   "metadata": {},
   "outputs": [],
   "source": []
  }
 ],
 "metadata": {
  "kernelspec": {
   "display_name": "Python 3 (ipykernel)",
   "language": "python",
   "name": "python3"
  },
  "language_info": {
   "codemirror_mode": {
    "name": "ipython",
    "version": 3
   },
   "file_extension": ".py",
   "mimetype": "text/x-python",
   "name": "python",
   "nbconvert_exporter": "python",
   "pygments_lexer": "ipython3",
   "version": "3.11.1"
  }
 },
 "nbformat": 4,
 "nbformat_minor": 5
}
