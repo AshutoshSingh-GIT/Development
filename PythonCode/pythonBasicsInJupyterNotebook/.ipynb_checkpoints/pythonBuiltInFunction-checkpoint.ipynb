{
 "cells": [
  {
   "cell_type": "code",
   "execution_count": 3,
   "id": "b19cc0ee",
   "metadata": {},
   "outputs": [
    {
     "name": "stdout",
     "output_type": "stream",
     "text": [
      "40\n",
      "5.830951894845301\n"
     ]
    }
   ],
   "source": [
    "#abs()\tReturns the absolute value of a number\n",
    "print(abs(-40))\n",
    "print(abs(3+5j))"
   ]
  },
  {
   "cell_type": "code",
   "execution_count": 8,
   "id": "1624808c",
   "metadata": {},
   "outputs": [
    {
     "name": "stdout",
     "output_type": "stream",
     "text": [
      "True\n",
      "True\n",
      "True\n"
     ]
    }
   ],
   "source": [
    "# all()\tReturns True if all items in an iterable object are true, otherwise false\n",
    "x={1,2,3,4,5,6}\n",
    "print(all(x))\n",
    "y=\"Ram\"\n",
    "print(all(y))\n",
    "#Z=1\n",
    "#print(all(Z))\n",
    "#any()\tReturns True if any item in an iterable object is true\n",
    "Z=1,2\n",
    "print(any(Z))"
   ]
  },
  {
   "cell_type": "code",
   "execution_count": 10,
   "id": "eec82da8",
   "metadata": {},
   "outputs": [
    {
     "name": "stdout",
     "output_type": "stream",
     "text": [
      "'My name is St\\xe5le'\n"
     ]
    }
   ],
   "source": [
    "#ascii()\tReturns a readable version of an object. Replaces none-ascii characters with escape character\n",
    "print(ascii(\"My name is Ståle\"))"
   ]
  },
  {
   "cell_type": "code",
   "execution_count": 49,
   "id": "ee74bf2e",
   "metadata": {},
   "outputs": [
    {
     "name": "stdout",
     "output_type": "stream",
     "text": [
      "0b1010\n",
      "bytearray(b'Hi')\n",
      "bytearray(b'\\x00\\x00\\x00\\x00\\x00\\x00\\x00\\x00\\x00\\x00\\x00\\x00\\x00\\x00\\x00\\x00\\x00\\x00\\x00\\x00\\x00\\x00\\x00')\n",
      "b'h'\n",
      "b'\\x00\\x00\\x00\\x00\\x00\\x00'\n",
      "a\n",
      "55\n",
      "88\n"
     ]
    }
   ],
   "source": [
    "#bin()\tReturns the binary version of a number,The result will always start with the prefix 0b.\n",
    "print(bin(10))\n",
    "#bytearray(x, encoding, error)\tReturns an array of bytes\n",
    "print(bytearray(\"Hi\",'Utf-8',\"@\"))\n",
    "print(bytearray(23))\n",
    "#bytesx, encoding, error)\tReturns a bytes object\n",
    "print(bytes(\"h\",'utf-8'))\n",
    "print(bytes(6))\n",
    "#chr()\tReturns a character from the specified Unicode code.\n",
    "print(chr(97))\n",
    "#The compile(source, filename, mode, flag, dont_inherit, optimize) - function returns the specified source as a code object, ready to be executed.\n",
    "x = compile('print(55)\\nprint(88)', 'test', 'exec')\n",
    "exec(x)"
   ]
  },
  {
   "cell_type": "code",
   "execution_count": 15,
   "id": "95a75122",
   "metadata": {},
   "outputs": [
    {
     "name": "stdout",
     "output_type": "stream",
     "text": [
      "False\n"
     ]
    }
   ],
   "source": [
    "#bool()\tReturns the boolean value of the specified object\n",
    "print(bool(2==3))"
   ]
  },
  {
   "cell_type": "code",
   "execution_count": 42,
   "id": "c64a3bde",
   "metadata": {},
   "outputs": [
    {
     "name": "stdout",
     "output_type": "stream",
     "text": [
      "True\n",
      "False\n"
     ]
    }
   ],
   "source": [
    "#callable()\tReturns True if the specified object is callable, otherwise False\n",
    "def cube(x):\n",
    "    return pow(x,3)\n",
    "print(callable(cube))\n",
    "a=5\n",
    "print(callable(a))"
   ]
  },
  {
   "cell_type": "code",
   "execution_count": 52,
   "id": "a659cf6c",
   "metadata": {},
   "outputs": [
    {
     "name": "stdout",
     "output_type": "stream",
     "text": [
      "(3+5j)\n",
      "(3+5j)\n"
     ]
    }
   ],
   "source": [
    "# complex(real, imaginary) returns a complex number by specifying a real number and an imaginary number.\n",
    "print(complex(3,5))\n",
    "print(complex('3+5j'))"
   ]
  },
  {
   "cell_type": "code",
   "execution_count": 60,
   "id": "4b9b0204",
   "metadata": {},
   "outputs": [
    {
     "name": "stdout",
     "output_type": "stream",
     "text": [
      "{'name': 'John', 'age': 36, 'country': 'Norway'}\n"
     ]
    }
   ],
   "source": [
    "#dict(key=value,...)\tReturns a dictionary (Array)\n",
    "print(dict(dict(name = \"John\", age = 36, country = \"Norway\")))"
   ]
  },
  {
   "cell_type": "code",
   "execution_count": 61,
   "id": "3567ff8d",
   "metadata": {},
   "outputs": [
    {
     "name": "stdout",
     "output_type": "stream",
     "text": [
      "['__class__', '__delattr__', '__dict__', '__dir__', '__doc__', '__eq__', '__format__', '__ge__', '__getattribute__', '__getstate__', '__gt__', '__hash__', '__init__', '__init_subclass__', '__le__', '__lt__', '__module__', '__ne__', '__new__', '__reduce__', '__reduce_ex__', '__repr__', '__setattr__', '__sizeof__', '__str__', '__subclasshook__', '__weakref__', 'age', 'name', 'section']\n"
     ]
    }
   ],
   "source": [
    "# The dir() function returns all properties and methods of the specified object, without the values.\n",
    "# This function will return all the properties and methods, even built-in properties which are default for all object.\n",
    "class student:\n",
    "    name=\"many\"\n",
    "    age=\"12\"\n",
    "    section=\"3rd\"\n",
    "print(dir(student))    "
   ]
  },
  {
   "cell_type": "code",
   "execution_count": 62,
   "id": "ff7cbcfc",
   "metadata": {},
   "outputs": [
    {
     "name": "stdout",
     "output_type": "stream",
     "text": [
      "(2, 2)\n"
     ]
    }
   ],
   "source": [
    "#divmod()\tReturns the quotient and the remainder when argument1 is divided by argument2\n",
    "print(divmod(8,3))"
   ]
  },
  {
   "cell_type": "code",
   "execution_count": 87,
   "id": "3b210b29",
   "metadata": {},
   "outputs": [
    {
     "name": "stdout",
     "output_type": "stream",
     "text": [
      "73\n",
      "2\n",
      "45\n",
      "5\n",
      "55\n",
      "76\n",
      "87\n",
      "Well Done!\n",
      "73\n",
      "24\n",
      "77\n",
      "\n",
      "\n",
      "73\n",
      "2\n",
      "45\n",
      "5\n",
      "55\n",
      "76\n",
      "87\n",
      "Well done A\n",
      "73\n",
      "24\n",
      "77\n"
     ]
    }
   ],
   "source": [
    "#enumerate()\tTakes a collection (e.g. a tuple) and returns it as an enumerate object\n",
    "marks=[73,2,45,5,55,76,87,73,24,77]\n",
    "index=0\n",
    "for mark in marks:\n",
    "    print(mark)\n",
    "    if (index==6):\n",
    "        print(\"Well Done!\")\n",
    "    index+=1  \n",
    "print(\"\\n\")        \n",
    "for index, mark in enumerate(marks, 10):\n",
    "    print(mark)\n",
    "    if (index==16):\n",
    "        print(\"Well done A\")\n",
    "    index+=1"
   ]
  },
  {
   "cell_type": "code",
   "execution_count": 68,
   "id": "268bd1f4",
   "metadata": {},
   "outputs": [
    {
     "name": "stdout",
     "output_type": "stream",
     "text": [
      "12\n",
      "None\n"
     ]
    }
   ],
   "source": [
    "#eval(expression, globals, locals)\tEvaluates and executes an expression\n",
    "x=print(12)\n",
    "print(eval('x'))"
   ]
  },
  {
   "cell_type": "code",
   "execution_count": 69,
   "id": "ecb3cd94",
   "metadata": {},
   "outputs": [
    {
     "name": "stdout",
     "output_type": "stream",
     "text": [
      "John\n"
     ]
    }
   ],
   "source": [
    "# # exec(object, globals, locals)\n",
    "# The exec() function executes the specified Python code.\n",
    "# The exec() function accepts large blocks of code, unlike the eval() function which only accepts a single expression\n",
    "x = 'name = \"John\"\\nprint(name)'\n",
    "exec(x)"
   ]
  },
  {
   "cell_type": "code",
   "execution_count": 84,
   "id": "684d4cd8",
   "metadata": {},
   "outputs": [
    {
     "name": "stdout",
     "output_type": "stream",
     "text": [
      "<filter object at 0x1044628f0>\n",
      "18\n",
      "20\n",
      "22\n",
      "24\n"
     ]
    }
   ],
   "source": [
    "# filter(function, iterable) function returns an iterator were the items are filtered through a function to test if the item is accepted or not.\n",
    "ages={12,14,16,18,20,22,24}\n",
    "\n",
    "def nwFn(i):\n",
    "    if i < 18:\n",
    "     return False \n",
    "    else:\n",
    "     return True\n",
    "\n",
    "adults= filter(nwFn, ages)\n",
    "print(adults)\n",
    "\n",
    "for i in adults:\n",
    "    print(i)"
   ]
  },
  {
   "cell_type": "code",
   "execution_count": 85,
   "id": "6cbfdb8e",
   "metadata": {},
   "outputs": [
    {
     "name": "stdout",
     "output_type": "stream",
     "text": [
      "4.0\n"
     ]
    }
   ],
   "source": [
    "#float()\tReturns a floating point number\n",
    "print(float(\"4\"))"
   ]
  },
  {
   "cell_type": "code",
   "execution_count": 94,
   "id": "56051f58",
   "metadata": {},
   "outputs": [
    {
     "name": "stdout",
     "output_type": "stream",
     "text": [
      "17343c\n"
     ]
    }
   ],
   "source": [
    "# format(value, format) function formats a specified value into a specified format.\n",
    "print(format(1520700,'x'))"
   ]
  },
  {
   "cell_type": "code",
   "execution_count": 98,
   "id": "bb09e852",
   "metadata": {},
   "outputs": [
    {
     "name": "stdout",
     "output_type": "stream",
     "text": [
      "frozenset({1, 2, 3, 4, 5, 6})\n",
      "<class 'frozenset'>\n"
     ]
    }
   ],
   "source": [
    "# The frozenset(iterable) function returns an unchangeable frozenset object \n",
    "# (which is like a set object, only unchangeable).\n",
    "q={1,2,3,4,5,6}\n",
    "print(frozenset(q))\n",
    "print(type(frozenset(q)))"
   ]
  },
  {
   "cell_type": "code",
   "execution_count": 110,
   "id": "1f2f3fd5",
   "metadata": {},
   "outputs": [
    {
     "name": "stdout",
     "output_type": "stream",
     "text": [
      "Norway\n",
      "not availble\n",
      "True\n",
      "False\n"
     ]
    }
   ],
   "source": [
    "# getattr(object, attribute, default) function returns the value of the specified attribute from the specified object.\n",
    "class Person:\n",
    "  name = \"John\"\n",
    "  age = 36\n",
    "  country = \"Norway\"\n",
    "x = getattr(Person, 'country', 'my message')\n",
    "print(x)\n",
    "y = getattr(Person, 'page', 'not availble')\n",
    "print(y)\n",
    "\n",
    "# The delattr() function, to remove an attribute\n",
    "\n",
    "# The hasattr() function, to check if an attribute exist\n",
    "print(hasattr(Person,\"name\"))\n",
    "print(hasattr(Person,\"Fame\"))\n",
    "# The setattr() function, to set the value of an attribute"
   ]
  },
  {
   "cell_type": "code",
   "execution_count": 108,
   "id": "a4146649",
   "metadata": {},
   "outputs": [
    {
     "name": "stdout",
     "output_type": "stream",
     "text": [
      "{'__name__': '__main__', '__doc__': 'Automatically created module for IPython interactive environment', '__package__': None, '__loader__': None, '__spec__': None, '__builtin__': <module 'builtins' (built-in)>, '__builtins__': <module 'builtins' (built-in)>, '_ih': ['', '#abs()\\tReturns the absolute value of a number\\nprint(abs(-40))', '#abs()\\tReturns the absolute value of a number\\nprint(abs(-40))\\nprint(abs(40.59))', '#abs()\\tReturns the absolute value of a number\\nprint(abs(-40))\\nprint(abs(3+5j))', '# all()\\tReturns True if all items in an iterable object are true\\nx={1,2,3,4,5,6}\\nprint(all(x))', '# all()\\tReturns True if all items in an iterable object are true\\nx={1,2,3,4,5,6}\\nprint(all(x))\\ny=\"Ram\"\\nprint(all(y))', '# all()\\tReturns True if all items in an iterable object are true, otherwise false\\nx={1,2,3,4,5,6}\\nprint(all(x))\\ny=\"Ram\"\\nprint(all(y))\\nZ=1\\nprint(all(z))', '# all()\\tReturns True if all items in an iterable object are true, otherwise false\\nx={1,2,3,4,5,6}\\nprint(all(x))\\ny=\"Ram\"\\nprint(all(y))\\nZ=1\\nprint(all(Z))', '# all()\\tReturns True if all items in an iterable object are true, otherwise false\\nx={1,2,3,4,5,6}\\nprint(all(x))\\ny=\"Ram\"\\nprint(all(y))\\n#Z=1\\n#print(all(Z))\\n#any()\\tReturns True if any item in an iterable object is true\\nZ=1,2\\nprint(any(Z))', 'print(ascii(\"My name is Ståle\"))', 'print(ascii(\"My name is Ståle\"))', '#bin()\\tReturns the binary version of a number\\nprint(bin(1))', '#bin()\\tReturns the binary version of a number,The result will always start with the prefix 0b.\\nprint(bin(34))', '#bin()\\tReturns the binary version of a number,The result will always start with the prefix 0b.\\nprint(bin(4))', '#bin()\\tReturns the binary version of a number,The result will always start with the prefix 0b.\\nprint(bin(10))', '#bool()\\tReturns the boolean value of the specified object\\nprint(bool(2==3))', '#bin()\\tReturns the binary version of a number,The result will always start with the prefix 0b.\\nprint(bin(10))\\n#bytearray()\\tReturns an array of bytes\\nprint(bytearray(10))', '#bin()\\tReturns the binary version of a number,The result will always start with the prefix 0b.\\nprint(bin(10))\\n#bytearray(x, encoding, error)\\tReturns an array of bytes\\nprint(bytearray(\"Hi\",utf-8,@))', '#bin()\\tReturns the binary version of a number,The result will always start with the prefix 0b.\\nprint(bin(10))\\n#bytearray(x, encoding, error)\\tReturns an array of bytes\\nprint(bytearray(\"Hi\",utf-8,\"@\"))', '#bin()\\tReturns the binary version of a number,The result will always start with the prefix 0b.\\nprint(bin(10))\\n#bytearray(x, encoding, error)\\tReturns an array of bytes\\nprint(bytearray(\"Hi\",UTF-8,\"@\"))', '#bin()\\tReturns the binary version of a number,The result will always start with the prefix 0b.\\nprint(bin(10))\\n#bytearray(x, encoding, error)\\tReturns an array of bytes\\nprint(bytearray(\"Hi\",UTF8,\"@\"))', '#bin()\\tReturns the binary version of a number,The result will always start with the prefix 0b.\\nprint(bin(10))\\n#bytearray(x, encoding, error)\\tReturns an array of bytes\\nprint(bytearray(\"Hi\",Utf8,\"@\"))', '#bin()\\tReturns the binary version of a number,The result will always start with the prefix 0b.\\nprint(bin(10))\\n#bytearray(x, encoding, error)\\tReturns an array of bytes\\nprint(bytearray(\"Hi\",Utf-8,\"@\"))', '#bin()\\tReturns the binary version of a number,The result will always start with the prefix 0b.\\nprint(bin(10))\\n#bytearray(x, encoding, error)\\tReturns an array of bytes\\nprint(bytearray(\"Hi\",\\'Utf-8\\',\"@\"))', '#bin()\\tReturns the binary version of a number,The result will always start with the prefix 0b.\\nprint(bin(10))\\n#bytearray(x, encoding, error)\\tReturns an array of bytes\\nprint(bytearray(\"Hi\",\\'Utf-8\\',\"@\"))\\nprint(bytearray(23,\\'Utf-8\\',\"@\"))', '#bin()\\tReturns the binary version of a number,The result will always start with the prefix 0b.\\nprint(bin(10))\\n#bytearray(x, encoding, error)\\tReturns an array of bytes\\nprint(bytearray(\"Hi\",\\'Utf-8\\',\"@\"))\\nprint(bytearray(23,\"@\"))', '#bin()\\tReturns the binary version of a number,The result will always start with the prefix 0b.\\nprint(bin(10))\\n#bytearray(x, encoding, error)\\tReturns an array of bytes\\nprint(bytearray(\"Hi\",\\'Utf-8\\',\"@\"))\\nprint(bytearray(23)', '#bin()\\tReturns the binary version of a number,The result will always start with the prefix 0b.\\nprint(bin(10))\\n#bytearray(x, encoding, error)\\tReturns an array of bytes\\nprint(bytearray(\"Hi\",\\'Utf-8\\',\"@\"))\\nprint(bytearray(23))', '#bin()\\tReturns the binary version of a number,The result will always start with the prefix 0b.\\nprint(bin(10))\\n#bytearray(x, encoding, error)\\tReturns an array of bytes\\nprint(bytearray(\"Hi\",\\'Utf-8\\',\"@\"))\\nprint(bytearray(23))\\n#bytes()\\tReturns a bytes object\\nprint(bytes(\"h\"))', '#bin()\\tReturns the binary version of a number,The result will always start with the prefix 0b.\\nprint(bin(10))\\n#bytearray(x, encoding, error)\\tReturns an array of bytes\\nprint(bytearray(\"Hi\",\\'Utf-8\\',\"@\"))\\nprint(bytearray(23))\\n#bytes()\\tReturns a bytes object\\nprint(bytes(\"h\",\\'utf-8\\'))', '#bin()\\tReturns the binary version of a number,The result will always start with the prefix 0b.\\nprint(bin(10))\\n#bytearray(x, encoding, error)\\tReturns an array of bytes\\nprint(bytearray(\"Hi\",\\'Utf-8\\',\"@\"))\\nprint(bytearray(23))\\n#bytes()\\tReturns a bytes object\\nprint(bytes(\"h\",\\'utf-8\\'))\\nprint(bytes(6))', '#callable()\\tReturns True if the specified object is callable, otherwise False\\ndef cube(X):\\n    return X*X*X\\nprint(callable(cube(X))', '#callable()\\tReturns True if the specified object is callable, otherwise False\\ndef cube(X):\\n    return X*X*X\\nprint(callable(cube(4))', '#callable()\\tReturns True if the specified object is callable, otherwise False\\ndef cube(x):\\n    return x**3\\nprint(callable(cube(4))', '#callable()\\tReturns True if the specified object is callable, otherwise False\\ndef cube(x):\\n    return x**3\\nprint(callable(cube(x))', '#callable()\\tReturns True if the specified object is callable, otherwise False\\ndef cube(x):\\n    return x**3\\nprint(callable(cube(x)))', '#callable()\\tReturns True if the specified object is callable, otherwise False\\ndef cube(x):\\n    return xpow(3)\\nprint(callable(cube(x)))', '#callable()\\tReturns True if the specified object is callable, otherwise False\\ndef cube(x):\\n    return x.pow(3)\\nprint(callable(cube(x)))', '#callable()\\tReturns True if the specified object is callable, otherwise False\\ndef cube(x):\\n    return pow(X,3)\\nprint(callable(cube(x)))', '#callable()\\tReturns True if the specified object is callable, otherwise False\\ndef cube(x):\\n    return pow(x,3)\\nprint(callable(cube(x)))', '#callable()\\tReturns True if the specified object is callable, otherwise False\\ndef cube(x):\\n    return pow(x,3)\\nprint(callable(cube(4)))', '#callable()\\tReturns True if the specified object is callable, otherwise False\\ndef cube(x):\\n    return pow(x,3)\\nprint(callable(cube(4)))\\na=5\\nprint(callable(a))', '#callable()\\tReturns True if the specified object is callable, otherwise False\\ndef cube(x):\\n    return pow(x,3)\\nprint(callable(cube))\\na=5\\nprint(callable(a))', '#bin()\\tReturns the binary version of a number,The result will always start with the prefix 0b.\\nprint(bin(10))\\n#bytearray(x, encoding, error)\\tReturns an array of bytes\\nprint(bytearray(\"Hi\",\\'Utf-8\\',\"@\"))\\nprint(bytearray(23))\\n#bytesx, encoding, error)\\tReturns a bytes object\\nprint(bytes(\"h\",\\'utf-8\\'))\\nprint(bytes(6))\\n#chr()\\tReturns a character from the specified Unicode code.\\nprint(chr(11))', '#bin()\\tReturns the binary version of a number,The result will always start with the prefix 0b.\\nprint(bin(10))\\n#bytearray(x, encoding, error)\\tReturns an array of bytes\\nprint(bytearray(\"Hi\",\\'Utf-8\\',\"@\"))\\nprint(bytearray(23))\\n#bytesx, encoding, error)\\tReturns a bytes object\\nprint(bytes(\"h\",\\'utf-8\\'))\\nprint(bytes(6))\\n#chr()\\tReturns a character from the specified Unicode code.\\nprint(chr(1))', '#bin()\\tReturns the binary version of a number,The result will always start with the prefix 0b.\\nprint(bin(10))\\n#bytearray(x, encoding, error)\\tReturns an array of bytes\\nprint(bytearray(\"Hi\",\\'Utf-8\\',\"@\"))\\nprint(bytearray(23))\\n#bytesx, encoding, error)\\tReturns a bytes object\\nprint(bytes(\"h\",\\'utf-8\\'))\\nprint(bytes(6))\\n#chr()\\tReturns a character from the specified Unicode code.\\nprint(chr(\"he\"))', '#bin()\\tReturns the binary version of a number,The result will always start with the prefix 0b.\\nprint(bin(10))\\n#bytearray(x, encoding, error)\\tReturns an array of bytes\\nprint(bytearray(\"Hi\",\\'Utf-8\\',\"@\"))\\nprint(bytearray(23))\\n#bytesx, encoding, error)\\tReturns a bytes object\\nprint(bytes(\"h\",\\'utf-8\\'))\\nprint(bytes(6))\\n#chr()\\tReturns a character from the specified Unicode code.\\nprint(chr(123))', '#bin()\\tReturns the binary version of a number,The result will always start with the prefix 0b.\\nprint(bin(10))\\n#bytearray(x, encoding, error)\\tReturns an array of bytes\\nprint(bytearray(\"Hi\",\\'Utf-8\\',\"@\"))\\nprint(bytearray(23))\\n#bytesx, encoding, error)\\tReturns a bytes object\\nprint(bytes(\"h\",\\'utf-8\\'))\\nprint(bytes(6))\\n#chr()\\tReturns a character from the specified Unicode code.\\nprint(chr(97))', '#bin()\\tReturns the binary version of a number,The result will always start with the prefix 0b.\\nprint(bin(10))\\n#bytearray(x, encoding, error)\\tReturns an array of bytes\\nprint(bytearray(\"Hi\",\\'Utf-8\\',\"@\"))\\nprint(bytearray(23))\\n#bytesx, encoding, error)\\tReturns a bytes object\\nprint(bytes(\"h\",\\'utf-8\\'))\\nprint(bytes(6))\\n#chr()\\tReturns a character from the specified Unicode code.\\nprint(chr(97))', '#bin()\\tReturns the binary version of a number,The result will always start with the prefix 0b.\\nprint(bin(10))\\n#bytearray(x, encoding, error)\\tReturns an array of bytes\\nprint(bytearray(\"Hi\",\\'Utf-8\\',\"@\"))\\nprint(bytearray(23))\\n#bytesx, encoding, error)\\tReturns a bytes object\\nprint(bytes(\"h\",\\'utf-8\\'))\\nprint(bytes(6))\\n#chr()\\tReturns a character from the specified Unicode code.\\nprint(chr(97))\\n#The compile(source, filename, mode, flag, dont_inherit, optimize) - function returns the specified source as a code object, ready to be executed.\\nx = compile(\\'print(55)\\\\nprint(88)\\', \\'test\\', \\'exec\\')\\nexec(x)', 'print(complex(3.5))', 'print(complex(3,5))', \"# complex(real, imaginary) returns a complex number by specifying a real number and an imaginary number.\\nprint(complex(3,5))\\nprint(complex('3+5j'))\", '#', '#dict()\\tReturns a dictionary (Array)\\nprint(dict(1,2,3))', '#dict()\\tReturns a dictionary (Array)\\nprint(dict(1))', '#dict()\\tReturns a dictionary (Array)\\nprint(dict(1,))', '#dict()\\tReturns a dictionary (Array)\\nx=1,2,3\\ny=0\\nprint(dict(x,y))', '#dict()\\tReturns a dictionary (Array)\\nx=1,2,3\\ny=0\\nprint(dict(x))', '#dict(key=value,...)\\tReturns a dictionary (Array)\\n\\nprint(dict(dict(name = \"John\", age = 36, country = \"Norway\")))', '#dict(key=value,...)\\tReturns a dictionary (Array)\\nprint(dict(dict(name = \"John\", age = 36, country = \"Norway\")))', '# The dir() function returns all properties and methods of the specified object, without the values.\\n# This function will return all the properties and methods, even built-in properties which are default for all object.\\nclass student:\\n    name=\"many\"\\n    age=\"12\"\\n    section=\"3rd\"\\nprint(dir(student))    ', 'print(divmod(8,3))', '#enumerate()\\tTakes a collection (e.g. a tuple) and returns it as an enumerate object\\nl1=[A,B,C,D,E,F]\\nprint(enumerate(l1,1))', \"#enumerate()\\tTakes a collection (e.g. a tuple) and returns it as an enumerate object\\nl1=['A','B','C','D','E','F']\\nprint(enumerate(l1,1))\", \"#enumerate()\\tTakes a collection (e.g. a tuple) and returns it as an enumerate object\\nl1=['A','B','C','D','E','F']\\nprint(enumerate(l1,Start=1))\", '#eval()\\tEvaluates and executes an expression\\nprint(eval(x==12))', '#eval()\\tEvaluates and executes an expression\\nx=print(12)\\nprint(eval(x))', \"#eval(expression, globals, locals)\\tEvaluates and executes an expression\\nx=print(12)\\nprint(eval('x'))\", '# # exec(object, globals, locals)\\n# The exec() function executes the specified Python code.\\n# The exec() function accepts large blocks of code, unlike the eval() function which only accepts a single expression\\nx = \\'name = \"John\"\\\\nprint(name)\\'\\nexec(x)', '#The filter() function returns an iterator were the items are filtered through a function to test if the item is accepted or not.', '# filter(function, iterable) function returns an iterator were the items are filtered through a function to test if the item is accepted or not.\\nages={12,14,16,18,20,22,24}\\n\\ndef nwFn():\\n    if ages < 18:\\n    return minor \\n    else:\\n    return Adult\\nadults= {nwFn, ages}\\n\\nfor i in adults:\\n    print(i)', '# filter(function, iterable) function returns an iterator were the items are filtered through a function to test if the item is accepted or not.\\nages={12,14,16,18,20,22,24}\\n\\ndef nwFn():\\n    if ages < 18:\\n     return minor \\n    else:\\n     return Adult\\nadults= {nwFn, ages}\\n\\nfor i in adults:\\n    print(i)', '# filter(function, iterable) function returns an iterator were the items are filtered through a function to test if the item is accepted or not.\\nages={12,14,16,18,20,22,24}\\n\\ndef nwFn():\\n    if ages < 18:\\n     return minor \\n    else:\\n     return Adult\\nadults= filter(nwFn, ages)\\n\\nfor i in adults:\\n    print(i)', '# filter(function, iterable) function returns an iterator were the items are filtered through a function to test if the item is accepted or not.\\nages={12,14,16,18,20,22,24}\\n\\ndef nwFn(i):\\n    if ages < 18:\\n     return minor \\n    else:\\n     return Adult\\nadults= filter(nwFn, ages)\\n\\nfor i in adults:\\n    print(i)', '# filter(function, iterable) function returns an iterator were the items are filtered through a function to test if the item is accepted or not.\\nages={12,14,16,18,20,22,24}\\n\\ndef nwFn(i):\\n    if i < 18:\\n     return minor \\n    else:\\n     return Adult\\nadults= filter(nwFn, ages)\\n\\nfor i in adults:\\n    print(i)', '# filter(function, iterable) function returns an iterator were the items are filtered through a function to test if the item is accepted or not.\\nages={12,14,16,18,20,22,24}\\n\\ndef nwFn(i):\\n    if i < 18:\\n     return Flase \\n    else:\\n     return True\\n\\nadults= filter(nwFn, ages)\\n\\nfor i in adults:\\n    print(i)', '# filter(function, iterable) function returns an iterator were the items are filtered through a function to test if the item is accepted or not.\\nages={12,14,16,18,20,22,24}\\n\\ndef nwFn(i):\\n    if i < 18:\\n     return False \\n    else:\\n     return True\\n\\nadults= filter(nwFn, ages)\\n\\nfor i in adults:\\n    print(i)', '# filter(function, iterable) function returns an iterator were the items are filtered through a function to test if the item is accepted or not.\\nages={12,14,16,18,20,22,24}\\n\\ndef nwFn(i):\\n    if i < 18:\\n     return \"minor\" \\n    else:\\n     return \"Adult\"\\n\\nadults= filter(nwFn, ages)\\n\\nfor i in adults:\\n    print(i)', '# filter(function, iterable) function returns an iterator were the items are filtered through a function to test if the item is accepted or not.\\nages={12,14,16,18,20,22,24}\\n\\ndef nwFn(i):\\n    if i < 18:\\n     return \"minor\" \\n    else:\\n     return \"Adult\"\\n\\nadults= filter(nwFn, ages)\\n\\nfor i in adults:\\n    print(i, return)', '# filter(function, iterable) function returns an iterator were the items are filtered through a function to test if the item is accepted or not.\\nages={12,14,16,18,20,22,24}\\n\\ndef nwFn(i):\\n    if i < 18:\\n     return \"minor\" \\n    else:\\n     return \"Adult\"\\n\\nadults= filter(nwFn, ages)\\n\\nfor i in adults:\\n    print(i)', '# filter(function, iterable) function returns an iterator were the items are filtered through a function to test if the item is accepted or not.\\nages={12,14,16,18,20,22,24}\\n\\ndef nwFn(i):\\n    if i < 18:\\n     return False \\n    else:\\n     return True\\n\\nadults= filter(nwFn, ages)\\n\\nfor i in adults:\\n    print(i)', '# filter(function, iterable) function returns an iterator were the items are filtered through a function to test if the item is accepted or not.\\nages={12,14,16,18,20,22,24}\\n\\ndef nwFn(i):\\n    if i < 18:\\n     return False \\n    else:\\n     return True\\n\\nadults= filter(nwFn, ages)\\nprint(adults)\\n\\nfor i in adults:\\n    print(i)', '# filter(function, iterable) function returns an iterator were the items are filtered through a function to test if the item is accepted or not.\\nages={12,14,16,18,20,22,24}\\n\\ndef nwFn(i):\\n    if i < 18:\\n     return False \\n    else:\\n     return True\\n\\nadults= filter(nwFn, ages)\\n print(adults)\\n\\nfor i in adults:\\n    print(i)', '# filter(function, iterable) function returns an iterator were the items are filtered through a function to test if the item is accepted or not.\\nages={12,14,16,18,20,22,24}\\n\\ndef nwFn(i):\\n    if i < 18:\\n     return False \\n    else:\\n     return True\\n\\nadults= filter(nwFn, ages)\\nprint(adults)\\n\\nfor i in adults:\\n    print(i)', '#float()\\tReturns a floating point number\\nprint(float(\"4\"))', '#The format(value, format) function formats a specified value into a specified format.\\nprint(format(15,^))', \"#The format(value, format) function formats a specified value into a specified format.\\nprint(format(15,'^'))\", \"#The format(value, format) function formats a specified value into a specified format.\\nprint(format(15,'_'))\", \"#The format(value, format) function formats a specified value into a specified format.\\nprint(format(15 20,'_'))\", \"#The format(value, format) function formats a specified value into a specified format.\\nprint(format(15, 20,'_'))\", \"#The format(value, format) function formats a specified value into a specified format.\\nprint(format(1520,'_'))\", \"#The format(value, format) function formats a specified value into a specified format.\\nprint(format(1520700,'_'))\", \"#The format(value, format) function formats a specified value into a specified format.\\nprint(format(1520700,'X'))\", \"#The format(value, format) function formats a specified value into a specified format.\\nprint(format(1520700,'x'))\", '# The frozenset(iterable) function returns an unchangeable frozenset object (which is like a set object, only unchangeable).\\nq={1,2,3,4,5,6}\\nprint(frozenset(q))', '# The frozenset(iterable) function returns an unchangeable frozenset object (which is like a set object, only unchangeable).\\nq={1,2,3,4,5,6}\\nprint(type(frozenset(q))', '# The frozenset(iterable) function returns an unchangeable frozenset object (which is like a set object, only unchangeable).\\nq={1,2,3,4,5,6}\\nprint(type(frozenset(q)))', '# The frozenset(iterable) function returns an unchangeable frozenset object \\n# (which is like a set object, only unchangeable).\\nq={1,2,3,4,5,6}\\nprint(frozenset(q))\\nprint(type(frozenset(q)))', 'class Person:\\n  name = \"John\"\\n  age = 36\\n  country = \"Norway\"\\n\\nx = getattr(Person, \\'age\\')', 'class Person:\\n  name = \"John\"\\n  age = 36\\n  country = \"Norway\"\\n\\nx = getattr(Person, \\'age\\')', 'class Person:\\n  name = \"John\"\\n  age = 36\\n  country = \"Norway\"\\n\\nx = getattr(Person, \\'age\\')', 'class Person:\\n  name = \"John\"\\n  age = 36\\n  country = \"Norway\"\\n\\nx = getattr(Person, \\'page\\', \\'my message\\')', 'class Person:\\n  name = \"John\"\\n  age = 36\\n  country = \"Norway\"\\n\\nx = getattr(Person, \\'page\\', \\'my message\\')\\nprint(x)', '# getattr(object, attribute, default) function returns the value of the specified attribute from the specified object.\\nclass Person:\\n  name = \"John\"\\n  age = 36\\n  country = \"Norway\"\\n\\nx = getattr(Person, \\'age\\', \\'my message\\')\\nprint(x)', '# getattr(object, attribute, default) function returns the value of the specified attribute from the specified object.\\nclass Person:\\n  name = \"John\"\\n  age = 36\\n  country = \"Norway\"\\n\\nx = getattr(Person, \\'country\\', \\'my message\\')\\nprint(x)', '# getattr(object, attribute, default) function returns the value of the specified attribute from the specified object.\\nclass Person:\\n  name = \"John\"\\n  age = 36\\n  country = \"Norway\"\\nx = getattr(Person, \\'country\\', \\'my message\\')\\nprint(x)\\ny = getattr(Person, \\'page\\', \\'not availble\\')\\nprint(x)\\n\\n# The delattr() function, to remove an attribute\\n\\n# The hasattr() function, to check if an attribute exist\\n\\n# The setattr() function, to set the value of an attribute', '# getattr(object, attribute, default) function returns the value of the specified attribute from the specified object.\\nclass Person:\\n  name = \"John\"\\n  age = 36\\n  country = \"Norway\"\\nx = getattr(Person, \\'country\\', \\'my message\\')\\nprint(x)\\ny = getattr(Person, \\'page\\', \\'not availble\\')\\nprint(y)\\n\\n# The delattr() function, to remove an attribute\\n\\n# The hasattr() function, to check if an attribute exist\\n\\n# The setattr() function, to set the value of an attribute', 'x = globals()\\nprint(x)'], '_oh': {}, '_dh': [PosixPath('/Users/ashutosh/Desktop/Directory/python/PythonCode/JupyterNotebook')], 'In': ['', '#abs()\\tReturns the absolute value of a number\\nprint(abs(-40))', '#abs()\\tReturns the absolute value of a number\\nprint(abs(-40))\\nprint(abs(40.59))', '#abs()\\tReturns the absolute value of a number\\nprint(abs(-40))\\nprint(abs(3+5j))', '# all()\\tReturns True if all items in an iterable object are true\\nx={1,2,3,4,5,6}\\nprint(all(x))', '# all()\\tReturns True if all items in an iterable object are true\\nx={1,2,3,4,5,6}\\nprint(all(x))\\ny=\"Ram\"\\nprint(all(y))', '# all()\\tReturns True if all items in an iterable object are true, otherwise false\\nx={1,2,3,4,5,6}\\nprint(all(x))\\ny=\"Ram\"\\nprint(all(y))\\nZ=1\\nprint(all(z))', '# all()\\tReturns True if all items in an iterable object are true, otherwise false\\nx={1,2,3,4,5,6}\\nprint(all(x))\\ny=\"Ram\"\\nprint(all(y))\\nZ=1\\nprint(all(Z))', '# all()\\tReturns True if all items in an iterable object are true, otherwise false\\nx={1,2,3,4,5,6}\\nprint(all(x))\\ny=\"Ram\"\\nprint(all(y))\\n#Z=1\\n#print(all(Z))\\n#any()\\tReturns True if any item in an iterable object is true\\nZ=1,2\\nprint(any(Z))', 'print(ascii(\"My name is Ståle\"))', 'print(ascii(\"My name is Ståle\"))', '#bin()\\tReturns the binary version of a number\\nprint(bin(1))', '#bin()\\tReturns the binary version of a number,The result will always start with the prefix 0b.\\nprint(bin(34))', '#bin()\\tReturns the binary version of a number,The result will always start with the prefix 0b.\\nprint(bin(4))', '#bin()\\tReturns the binary version of a number,The result will always start with the prefix 0b.\\nprint(bin(10))', '#bool()\\tReturns the boolean value of the specified object\\nprint(bool(2==3))', '#bin()\\tReturns the binary version of a number,The result will always start with the prefix 0b.\\nprint(bin(10))\\n#bytearray()\\tReturns an array of bytes\\nprint(bytearray(10))', '#bin()\\tReturns the binary version of a number,The result will always start with the prefix 0b.\\nprint(bin(10))\\n#bytearray(x, encoding, error)\\tReturns an array of bytes\\nprint(bytearray(\"Hi\",utf-8,@))', '#bin()\\tReturns the binary version of a number,The result will always start with the prefix 0b.\\nprint(bin(10))\\n#bytearray(x, encoding, error)\\tReturns an array of bytes\\nprint(bytearray(\"Hi\",utf-8,\"@\"))', '#bin()\\tReturns the binary version of a number,The result will always start with the prefix 0b.\\nprint(bin(10))\\n#bytearray(x, encoding, error)\\tReturns an array of bytes\\nprint(bytearray(\"Hi\",UTF-8,\"@\"))', '#bin()\\tReturns the binary version of a number,The result will always start with the prefix 0b.\\nprint(bin(10))\\n#bytearray(x, encoding, error)\\tReturns an array of bytes\\nprint(bytearray(\"Hi\",UTF8,\"@\"))', '#bin()\\tReturns the binary version of a number,The result will always start with the prefix 0b.\\nprint(bin(10))\\n#bytearray(x, encoding, error)\\tReturns an array of bytes\\nprint(bytearray(\"Hi\",Utf8,\"@\"))', '#bin()\\tReturns the binary version of a number,The result will always start with the prefix 0b.\\nprint(bin(10))\\n#bytearray(x, encoding, error)\\tReturns an array of bytes\\nprint(bytearray(\"Hi\",Utf-8,\"@\"))', '#bin()\\tReturns the binary version of a number,The result will always start with the prefix 0b.\\nprint(bin(10))\\n#bytearray(x, encoding, error)\\tReturns an array of bytes\\nprint(bytearray(\"Hi\",\\'Utf-8\\',\"@\"))', '#bin()\\tReturns the binary version of a number,The result will always start with the prefix 0b.\\nprint(bin(10))\\n#bytearray(x, encoding, error)\\tReturns an array of bytes\\nprint(bytearray(\"Hi\",\\'Utf-8\\',\"@\"))\\nprint(bytearray(23,\\'Utf-8\\',\"@\"))', '#bin()\\tReturns the binary version of a number,The result will always start with the prefix 0b.\\nprint(bin(10))\\n#bytearray(x, encoding, error)\\tReturns an array of bytes\\nprint(bytearray(\"Hi\",\\'Utf-8\\',\"@\"))\\nprint(bytearray(23,\"@\"))', '#bin()\\tReturns the binary version of a number,The result will always start with the prefix 0b.\\nprint(bin(10))\\n#bytearray(x, encoding, error)\\tReturns an array of bytes\\nprint(bytearray(\"Hi\",\\'Utf-8\\',\"@\"))\\nprint(bytearray(23)', '#bin()\\tReturns the binary version of a number,The result will always start with the prefix 0b.\\nprint(bin(10))\\n#bytearray(x, encoding, error)\\tReturns an array of bytes\\nprint(bytearray(\"Hi\",\\'Utf-8\\',\"@\"))\\nprint(bytearray(23))', '#bin()\\tReturns the binary version of a number,The result will always start with the prefix 0b.\\nprint(bin(10))\\n#bytearray(x, encoding, error)\\tReturns an array of bytes\\nprint(bytearray(\"Hi\",\\'Utf-8\\',\"@\"))\\nprint(bytearray(23))\\n#bytes()\\tReturns a bytes object\\nprint(bytes(\"h\"))', '#bin()\\tReturns the binary version of a number,The result will always start with the prefix 0b.\\nprint(bin(10))\\n#bytearray(x, encoding, error)\\tReturns an array of bytes\\nprint(bytearray(\"Hi\",\\'Utf-8\\',\"@\"))\\nprint(bytearray(23))\\n#bytes()\\tReturns a bytes object\\nprint(bytes(\"h\",\\'utf-8\\'))', '#bin()\\tReturns the binary version of a number,The result will always start with the prefix 0b.\\nprint(bin(10))\\n#bytearray(x, encoding, error)\\tReturns an array of bytes\\nprint(bytearray(\"Hi\",\\'Utf-8\\',\"@\"))\\nprint(bytearray(23))\\n#bytes()\\tReturns a bytes object\\nprint(bytes(\"h\",\\'utf-8\\'))\\nprint(bytes(6))', '#callable()\\tReturns True if the specified object is callable, otherwise False\\ndef cube(X):\\n    return X*X*X\\nprint(callable(cube(X))', '#callable()\\tReturns True if the specified object is callable, otherwise False\\ndef cube(X):\\n    return X*X*X\\nprint(callable(cube(4))', '#callable()\\tReturns True if the specified object is callable, otherwise False\\ndef cube(x):\\n    return x**3\\nprint(callable(cube(4))', '#callable()\\tReturns True if the specified object is callable, otherwise False\\ndef cube(x):\\n    return x**3\\nprint(callable(cube(x))', '#callable()\\tReturns True if the specified object is callable, otherwise False\\ndef cube(x):\\n    return x**3\\nprint(callable(cube(x)))', '#callable()\\tReturns True if the specified object is callable, otherwise False\\ndef cube(x):\\n    return xpow(3)\\nprint(callable(cube(x)))', '#callable()\\tReturns True if the specified object is callable, otherwise False\\ndef cube(x):\\n    return x.pow(3)\\nprint(callable(cube(x)))', '#callable()\\tReturns True if the specified object is callable, otherwise False\\ndef cube(x):\\n    return pow(X,3)\\nprint(callable(cube(x)))', '#callable()\\tReturns True if the specified object is callable, otherwise False\\ndef cube(x):\\n    return pow(x,3)\\nprint(callable(cube(x)))', '#callable()\\tReturns True if the specified object is callable, otherwise False\\ndef cube(x):\\n    return pow(x,3)\\nprint(callable(cube(4)))', '#callable()\\tReturns True if the specified object is callable, otherwise False\\ndef cube(x):\\n    return pow(x,3)\\nprint(callable(cube(4)))\\na=5\\nprint(callable(a))', '#callable()\\tReturns True if the specified object is callable, otherwise False\\ndef cube(x):\\n    return pow(x,3)\\nprint(callable(cube))\\na=5\\nprint(callable(a))', '#bin()\\tReturns the binary version of a number,The result will always start with the prefix 0b.\\nprint(bin(10))\\n#bytearray(x, encoding, error)\\tReturns an array of bytes\\nprint(bytearray(\"Hi\",\\'Utf-8\\',\"@\"))\\nprint(bytearray(23))\\n#bytesx, encoding, error)\\tReturns a bytes object\\nprint(bytes(\"h\",\\'utf-8\\'))\\nprint(bytes(6))\\n#chr()\\tReturns a character from the specified Unicode code.\\nprint(chr(11))', '#bin()\\tReturns the binary version of a number,The result will always start with the prefix 0b.\\nprint(bin(10))\\n#bytearray(x, encoding, error)\\tReturns an array of bytes\\nprint(bytearray(\"Hi\",\\'Utf-8\\',\"@\"))\\nprint(bytearray(23))\\n#bytesx, encoding, error)\\tReturns a bytes object\\nprint(bytes(\"h\",\\'utf-8\\'))\\nprint(bytes(6))\\n#chr()\\tReturns a character from the specified Unicode code.\\nprint(chr(1))', '#bin()\\tReturns the binary version of a number,The result will always start with the prefix 0b.\\nprint(bin(10))\\n#bytearray(x, encoding, error)\\tReturns an array of bytes\\nprint(bytearray(\"Hi\",\\'Utf-8\\',\"@\"))\\nprint(bytearray(23))\\n#bytesx, encoding, error)\\tReturns a bytes object\\nprint(bytes(\"h\",\\'utf-8\\'))\\nprint(bytes(6))\\n#chr()\\tReturns a character from the specified Unicode code.\\nprint(chr(\"he\"))', '#bin()\\tReturns the binary version of a number,The result will always start with the prefix 0b.\\nprint(bin(10))\\n#bytearray(x, encoding, error)\\tReturns an array of bytes\\nprint(bytearray(\"Hi\",\\'Utf-8\\',\"@\"))\\nprint(bytearray(23))\\n#bytesx, encoding, error)\\tReturns a bytes object\\nprint(bytes(\"h\",\\'utf-8\\'))\\nprint(bytes(6))\\n#chr()\\tReturns a character from the specified Unicode code.\\nprint(chr(123))', '#bin()\\tReturns the binary version of a number,The result will always start with the prefix 0b.\\nprint(bin(10))\\n#bytearray(x, encoding, error)\\tReturns an array of bytes\\nprint(bytearray(\"Hi\",\\'Utf-8\\',\"@\"))\\nprint(bytearray(23))\\n#bytesx, encoding, error)\\tReturns a bytes object\\nprint(bytes(\"h\",\\'utf-8\\'))\\nprint(bytes(6))\\n#chr()\\tReturns a character from the specified Unicode code.\\nprint(chr(97))', '#bin()\\tReturns the binary version of a number,The result will always start with the prefix 0b.\\nprint(bin(10))\\n#bytearray(x, encoding, error)\\tReturns an array of bytes\\nprint(bytearray(\"Hi\",\\'Utf-8\\',\"@\"))\\nprint(bytearray(23))\\n#bytesx, encoding, error)\\tReturns a bytes object\\nprint(bytes(\"h\",\\'utf-8\\'))\\nprint(bytes(6))\\n#chr()\\tReturns a character from the specified Unicode code.\\nprint(chr(97))', '#bin()\\tReturns the binary version of a number,The result will always start with the prefix 0b.\\nprint(bin(10))\\n#bytearray(x, encoding, error)\\tReturns an array of bytes\\nprint(bytearray(\"Hi\",\\'Utf-8\\',\"@\"))\\nprint(bytearray(23))\\n#bytesx, encoding, error)\\tReturns a bytes object\\nprint(bytes(\"h\",\\'utf-8\\'))\\nprint(bytes(6))\\n#chr()\\tReturns a character from the specified Unicode code.\\nprint(chr(97))\\n#The compile(source, filename, mode, flag, dont_inherit, optimize) - function returns the specified source as a code object, ready to be executed.\\nx = compile(\\'print(55)\\\\nprint(88)\\', \\'test\\', \\'exec\\')\\nexec(x)', 'print(complex(3.5))', 'print(complex(3,5))', \"# complex(real, imaginary) returns a complex number by specifying a real number and an imaginary number.\\nprint(complex(3,5))\\nprint(complex('3+5j'))\", '#', '#dict()\\tReturns a dictionary (Array)\\nprint(dict(1,2,3))', '#dict()\\tReturns a dictionary (Array)\\nprint(dict(1))', '#dict()\\tReturns a dictionary (Array)\\nprint(dict(1,))', '#dict()\\tReturns a dictionary (Array)\\nx=1,2,3\\ny=0\\nprint(dict(x,y))', '#dict()\\tReturns a dictionary (Array)\\nx=1,2,3\\ny=0\\nprint(dict(x))', '#dict(key=value,...)\\tReturns a dictionary (Array)\\n\\nprint(dict(dict(name = \"John\", age = 36, country = \"Norway\")))', '#dict(key=value,...)\\tReturns a dictionary (Array)\\nprint(dict(dict(name = \"John\", age = 36, country = \"Norway\")))', '# The dir() function returns all properties and methods of the specified object, without the values.\\n# This function will return all the properties and methods, even built-in properties which are default for all object.\\nclass student:\\n    name=\"many\"\\n    age=\"12\"\\n    section=\"3rd\"\\nprint(dir(student))    ', 'print(divmod(8,3))', '#enumerate()\\tTakes a collection (e.g. a tuple) and returns it as an enumerate object\\nl1=[A,B,C,D,E,F]\\nprint(enumerate(l1,1))', \"#enumerate()\\tTakes a collection (e.g. a tuple) and returns it as an enumerate object\\nl1=['A','B','C','D','E','F']\\nprint(enumerate(l1,1))\", \"#enumerate()\\tTakes a collection (e.g. a tuple) and returns it as an enumerate object\\nl1=['A','B','C','D','E','F']\\nprint(enumerate(l1,Start=1))\", '#eval()\\tEvaluates and executes an expression\\nprint(eval(x==12))', '#eval()\\tEvaluates and executes an expression\\nx=print(12)\\nprint(eval(x))', \"#eval(expression, globals, locals)\\tEvaluates and executes an expression\\nx=print(12)\\nprint(eval('x'))\", '# # exec(object, globals, locals)\\n# The exec() function executes the specified Python code.\\n# The exec() function accepts large blocks of code, unlike the eval() function which only accepts a single expression\\nx = \\'name = \"John\"\\\\nprint(name)\\'\\nexec(x)', '#The filter() function returns an iterator were the items are filtered through a function to test if the item is accepted or not.', '# filter(function, iterable) function returns an iterator were the items are filtered through a function to test if the item is accepted or not.\\nages={12,14,16,18,20,22,24}\\n\\ndef nwFn():\\n    if ages < 18:\\n    return minor \\n    else:\\n    return Adult\\nadults= {nwFn, ages}\\n\\nfor i in adults:\\n    print(i)', '# filter(function, iterable) function returns an iterator were the items are filtered through a function to test if the item is accepted or not.\\nages={12,14,16,18,20,22,24}\\n\\ndef nwFn():\\n    if ages < 18:\\n     return minor \\n    else:\\n     return Adult\\nadults= {nwFn, ages}\\n\\nfor i in adults:\\n    print(i)', '# filter(function, iterable) function returns an iterator were the items are filtered through a function to test if the item is accepted or not.\\nages={12,14,16,18,20,22,24}\\n\\ndef nwFn():\\n    if ages < 18:\\n     return minor \\n    else:\\n     return Adult\\nadults= filter(nwFn, ages)\\n\\nfor i in adults:\\n    print(i)', '# filter(function, iterable) function returns an iterator were the items are filtered through a function to test if the item is accepted or not.\\nages={12,14,16,18,20,22,24}\\n\\ndef nwFn(i):\\n    if ages < 18:\\n     return minor \\n    else:\\n     return Adult\\nadults= filter(nwFn, ages)\\n\\nfor i in adults:\\n    print(i)', '# filter(function, iterable) function returns an iterator were the items are filtered through a function to test if the item is accepted or not.\\nages={12,14,16,18,20,22,24}\\n\\ndef nwFn(i):\\n    if i < 18:\\n     return minor \\n    else:\\n     return Adult\\nadults= filter(nwFn, ages)\\n\\nfor i in adults:\\n    print(i)', '# filter(function, iterable) function returns an iterator were the items are filtered through a function to test if the item is accepted or not.\\nages={12,14,16,18,20,22,24}\\n\\ndef nwFn(i):\\n    if i < 18:\\n     return Flase \\n    else:\\n     return True\\n\\nadults= filter(nwFn, ages)\\n\\nfor i in adults:\\n    print(i)', '# filter(function, iterable) function returns an iterator were the items are filtered through a function to test if the item is accepted or not.\\nages={12,14,16,18,20,22,24}\\n\\ndef nwFn(i):\\n    if i < 18:\\n     return False \\n    else:\\n     return True\\n\\nadults= filter(nwFn, ages)\\n\\nfor i in adults:\\n    print(i)', '# filter(function, iterable) function returns an iterator were the items are filtered through a function to test if the item is accepted or not.\\nages={12,14,16,18,20,22,24}\\n\\ndef nwFn(i):\\n    if i < 18:\\n     return \"minor\" \\n    else:\\n     return \"Adult\"\\n\\nadults= filter(nwFn, ages)\\n\\nfor i in adults:\\n    print(i)', '# filter(function, iterable) function returns an iterator were the items are filtered through a function to test if the item is accepted or not.\\nages={12,14,16,18,20,22,24}\\n\\ndef nwFn(i):\\n    if i < 18:\\n     return \"minor\" \\n    else:\\n     return \"Adult\"\\n\\nadults= filter(nwFn, ages)\\n\\nfor i in adults:\\n    print(i, return)', '# filter(function, iterable) function returns an iterator were the items are filtered through a function to test if the item is accepted or not.\\nages={12,14,16,18,20,22,24}\\n\\ndef nwFn(i):\\n    if i < 18:\\n     return \"minor\" \\n    else:\\n     return \"Adult\"\\n\\nadults= filter(nwFn, ages)\\n\\nfor i in adults:\\n    print(i)', '# filter(function, iterable) function returns an iterator were the items are filtered through a function to test if the item is accepted or not.\\nages={12,14,16,18,20,22,24}\\n\\ndef nwFn(i):\\n    if i < 18:\\n     return False \\n    else:\\n     return True\\n\\nadults= filter(nwFn, ages)\\n\\nfor i in adults:\\n    print(i)', '# filter(function, iterable) function returns an iterator were the items are filtered through a function to test if the item is accepted or not.\\nages={12,14,16,18,20,22,24}\\n\\ndef nwFn(i):\\n    if i < 18:\\n     return False \\n    else:\\n     return True\\n\\nadults= filter(nwFn, ages)\\nprint(adults)\\n\\nfor i in adults:\\n    print(i)', '# filter(function, iterable) function returns an iterator were the items are filtered through a function to test if the item is accepted or not.\\nages={12,14,16,18,20,22,24}\\n\\ndef nwFn(i):\\n    if i < 18:\\n     return False \\n    else:\\n     return True\\n\\nadults= filter(nwFn, ages)\\n print(adults)\\n\\nfor i in adults:\\n    print(i)', '# filter(function, iterable) function returns an iterator were the items are filtered through a function to test if the item is accepted or not.\\nages={12,14,16,18,20,22,24}\\n\\ndef nwFn(i):\\n    if i < 18:\\n     return False \\n    else:\\n     return True\\n\\nadults= filter(nwFn, ages)\\nprint(adults)\\n\\nfor i in adults:\\n    print(i)', '#float()\\tReturns a floating point number\\nprint(float(\"4\"))', '#The format(value, format) function formats a specified value into a specified format.\\nprint(format(15,^))', \"#The format(value, format) function formats a specified value into a specified format.\\nprint(format(15,'^'))\", \"#The format(value, format) function formats a specified value into a specified format.\\nprint(format(15,'_'))\", \"#The format(value, format) function formats a specified value into a specified format.\\nprint(format(15 20,'_'))\", \"#The format(value, format) function formats a specified value into a specified format.\\nprint(format(15, 20,'_'))\", \"#The format(value, format) function formats a specified value into a specified format.\\nprint(format(1520,'_'))\", \"#The format(value, format) function formats a specified value into a specified format.\\nprint(format(1520700,'_'))\", \"#The format(value, format) function formats a specified value into a specified format.\\nprint(format(1520700,'X'))\", \"#The format(value, format) function formats a specified value into a specified format.\\nprint(format(1520700,'x'))\", '# The frozenset(iterable) function returns an unchangeable frozenset object (which is like a set object, only unchangeable).\\nq={1,2,3,4,5,6}\\nprint(frozenset(q))', '# The frozenset(iterable) function returns an unchangeable frozenset object (which is like a set object, only unchangeable).\\nq={1,2,3,4,5,6}\\nprint(type(frozenset(q))', '# The frozenset(iterable) function returns an unchangeable frozenset object (which is like a set object, only unchangeable).\\nq={1,2,3,4,5,6}\\nprint(type(frozenset(q)))', '# The frozenset(iterable) function returns an unchangeable frozenset object \\n# (which is like a set object, only unchangeable).\\nq={1,2,3,4,5,6}\\nprint(frozenset(q))\\nprint(type(frozenset(q)))', 'class Person:\\n  name = \"John\"\\n  age = 36\\n  country = \"Norway\"\\n\\nx = getattr(Person, \\'age\\')', 'class Person:\\n  name = \"John\"\\n  age = 36\\n  country = \"Norway\"\\n\\nx = getattr(Person, \\'age\\')', 'class Person:\\n  name = \"John\"\\n  age = 36\\n  country = \"Norway\"\\n\\nx = getattr(Person, \\'age\\')', 'class Person:\\n  name = \"John\"\\n  age = 36\\n  country = \"Norway\"\\n\\nx = getattr(Person, \\'page\\', \\'my message\\')', 'class Person:\\n  name = \"John\"\\n  age = 36\\n  country = \"Norway\"\\n\\nx = getattr(Person, \\'page\\', \\'my message\\')\\nprint(x)', '# getattr(object, attribute, default) function returns the value of the specified attribute from the specified object.\\nclass Person:\\n  name = \"John\"\\n  age = 36\\n  country = \"Norway\"\\n\\nx = getattr(Person, \\'age\\', \\'my message\\')\\nprint(x)', '# getattr(object, attribute, default) function returns the value of the specified attribute from the specified object.\\nclass Person:\\n  name = \"John\"\\n  age = 36\\n  country = \"Norway\"\\n\\nx = getattr(Person, \\'country\\', \\'my message\\')\\nprint(x)', '# getattr(object, attribute, default) function returns the value of the specified attribute from the specified object.\\nclass Person:\\n  name = \"John\"\\n  age = 36\\n  country = \"Norway\"\\nx = getattr(Person, \\'country\\', \\'my message\\')\\nprint(x)\\ny = getattr(Person, \\'page\\', \\'not availble\\')\\nprint(x)\\n\\n# The delattr() function, to remove an attribute\\n\\n# The hasattr() function, to check if an attribute exist\\n\\n# The setattr() function, to set the value of an attribute', '# getattr(object, attribute, default) function returns the value of the specified attribute from the specified object.\\nclass Person:\\n  name = \"John\"\\n  age = 36\\n  country = \"Norway\"\\nx = getattr(Person, \\'country\\', \\'my message\\')\\nprint(x)\\ny = getattr(Person, \\'page\\', \\'not availble\\')\\nprint(y)\\n\\n# The delattr() function, to remove an attribute\\n\\n# The hasattr() function, to check if an attribute exist\\n\\n# The setattr() function, to set the value of an attribute', 'x = globals()\\nprint(x)'], 'Out': {}, 'get_ipython': <bound method InteractiveShell.get_ipython of <ipykernel.zmqshell.ZMQInteractiveShell object at 0x103c11b50>>, 'exit': <IPython.core.autocall.ZMQExitAutocall object at 0x103c2d050>, 'quit': <IPython.core.autocall.ZMQExitAutocall object at 0x103c2d050>, 'open': <function open at 0x1026e3d80>, '_': '', '__': '', '___': '', '_i': '# getattr(object, attribute, default) function returns the value of the specified attribute from the specified object.\\nclass Person:\\n  name = \"John\"\\n  age = 36\\n  country = \"Norway\"\\nx = getattr(Person, \\'country\\', \\'my message\\')\\nprint(x)\\ny = getattr(Person, \\'page\\', \\'not availble\\')\\nprint(y)\\n\\n# The delattr() function, to remove an attribute\\n\\n# The hasattr() function, to check if an attribute exist\\n\\n# The setattr() function, to set the value of an attribute', '_ii': '# getattr(object, attribute, default) function returns the value of the specified attribute from the specified object.\\nclass Person:\\n  name = \"John\"\\n  age = 36\\n  country = \"Norway\"\\nx = getattr(Person, \\'country\\', \\'my message\\')\\nprint(x)\\ny = getattr(Person, \\'page\\', \\'not availble\\')\\nprint(x)\\n\\n# The delattr() function, to remove an attribute\\n\\n# The hasattr() function, to check if an attribute exist\\n\\n# The setattr() function, to set the value of an attribute', '_iii': '# getattr(object, attribute, default) function returns the value of the specified attribute from the specified object.\\nclass Person:\\n  name = \"John\"\\n  age = 36\\n  country = \"Norway\"\\n\\nx = getattr(Person, \\'country\\', \\'my message\\')\\nprint(x)', '_i1': '#abs()\\tReturns the absolute value of a number\\nprint(abs(-40))', '_i2': '#abs()\\tReturns the absolute value of a number\\nprint(abs(-40))\\nprint(abs(40.59))', '_i3': '#abs()\\tReturns the absolute value of a number\\nprint(abs(-40))\\nprint(abs(3+5j))', '_i4': '# all()\\tReturns True if all items in an iterable object are true\\nx={1,2,3,4,5,6}\\nprint(all(x))', 'x': {...}, '_i5': '# all()\\tReturns True if all items in an iterable object are true\\nx={1,2,3,4,5,6}\\nprint(all(x))\\ny=\"Ram\"\\nprint(all(y))', 'y': 'not availble', '_i6': '# all()\\tReturns True if all items in an iterable object are true, otherwise false\\nx={1,2,3,4,5,6}\\nprint(all(x))\\ny=\"Ram\"\\nprint(all(y))\\nZ=1\\nprint(all(z))', 'Z': (1, 2), '_i7': '# all()\\tReturns True if all items in an iterable object are true, otherwise false\\nx={1,2,3,4,5,6}\\nprint(all(x))\\ny=\"Ram\"\\nprint(all(y))\\nZ=1\\nprint(all(Z))', '_i8': '# all()\\tReturns True if all items in an iterable object are true, otherwise false\\nx={1,2,3,4,5,6}\\nprint(all(x))\\ny=\"Ram\"\\nprint(all(y))\\n#Z=1\\n#print(all(Z))\\n#any()\\tReturns True if any item in an iterable object is true\\nZ=1,2\\nprint(any(Z))', '_i9': 'print(ascii(\"My name is Ståle\"))', '_i10': 'print(ascii(\"My name is Ståle\"))', '_i11': '#bin()\\tReturns the binary version of a number\\nprint(bin(1))', '_i12': '#bin()\\tReturns the binary version of a number,The result will always start with the prefix 0b.\\nprint(bin(34))', '_i13': '#bin()\\tReturns the binary version of a number,The result will always start with the prefix 0b.\\nprint(bin(4))', '_i14': '#bin()\\tReturns the binary version of a number,The result will always start with the prefix 0b.\\nprint(bin(10))', '_i15': '#bool()\\tReturns the boolean value of the specified object\\nprint(bool(2==3))', '_i16': '#bin()\\tReturns the binary version of a number,The result will always start with the prefix 0b.\\nprint(bin(10))\\n#bytearray()\\tReturns an array of bytes\\nprint(bytearray(10))', '_i17': '#bin()\\tReturns the binary version of a number,The result will always start with the prefix 0b.\\nprint(bin(10))\\n#bytearray(x, encoding, error)\\tReturns an array of bytes\\nprint(bytearray(\"Hi\",utf-8,@))', '_i18': '#bin()\\tReturns the binary version of a number,The result will always start with the prefix 0b.\\nprint(bin(10))\\n#bytearray(x, encoding, error)\\tReturns an array of bytes\\nprint(bytearray(\"Hi\",utf-8,\"@\"))', '_i19': '#bin()\\tReturns the binary version of a number,The result will always start with the prefix 0b.\\nprint(bin(10))\\n#bytearray(x, encoding, error)\\tReturns an array of bytes\\nprint(bytearray(\"Hi\",UTF-8,\"@\"))', '_i20': '#bin()\\tReturns the binary version of a number,The result will always start with the prefix 0b.\\nprint(bin(10))\\n#bytearray(x, encoding, error)\\tReturns an array of bytes\\nprint(bytearray(\"Hi\",UTF8,\"@\"))', '_i21': '#bin()\\tReturns the binary version of a number,The result will always start with the prefix 0b.\\nprint(bin(10))\\n#bytearray(x, encoding, error)\\tReturns an array of bytes\\nprint(bytearray(\"Hi\",Utf8,\"@\"))', '_i22': '#bin()\\tReturns the binary version of a number,The result will always start with the prefix 0b.\\nprint(bin(10))\\n#bytearray(x, encoding, error)\\tReturns an array of bytes\\nprint(bytearray(\"Hi\",Utf-8,\"@\"))', '_i23': '#bin()\\tReturns the binary version of a number,The result will always start with the prefix 0b.\\nprint(bin(10))\\n#bytearray(x, encoding, error)\\tReturns an array of bytes\\nprint(bytearray(\"Hi\",\\'Utf-8\\',\"@\"))', '_i24': '#bin()\\tReturns the binary version of a number,The result will always start with the prefix 0b.\\nprint(bin(10))\\n#bytearray(x, encoding, error)\\tReturns an array of bytes\\nprint(bytearray(\"Hi\",\\'Utf-8\\',\"@\"))\\nprint(bytearray(23,\\'Utf-8\\',\"@\"))', '_i25': '#bin()\\tReturns the binary version of a number,The result will always start with the prefix 0b.\\nprint(bin(10))\\n#bytearray(x, encoding, error)\\tReturns an array of bytes\\nprint(bytearray(\"Hi\",\\'Utf-8\\',\"@\"))\\nprint(bytearray(23,\"@\"))', '_i26': '#bin()\\tReturns the binary version of a number,The result will always start with the prefix 0b.\\nprint(bin(10))\\n#bytearray(x, encoding, error)\\tReturns an array of bytes\\nprint(bytearray(\"Hi\",\\'Utf-8\\',\"@\"))\\nprint(bytearray(23)', '_i27': '#bin()\\tReturns the binary version of a number,The result will always start with the prefix 0b.\\nprint(bin(10))\\n#bytearray(x, encoding, error)\\tReturns an array of bytes\\nprint(bytearray(\"Hi\",\\'Utf-8\\',\"@\"))\\nprint(bytearray(23))', '_i28': '#bin()\\tReturns the binary version of a number,The result will always start with the prefix 0b.\\nprint(bin(10))\\n#bytearray(x, encoding, error)\\tReturns an array of bytes\\nprint(bytearray(\"Hi\",\\'Utf-8\\',\"@\"))\\nprint(bytearray(23))\\n#bytes()\\tReturns a bytes object\\nprint(bytes(\"h\"))', '_i29': '#bin()\\tReturns the binary version of a number,The result will always start with the prefix 0b.\\nprint(bin(10))\\n#bytearray(x, encoding, error)\\tReturns an array of bytes\\nprint(bytearray(\"Hi\",\\'Utf-8\\',\"@\"))\\nprint(bytearray(23))\\n#bytes()\\tReturns a bytes object\\nprint(bytes(\"h\",\\'utf-8\\'))', '_i30': '#bin()\\tReturns the binary version of a number,The result will always start with the prefix 0b.\\nprint(bin(10))\\n#bytearray(x, encoding, error)\\tReturns an array of bytes\\nprint(bytearray(\"Hi\",\\'Utf-8\\',\"@\"))\\nprint(bytearray(23))\\n#bytes()\\tReturns a bytes object\\nprint(bytes(\"h\",\\'utf-8\\'))\\nprint(bytes(6))', '_i31': '#callable()\\tReturns True if the specified object is callable, otherwise False\\ndef cube(X):\\n    return X*X*X\\nprint(callable(cube(X))', '_i32': '#callable()\\tReturns True if the specified object is callable, otherwise False\\ndef cube(X):\\n    return X*X*X\\nprint(callable(cube(4))', '_i33': '#callable()\\tReturns True if the specified object is callable, otherwise False\\ndef cube(x):\\n    return x**3\\nprint(callable(cube(4))', '_i34': '#callable()\\tReturns True if the specified object is callable, otherwise False\\ndef cube(x):\\n    return x**3\\nprint(callable(cube(x))', '_i35': '#callable()\\tReturns True if the specified object is callable, otherwise False\\ndef cube(x):\\n    return x**3\\nprint(callable(cube(x)))', 'cube': <function cube at 0x10443c900>, '_i36': '#callable()\\tReturns True if the specified object is callable, otherwise False\\ndef cube(x):\\n    return xpow(3)\\nprint(callable(cube(x)))', '_i37': '#callable()\\tReturns True if the specified object is callable, otherwise False\\ndef cube(x):\\n    return x.pow(3)\\nprint(callable(cube(x)))', '_i38': '#callable()\\tReturns True if the specified object is callable, otherwise False\\ndef cube(x):\\n    return pow(X,3)\\nprint(callable(cube(x)))', '_i39': '#callable()\\tReturns True if the specified object is callable, otherwise False\\ndef cube(x):\\n    return pow(x,3)\\nprint(callable(cube(x)))', '_i40': '#callable()\\tReturns True if the specified object is callable, otherwise False\\ndef cube(x):\\n    return pow(x,3)\\nprint(callable(cube(4)))', '_i41': '#callable()\\tReturns True if the specified object is callable, otherwise False\\ndef cube(x):\\n    return pow(x,3)\\nprint(callable(cube(4)))\\na=5\\nprint(callable(a))', 'a': 5, '_i42': '#callable()\\tReturns True if the specified object is callable, otherwise False\\ndef cube(x):\\n    return pow(x,3)\\nprint(callable(cube))\\na=5\\nprint(callable(a))', '_i43': '#bin()\\tReturns the binary version of a number,The result will always start with the prefix 0b.\\nprint(bin(10))\\n#bytearray(x, encoding, error)\\tReturns an array of bytes\\nprint(bytearray(\"Hi\",\\'Utf-8\\',\"@\"))\\nprint(bytearray(23))\\n#bytesx, encoding, error)\\tReturns a bytes object\\nprint(bytes(\"h\",\\'utf-8\\'))\\nprint(bytes(6))\\n#chr()\\tReturns a character from the specified Unicode code.\\nprint(chr(11))', '_i44': '#bin()\\tReturns the binary version of a number,The result will always start with the prefix 0b.\\nprint(bin(10))\\n#bytearray(x, encoding, error)\\tReturns an array of bytes\\nprint(bytearray(\"Hi\",\\'Utf-8\\',\"@\"))\\nprint(bytearray(23))\\n#bytesx, encoding, error)\\tReturns a bytes object\\nprint(bytes(\"h\",\\'utf-8\\'))\\nprint(bytes(6))\\n#chr()\\tReturns a character from the specified Unicode code.\\nprint(chr(1))', '_i45': '#bin()\\tReturns the binary version of a number,The result will always start with the prefix 0b.\\nprint(bin(10))\\n#bytearray(x, encoding, error)\\tReturns an array of bytes\\nprint(bytearray(\"Hi\",\\'Utf-8\\',\"@\"))\\nprint(bytearray(23))\\n#bytesx, encoding, error)\\tReturns a bytes object\\nprint(bytes(\"h\",\\'utf-8\\'))\\nprint(bytes(6))\\n#chr()\\tReturns a character from the specified Unicode code.\\nprint(chr(\"he\"))', '_i46': '#bin()\\tReturns the binary version of a number,The result will always start with the prefix 0b.\\nprint(bin(10))\\n#bytearray(x, encoding, error)\\tReturns an array of bytes\\nprint(bytearray(\"Hi\",\\'Utf-8\\',\"@\"))\\nprint(bytearray(23))\\n#bytesx, encoding, error)\\tReturns a bytes object\\nprint(bytes(\"h\",\\'utf-8\\'))\\nprint(bytes(6))\\n#chr()\\tReturns a character from the specified Unicode code.\\nprint(chr(123))', '_i47': '#bin()\\tReturns the binary version of a number,The result will always start with the prefix 0b.\\nprint(bin(10))\\n#bytearray(x, encoding, error)\\tReturns an array of bytes\\nprint(bytearray(\"Hi\",\\'Utf-8\\',\"@\"))\\nprint(bytearray(23))\\n#bytesx, encoding, error)\\tReturns a bytes object\\nprint(bytes(\"h\",\\'utf-8\\'))\\nprint(bytes(6))\\n#chr()\\tReturns a character from the specified Unicode code.\\nprint(chr(97))', '_i48': '#bin()\\tReturns the binary version of a number,The result will always start with the prefix 0b.\\nprint(bin(10))\\n#bytearray(x, encoding, error)\\tReturns an array of bytes\\nprint(bytearray(\"Hi\",\\'Utf-8\\',\"@\"))\\nprint(bytearray(23))\\n#bytesx, encoding, error)\\tReturns a bytes object\\nprint(bytes(\"h\",\\'utf-8\\'))\\nprint(bytes(6))\\n#chr()\\tReturns a character from the specified Unicode code.\\nprint(chr(97))', '_i49': '#bin()\\tReturns the binary version of a number,The result will always start with the prefix 0b.\\nprint(bin(10))\\n#bytearray(x, encoding, error)\\tReturns an array of bytes\\nprint(bytearray(\"Hi\",\\'Utf-8\\',\"@\"))\\nprint(bytearray(23))\\n#bytesx, encoding, error)\\tReturns a bytes object\\nprint(bytes(\"h\",\\'utf-8\\'))\\nprint(bytes(6))\\n#chr()\\tReturns a character from the specified Unicode code.\\nprint(chr(97))\\n#The compile(source, filename, mode, flag, dont_inherit, optimize) - function returns the specified source as a code object, ready to be executed.\\nx = compile(\\'print(55)\\\\nprint(88)\\', \\'test\\', \\'exec\\')\\nexec(x)', '_i50': 'print(complex(3.5))', '_i51': 'print(complex(3,5))', '_i52': \"# complex(real, imaginary) returns a complex number by specifying a real number and an imaginary number.\\nprint(complex(3,5))\\nprint(complex('3+5j'))\", '_i53': '#', '_i54': '#dict()\\tReturns a dictionary (Array)\\nprint(dict(1,2,3))', '_i55': '#dict()\\tReturns a dictionary (Array)\\nprint(dict(1))', '_i56': '#dict()\\tReturns a dictionary (Array)\\nprint(dict(1,))', '_i57': '#dict()\\tReturns a dictionary (Array)\\nx=1,2,3\\ny=0\\nprint(dict(x,y))', '_i58': '#dict()\\tReturns a dictionary (Array)\\nx=1,2,3\\ny=0\\nprint(dict(x))', '_i59': '#dict(key=value,...)\\tReturns a dictionary (Array)\\n\\nprint(dict(dict(name = \"John\", age = 36, country = \"Norway\")))', '_i60': '#dict(key=value,...)\\tReturns a dictionary (Array)\\nprint(dict(dict(name = \"John\", age = 36, country = \"Norway\")))', '_i61': '# The dir() function returns all properties and methods of the specified object, without the values.\\n# This function will return all the properties and methods, even built-in properties which are default for all object.\\nclass student:\\n    name=\"many\"\\n    age=\"12\"\\n    section=\"3rd\"\\nprint(dir(student))    ', 'student': <class '__main__.student'>, '_i62': 'print(divmod(8,3))', '_i63': '#enumerate()\\tTakes a collection (e.g. a tuple) and returns it as an enumerate object\\nl1=[A,B,C,D,E,F]\\nprint(enumerate(l1,1))', '_i64': \"#enumerate()\\tTakes a collection (e.g. a tuple) and returns it as an enumerate object\\nl1=['A','B','C','D','E','F']\\nprint(enumerate(l1,1))\", 'l1': ['A', 'B', 'C', 'D', 'E', 'F'], '_i65': \"#enumerate()\\tTakes a collection (e.g. a tuple) and returns it as an enumerate object\\nl1=['A','B','C','D','E','F']\\nprint(enumerate(l1,Start=1))\", '_i66': '#eval()\\tEvaluates and executes an expression\\nprint(eval(x==12))', '_i67': '#eval()\\tEvaluates and executes an expression\\nx=print(12)\\nprint(eval(x))', '_i68': \"#eval(expression, globals, locals)\\tEvaluates and executes an expression\\nx=print(12)\\nprint(eval('x'))\", '_i69': '# # exec(object, globals, locals)\\n# The exec() function executes the specified Python code.\\n# The exec() function accepts large blocks of code, unlike the eval() function which only accepts a single expression\\nx = \\'name = \"John\"\\\\nprint(name)\\'\\nexec(x)', 'name': 'John', '_i70': '#The filter() function returns an iterator were the items are filtered through a function to test if the item is accepted or not.', '_i71': '# filter(function, iterable) function returns an iterator were the items are filtered through a function to test if the item is accepted or not.\\nages={12,14,16,18,20,22,24}\\n\\ndef nwFn():\\n    if ages < 18:\\n    return minor \\n    else:\\n    return Adult\\nadults= {nwFn, ages}\\n\\nfor i in adults:\\n    print(i)', '_i72': '# filter(function, iterable) function returns an iterator were the items are filtered through a function to test if the item is accepted or not.\\nages={12,14,16,18,20,22,24}\\n\\ndef nwFn():\\n    if ages < 18:\\n     return minor \\n    else:\\n     return Adult\\nadults= {nwFn, ages}\\n\\nfor i in adults:\\n    print(i)', 'ages': {16, 18, 20, 22, 24, 12, 14}, 'nwFn': <function nwFn at 0x10460c720>, '_i73': '# filter(function, iterable) function returns an iterator were the items are filtered through a function to test if the item is accepted or not.\\nages={12,14,16,18,20,22,24}\\n\\ndef nwFn():\\n    if ages < 18:\\n     return minor \\n    else:\\n     return Adult\\nadults= filter(nwFn, ages)\\n\\nfor i in adults:\\n    print(i)', 'adults': <filter object at 0x1044628f0>, '_i74': '# filter(function, iterable) function returns an iterator were the items are filtered through a function to test if the item is accepted or not.\\nages={12,14,16,18,20,22,24}\\n\\ndef nwFn(i):\\n    if ages < 18:\\n     return minor \\n    else:\\n     return Adult\\nadults= filter(nwFn, ages)\\n\\nfor i in adults:\\n    print(i)', '_i75': '# filter(function, iterable) function returns an iterator were the items are filtered through a function to test if the item is accepted or not.\\nages={12,14,16,18,20,22,24}\\n\\ndef nwFn(i):\\n    if i < 18:\\n     return minor \\n    else:\\n     return Adult\\nadults= filter(nwFn, ages)\\n\\nfor i in adults:\\n    print(i)', '_i76': '# filter(function, iterable) function returns an iterator were the items are filtered through a function to test if the item is accepted or not.\\nages={12,14,16,18,20,22,24}\\n\\ndef nwFn(i):\\n    if i < 18:\\n     return Flase \\n    else:\\n     return True\\n\\nadults= filter(nwFn, ages)\\n\\nfor i in adults:\\n    print(i)', '_i77': '# filter(function, iterable) function returns an iterator were the items are filtered through a function to test if the item is accepted or not.\\nages={12,14,16,18,20,22,24}\\n\\ndef nwFn(i):\\n    if i < 18:\\n     return False \\n    else:\\n     return True\\n\\nadults= filter(nwFn, ages)\\n\\nfor i in adults:\\n    print(i)', 'i': 24, '_i78': '# filter(function, iterable) function returns an iterator were the items are filtered through a function to test if the item is accepted or not.\\nages={12,14,16,18,20,22,24}\\n\\ndef nwFn(i):\\n    if i < 18:\\n     return \"minor\" \\n    else:\\n     return \"Adult\"\\n\\nadults= filter(nwFn, ages)\\n\\nfor i in adults:\\n    print(i)', '_i79': '# filter(function, iterable) function returns an iterator were the items are filtered through a function to test if the item is accepted or not.\\nages={12,14,16,18,20,22,24}\\n\\ndef nwFn(i):\\n    if i < 18:\\n     return \"minor\" \\n    else:\\n     return \"Adult\"\\n\\nadults= filter(nwFn, ages)\\n\\nfor i in adults:\\n    print(i, return)', '_i80': '# filter(function, iterable) function returns an iterator were the items are filtered through a function to test if the item is accepted or not.\\nages={12,14,16,18,20,22,24}\\n\\ndef nwFn(i):\\n    if i < 18:\\n     return \"minor\" \\n    else:\\n     return \"Adult\"\\n\\nadults= filter(nwFn, ages)\\n\\nfor i in adults:\\n    print(i)', '_i81': '# filter(function, iterable) function returns an iterator were the items are filtered through a function to test if the item is accepted or not.\\nages={12,14,16,18,20,22,24}\\n\\ndef nwFn(i):\\n    if i < 18:\\n     return False \\n    else:\\n     return True\\n\\nadults= filter(nwFn, ages)\\n\\nfor i in adults:\\n    print(i)', '_i82': '# filter(function, iterable) function returns an iterator were the items are filtered through a function to test if the item is accepted or not.\\nages={12,14,16,18,20,22,24}\\n\\ndef nwFn(i):\\n    if i < 18:\\n     return False \\n    else:\\n     return True\\n\\nadults= filter(nwFn, ages)\\nprint(adults)\\n\\nfor i in adults:\\n    print(i)', '_i83': '# filter(function, iterable) function returns an iterator were the items are filtered through a function to test if the item is accepted or not.\\nages={12,14,16,18,20,22,24}\\n\\ndef nwFn(i):\\n    if i < 18:\\n     return False \\n    else:\\n     return True\\n\\nadults= filter(nwFn, ages)\\n print(adults)\\n\\nfor i in adults:\\n    print(i)', '_i84': '# filter(function, iterable) function returns an iterator were the items are filtered through a function to test if the item is accepted or not.\\nages={12,14,16,18,20,22,24}\\n\\ndef nwFn(i):\\n    if i < 18:\\n     return False \\n    else:\\n     return True\\n\\nadults= filter(nwFn, ages)\\nprint(adults)\\n\\nfor i in adults:\\n    print(i)', '_i85': '#float()\\tReturns a floating point number\\nprint(float(\"4\"))', '_i86': '#The format(value, format) function formats a specified value into a specified format.\\nprint(format(15,^))', '_i87': \"#The format(value, format) function formats a specified value into a specified format.\\nprint(format(15,'^'))\", '_i88': \"#The format(value, format) function formats a specified value into a specified format.\\nprint(format(15,'_'))\", '_i89': \"#The format(value, format) function formats a specified value into a specified format.\\nprint(format(15 20,'_'))\", '_i90': \"#The format(value, format) function formats a specified value into a specified format.\\nprint(format(15, 20,'_'))\", '_i91': \"#The format(value, format) function formats a specified value into a specified format.\\nprint(format(1520,'_'))\", '_i92': \"#The format(value, format) function formats a specified value into a specified format.\\nprint(format(1520700,'_'))\", '_i93': \"#The format(value, format) function formats a specified value into a specified format.\\nprint(format(1520700,'X'))\", '_i94': \"#The format(value, format) function formats a specified value into a specified format.\\nprint(format(1520700,'x'))\", '_i95': '# The frozenset(iterable) function returns an unchangeable frozenset object (which is like a set object, only unchangeable).\\nq={1,2,3,4,5,6}\\nprint(frozenset(q))', 'q': {1, 2, 3, 4, 5, 6}, '_i96': '# The frozenset(iterable) function returns an unchangeable frozenset object (which is like a set object, only unchangeable).\\nq={1,2,3,4,5,6}\\nprint(type(frozenset(q))', '_i97': '# The frozenset(iterable) function returns an unchangeable frozenset object (which is like a set object, only unchangeable).\\nq={1,2,3,4,5,6}\\nprint(type(frozenset(q)))', '_i98': '# The frozenset(iterable) function returns an unchangeable frozenset object \\n# (which is like a set object, only unchangeable).\\nq={1,2,3,4,5,6}\\nprint(frozenset(q))\\nprint(type(frozenset(q)))', '_i99': '\\nclass Person:\\n  name = \"John\"\\n  age = 36\\n  country = \"Norway\"\\n\\nx = getattr(Person, \\'age\\')', 'Person': <class '__main__.Person'>, '_i100': '\\nclass Person:\\n  name = \"John\"\\n  age = 36\\n  country = \"Norway\"\\n\\nx = getattr(Person, \\'age\\')', '_i101': '\\nclass Person:\\n  name = \"John\"\\n  age = 36\\n  country = \"Norway\"\\n\\nx = getattr(Person, \\'age\\')', '_i102': '\\nclass Person:\\n  name = \"John\"\\n  age = 36\\n  country = \"Norway\"\\n\\nx = getattr(Person, \\'page\\', \\'my message\\')', '_i103': '\\nclass Person:\\n  name = \"John\"\\n  age = 36\\n  country = \"Norway\"\\n\\nx = getattr(Person, \\'page\\', \\'my message\\')\\nprint(x)', '_i104': '# getattr(object, attribute, default) function returns the value of the specified attribute from the specified object.\\nclass Person:\\n  name = \"John\"\\n  age = 36\\n  country = \"Norway\"\\n\\nx = getattr(Person, \\'age\\', \\'my message\\')\\nprint(x)', '_i105': '# getattr(object, attribute, default) function returns the value of the specified attribute from the specified object.\\nclass Person:\\n  name = \"John\"\\n  age = 36\\n  country = \"Norway\"\\n\\nx = getattr(Person, \\'country\\', \\'my message\\')\\nprint(x)', '_i106': '# getattr(object, attribute, default) function returns the value of the specified attribute from the specified object.\\nclass Person:\\n  name = \"John\"\\n  age = 36\\n  country = \"Norway\"\\nx = getattr(Person, \\'country\\', \\'my message\\')\\nprint(x)\\ny = getattr(Person, \\'page\\', \\'not availble\\')\\nprint(x)\\n\\n# The delattr() function, to remove an attribute\\n\\n# The hasattr() function, to check if an attribute exist\\n\\n# The setattr() function, to set the value of an attribute', '_i107': '# getattr(object, attribute, default) function returns the value of the specified attribute from the specified object.\\nclass Person:\\n  name = \"John\"\\n  age = 36\\n  country = \"Norway\"\\nx = getattr(Person, \\'country\\', \\'my message\\')\\nprint(x)\\ny = getattr(Person, \\'page\\', \\'not availble\\')\\nprint(y)\\n\\n# The delattr() function, to remove an attribute\\n\\n# The hasattr() function, to check if an attribute exist\\n\\n# The setattr() function, to set the value of an attribute', '_i108': 'x = globals()\\nprint(x)'}\n"
     ]
    }
   ],
   "source": [
    "# The globals() function returns the global symbol table as a dictionary.\n",
    "# A symbol table contains necessary information about the current program\n",
    "x = globals()\n",
    "print(x)"
   ]
  },
  {
   "cell_type": "code",
   "execution_count": 112,
   "id": "088253c9",
   "metadata": {},
   "outputs": [
    {
     "name": "stdout",
     "output_type": "stream",
     "text": [
      "-8039063444854340378\n"
     ]
    }
   ],
   "source": [
    "#hash()\tReturns the hash value of a specified object\n",
    "print(hash(\"Help\"))"
   ]
  },
  {
   "cell_type": "code",
   "execution_count": 114,
   "id": "566a9fc2",
   "metadata": {},
   "outputs": [
    {
     "name": "stdout",
     "output_type": "stream",
     "text": [
      "The \"return\" statement\n",
      "**********************\n",
      "\n",
      "   return_stmt ::= \"return\" [expression_list]\n",
      "\n",
      "\"return\" may only occur syntactically nested in a function definition,\n",
      "not within a nested class definition.\n",
      "\n",
      "If an expression list is present, it is evaluated, else \"None\" is\n",
      "substituted.\n",
      "\n",
      "\"return\" leaves the current function call with the expression list (or\n",
      "\"None\") as return value.\n",
      "\n",
      "When \"return\" passes control out of a \"try\" statement with a \"finally\"\n",
      "clause, that \"finally\" clause is executed before really leaving the\n",
      "function.\n",
      "\n",
      "In a generator function, the \"return\" statement indicates that the\n",
      "generator is done and will cause \"StopIteration\" to be raised. The\n",
      "returned value (if any) is used as an argument to construct\n",
      "\"StopIteration\" and becomes the \"StopIteration.value\" attribute.\n",
      "\n",
      "In an asynchronous generator function, an empty \"return\" statement\n",
      "indicates that the asynchronous generator is done and will cause\n",
      "\"StopAsyncIteration\" to be raised.  A non-empty \"return\" statement is\n",
      "a syntax error in an asynchronous generator function.\n",
      "\n",
      "Related help topics: FUNCTIONS\n",
      "\n"
     ]
    }
   ],
   "source": [
    "# help()\tExecutes the built-in help system\n",
    "help(\"return\")"
   ]
  },
  {
   "cell_type": "code",
   "execution_count": 115,
   "id": "afaee970",
   "metadata": {},
   "outputs": [
    {
     "name": "stdout",
     "output_type": "stream",
     "text": [
      "0xc\n"
     ]
    }
   ],
   "source": [
    "# hex()\tConverts a number into a hexadecimal value\n",
    "print(hex(12))"
   ]
  },
  {
   "cell_type": "code",
   "execution_count": 118,
   "id": "2b54306c",
   "metadata": {},
   "outputs": [
    {
     "name": "stdout",
     "output_type": "stream",
     "text": [
      "4322223904\n",
      "4322223904\n"
     ]
    }
   ],
   "source": [
    "# Id()\tReturns the id of an object\n",
    "X=12\n",
    "print(id(X))\n",
    "print(id(12))"
   ]
  },
  {
   "cell_type": "code",
   "execution_count": 119,
   "id": "52f74762",
   "metadata": {},
   "outputs": [
    {
     "name": "stdout",
     "output_type": "stream",
     "text": [
      "hello\n"
     ]
    },
    {
     "data": {
      "text/plain": [
       "'hello'"
      ]
     },
     "execution_count": 119,
     "metadata": {},
     "output_type": "execute_result"
    }
   ],
   "source": [
    "#input()\tAllowing user input\n",
    "input()"
   ]
  },
  {
   "cell_type": "code",
   "execution_count": 120,
   "id": "b8390d71",
   "metadata": {},
   "outputs": [
    {
     "name": "stdout",
     "output_type": "stream",
     "text": [
      "4\n"
     ]
    }
   ],
   "source": [
    "#int()\tReturns an integer number\n",
    "print(int(\"4\"))"
   ]
  },
  {
   "cell_type": "code",
   "execution_count": 121,
   "id": "00acd967",
   "metadata": {},
   "outputs": [],
   "source": [
    "# isinstance()\tReturns True if a specified object is an instance of a specified object\n",
    "# issubclass()\tReturns True if a specified class is a subclass of a specified object"
   ]
  },
  {
   "cell_type": "code",
   "execution_count": 127,
   "id": "b0674df2",
   "metadata": {},
   "outputs": [
    {
     "name": "stdout",
     "output_type": "stream",
     "text": [
      "4\n"
     ]
    }
   ],
   "source": [
    "# len()\tReturns the length of an object\n",
    "print(len({1,2,4,3}))\n"
   ]
  },
  {
   "cell_type": "code",
   "execution_count": 129,
   "id": "cb2b6a35",
   "metadata": {},
   "outputs": [
    {
     "name": "stdout",
     "output_type": "stream",
     "text": [
      "[24, 2, 12, 5]\n"
     ]
    }
   ],
   "source": [
    "# list()\tReturns a list\n",
    "print(list({12,24,5,5,2}))"
   ]
  },
  {
   "cell_type": "code",
   "execution_count": 130,
   "id": "64df46d3",
   "metadata": {},
   "outputs": [
    {
     "name": "stdout",
     "output_type": "stream",
     "text": [
      "{'__name__': '__main__', '__doc__': 'Automatically created module for IPython interactive environment', '__package__': None, '__loader__': None, '__spec__': None, '__builtin__': <module 'builtins' (built-in)>, '__builtins__': <module 'builtins' (built-in)>, '_ih': ['', '#abs()\\tReturns the absolute value of a number\\nprint(abs(-40))', '#abs()\\tReturns the absolute value of a number\\nprint(abs(-40))\\nprint(abs(40.59))', '#abs()\\tReturns the absolute value of a number\\nprint(abs(-40))\\nprint(abs(3+5j))', '# all()\\tReturns True if all items in an iterable object are true\\nx={1,2,3,4,5,6}\\nprint(all(x))', '# all()\\tReturns True if all items in an iterable object are true\\nx={1,2,3,4,5,6}\\nprint(all(x))\\ny=\"Ram\"\\nprint(all(y))', '# all()\\tReturns True if all items in an iterable object are true, otherwise false\\nx={1,2,3,4,5,6}\\nprint(all(x))\\ny=\"Ram\"\\nprint(all(y))\\nZ=1\\nprint(all(z))', '# all()\\tReturns True if all items in an iterable object are true, otherwise false\\nx={1,2,3,4,5,6}\\nprint(all(x))\\ny=\"Ram\"\\nprint(all(y))\\nZ=1\\nprint(all(Z))', '# all()\\tReturns True if all items in an iterable object are true, otherwise false\\nx={1,2,3,4,5,6}\\nprint(all(x))\\ny=\"Ram\"\\nprint(all(y))\\n#Z=1\\n#print(all(Z))\\n#any()\\tReturns True if any item in an iterable object is true\\nZ=1,2\\nprint(any(Z))', 'print(ascii(\"My name is Ståle\"))', 'print(ascii(\"My name is Ståle\"))', '#bin()\\tReturns the binary version of a number\\nprint(bin(1))', '#bin()\\tReturns the binary version of a number,The result will always start with the prefix 0b.\\nprint(bin(34))', '#bin()\\tReturns the binary version of a number,The result will always start with the prefix 0b.\\nprint(bin(4))', '#bin()\\tReturns the binary version of a number,The result will always start with the prefix 0b.\\nprint(bin(10))', '#bool()\\tReturns the boolean value of the specified object\\nprint(bool(2==3))', '#bin()\\tReturns the binary version of a number,The result will always start with the prefix 0b.\\nprint(bin(10))\\n#bytearray()\\tReturns an array of bytes\\nprint(bytearray(10))', '#bin()\\tReturns the binary version of a number,The result will always start with the prefix 0b.\\nprint(bin(10))\\n#bytearray(x, encoding, error)\\tReturns an array of bytes\\nprint(bytearray(\"Hi\",utf-8,@))', '#bin()\\tReturns the binary version of a number,The result will always start with the prefix 0b.\\nprint(bin(10))\\n#bytearray(x, encoding, error)\\tReturns an array of bytes\\nprint(bytearray(\"Hi\",utf-8,\"@\"))', '#bin()\\tReturns the binary version of a number,The result will always start with the prefix 0b.\\nprint(bin(10))\\n#bytearray(x, encoding, error)\\tReturns an array of bytes\\nprint(bytearray(\"Hi\",UTF-8,\"@\"))', '#bin()\\tReturns the binary version of a number,The result will always start with the prefix 0b.\\nprint(bin(10))\\n#bytearray(x, encoding, error)\\tReturns an array of bytes\\nprint(bytearray(\"Hi\",UTF8,\"@\"))', '#bin()\\tReturns the binary version of a number,The result will always start with the prefix 0b.\\nprint(bin(10))\\n#bytearray(x, encoding, error)\\tReturns an array of bytes\\nprint(bytearray(\"Hi\",Utf8,\"@\"))', '#bin()\\tReturns the binary version of a number,The result will always start with the prefix 0b.\\nprint(bin(10))\\n#bytearray(x, encoding, error)\\tReturns an array of bytes\\nprint(bytearray(\"Hi\",Utf-8,\"@\"))', '#bin()\\tReturns the binary version of a number,The result will always start with the prefix 0b.\\nprint(bin(10))\\n#bytearray(x, encoding, error)\\tReturns an array of bytes\\nprint(bytearray(\"Hi\",\\'Utf-8\\',\"@\"))', '#bin()\\tReturns the binary version of a number,The result will always start with the prefix 0b.\\nprint(bin(10))\\n#bytearray(x, encoding, error)\\tReturns an array of bytes\\nprint(bytearray(\"Hi\",\\'Utf-8\\',\"@\"))\\nprint(bytearray(23,\\'Utf-8\\',\"@\"))', '#bin()\\tReturns the binary version of a number,The result will always start with the prefix 0b.\\nprint(bin(10))\\n#bytearray(x, encoding, error)\\tReturns an array of bytes\\nprint(bytearray(\"Hi\",\\'Utf-8\\',\"@\"))\\nprint(bytearray(23,\"@\"))', '#bin()\\tReturns the binary version of a number,The result will always start with the prefix 0b.\\nprint(bin(10))\\n#bytearray(x, encoding, error)\\tReturns an array of bytes\\nprint(bytearray(\"Hi\",\\'Utf-8\\',\"@\"))\\nprint(bytearray(23)', '#bin()\\tReturns the binary version of a number,The result will always start with the prefix 0b.\\nprint(bin(10))\\n#bytearray(x, encoding, error)\\tReturns an array of bytes\\nprint(bytearray(\"Hi\",\\'Utf-8\\',\"@\"))\\nprint(bytearray(23))', '#bin()\\tReturns the binary version of a number,The result will always start with the prefix 0b.\\nprint(bin(10))\\n#bytearray(x, encoding, error)\\tReturns an array of bytes\\nprint(bytearray(\"Hi\",\\'Utf-8\\',\"@\"))\\nprint(bytearray(23))\\n#bytes()\\tReturns a bytes object\\nprint(bytes(\"h\"))', '#bin()\\tReturns the binary version of a number,The result will always start with the prefix 0b.\\nprint(bin(10))\\n#bytearray(x, encoding, error)\\tReturns an array of bytes\\nprint(bytearray(\"Hi\",\\'Utf-8\\',\"@\"))\\nprint(bytearray(23))\\n#bytes()\\tReturns a bytes object\\nprint(bytes(\"h\",\\'utf-8\\'))', '#bin()\\tReturns the binary version of a number,The result will always start with the prefix 0b.\\nprint(bin(10))\\n#bytearray(x, encoding, error)\\tReturns an array of bytes\\nprint(bytearray(\"Hi\",\\'Utf-8\\',\"@\"))\\nprint(bytearray(23))\\n#bytes()\\tReturns a bytes object\\nprint(bytes(\"h\",\\'utf-8\\'))\\nprint(bytes(6))', '#callable()\\tReturns True if the specified object is callable, otherwise False\\ndef cube(X):\\n    return X*X*X\\nprint(callable(cube(X))', '#callable()\\tReturns True if the specified object is callable, otherwise False\\ndef cube(X):\\n    return X*X*X\\nprint(callable(cube(4))', '#callable()\\tReturns True if the specified object is callable, otherwise False\\ndef cube(x):\\n    return x**3\\nprint(callable(cube(4))', '#callable()\\tReturns True if the specified object is callable, otherwise False\\ndef cube(x):\\n    return x**3\\nprint(callable(cube(x))', '#callable()\\tReturns True if the specified object is callable, otherwise False\\ndef cube(x):\\n    return x**3\\nprint(callable(cube(x)))', '#callable()\\tReturns True if the specified object is callable, otherwise False\\ndef cube(x):\\n    return xpow(3)\\nprint(callable(cube(x)))', '#callable()\\tReturns True if the specified object is callable, otherwise False\\ndef cube(x):\\n    return x.pow(3)\\nprint(callable(cube(x)))', '#callable()\\tReturns True if the specified object is callable, otherwise False\\ndef cube(x):\\n    return pow(X,3)\\nprint(callable(cube(x)))', '#callable()\\tReturns True if the specified object is callable, otherwise False\\ndef cube(x):\\n    return pow(x,3)\\nprint(callable(cube(x)))', '#callable()\\tReturns True if the specified object is callable, otherwise False\\ndef cube(x):\\n    return pow(x,3)\\nprint(callable(cube(4)))', '#callable()\\tReturns True if the specified object is callable, otherwise False\\ndef cube(x):\\n    return pow(x,3)\\nprint(callable(cube(4)))\\na=5\\nprint(callable(a))', '#callable()\\tReturns True if the specified object is callable, otherwise False\\ndef cube(x):\\n    return pow(x,3)\\nprint(callable(cube))\\na=5\\nprint(callable(a))', '#bin()\\tReturns the binary version of a number,The result will always start with the prefix 0b.\\nprint(bin(10))\\n#bytearray(x, encoding, error)\\tReturns an array of bytes\\nprint(bytearray(\"Hi\",\\'Utf-8\\',\"@\"))\\nprint(bytearray(23))\\n#bytesx, encoding, error)\\tReturns a bytes object\\nprint(bytes(\"h\",\\'utf-8\\'))\\nprint(bytes(6))\\n#chr()\\tReturns a character from the specified Unicode code.\\nprint(chr(11))', '#bin()\\tReturns the binary version of a number,The result will always start with the prefix 0b.\\nprint(bin(10))\\n#bytearray(x, encoding, error)\\tReturns an array of bytes\\nprint(bytearray(\"Hi\",\\'Utf-8\\',\"@\"))\\nprint(bytearray(23))\\n#bytesx, encoding, error)\\tReturns a bytes object\\nprint(bytes(\"h\",\\'utf-8\\'))\\nprint(bytes(6))\\n#chr()\\tReturns a character from the specified Unicode code.\\nprint(chr(1))', '#bin()\\tReturns the binary version of a number,The result will always start with the prefix 0b.\\nprint(bin(10))\\n#bytearray(x, encoding, error)\\tReturns an array of bytes\\nprint(bytearray(\"Hi\",\\'Utf-8\\',\"@\"))\\nprint(bytearray(23))\\n#bytesx, encoding, error)\\tReturns a bytes object\\nprint(bytes(\"h\",\\'utf-8\\'))\\nprint(bytes(6))\\n#chr()\\tReturns a character from the specified Unicode code.\\nprint(chr(\"he\"))', '#bin()\\tReturns the binary version of a number,The result will always start with the prefix 0b.\\nprint(bin(10))\\n#bytearray(x, encoding, error)\\tReturns an array of bytes\\nprint(bytearray(\"Hi\",\\'Utf-8\\',\"@\"))\\nprint(bytearray(23))\\n#bytesx, encoding, error)\\tReturns a bytes object\\nprint(bytes(\"h\",\\'utf-8\\'))\\nprint(bytes(6))\\n#chr()\\tReturns a character from the specified Unicode code.\\nprint(chr(123))', '#bin()\\tReturns the binary version of a number,The result will always start with the prefix 0b.\\nprint(bin(10))\\n#bytearray(x, encoding, error)\\tReturns an array of bytes\\nprint(bytearray(\"Hi\",\\'Utf-8\\',\"@\"))\\nprint(bytearray(23))\\n#bytesx, encoding, error)\\tReturns a bytes object\\nprint(bytes(\"h\",\\'utf-8\\'))\\nprint(bytes(6))\\n#chr()\\tReturns a character from the specified Unicode code.\\nprint(chr(97))', '#bin()\\tReturns the binary version of a number,The result will always start with the prefix 0b.\\nprint(bin(10))\\n#bytearray(x, encoding, error)\\tReturns an array of bytes\\nprint(bytearray(\"Hi\",\\'Utf-8\\',\"@\"))\\nprint(bytearray(23))\\n#bytesx, encoding, error)\\tReturns a bytes object\\nprint(bytes(\"h\",\\'utf-8\\'))\\nprint(bytes(6))\\n#chr()\\tReturns a character from the specified Unicode code.\\nprint(chr(97))', '#bin()\\tReturns the binary version of a number,The result will always start with the prefix 0b.\\nprint(bin(10))\\n#bytearray(x, encoding, error)\\tReturns an array of bytes\\nprint(bytearray(\"Hi\",\\'Utf-8\\',\"@\"))\\nprint(bytearray(23))\\n#bytesx, encoding, error)\\tReturns a bytes object\\nprint(bytes(\"h\",\\'utf-8\\'))\\nprint(bytes(6))\\n#chr()\\tReturns a character from the specified Unicode code.\\nprint(chr(97))\\n#The compile(source, filename, mode, flag, dont_inherit, optimize) - function returns the specified source as a code object, ready to be executed.\\nx = compile(\\'print(55)\\\\nprint(88)\\', \\'test\\', \\'exec\\')\\nexec(x)', 'print(complex(3.5))', 'print(complex(3,5))', \"# complex(real, imaginary) returns a complex number by specifying a real number and an imaginary number.\\nprint(complex(3,5))\\nprint(complex('3+5j'))\", '#', '#dict()\\tReturns a dictionary (Array)\\nprint(dict(1,2,3))', '#dict()\\tReturns a dictionary (Array)\\nprint(dict(1))', '#dict()\\tReturns a dictionary (Array)\\nprint(dict(1,))', '#dict()\\tReturns a dictionary (Array)\\nx=1,2,3\\ny=0\\nprint(dict(x,y))', '#dict()\\tReturns a dictionary (Array)\\nx=1,2,3\\ny=0\\nprint(dict(x))', '#dict(key=value,...)\\tReturns a dictionary (Array)\\n\\nprint(dict(dict(name = \"John\", age = 36, country = \"Norway\")))', '#dict(key=value,...)\\tReturns a dictionary (Array)\\nprint(dict(dict(name = \"John\", age = 36, country = \"Norway\")))', '# The dir() function returns all properties and methods of the specified object, without the values.\\n# This function will return all the properties and methods, even built-in properties which are default for all object.\\nclass student:\\n    name=\"many\"\\n    age=\"12\"\\n    section=\"3rd\"\\nprint(dir(student))    ', 'print(divmod(8,3))', '#enumerate()\\tTakes a collection (e.g. a tuple) and returns it as an enumerate object\\nl1=[A,B,C,D,E,F]\\nprint(enumerate(l1,1))', \"#enumerate()\\tTakes a collection (e.g. a tuple) and returns it as an enumerate object\\nl1=['A','B','C','D','E','F']\\nprint(enumerate(l1,1))\", \"#enumerate()\\tTakes a collection (e.g. a tuple) and returns it as an enumerate object\\nl1=['A','B','C','D','E','F']\\nprint(enumerate(l1,Start=1))\", '#eval()\\tEvaluates and executes an expression\\nprint(eval(x==12))', '#eval()\\tEvaluates and executes an expression\\nx=print(12)\\nprint(eval(x))', \"#eval(expression, globals, locals)\\tEvaluates and executes an expression\\nx=print(12)\\nprint(eval('x'))\", '# # exec(object, globals, locals)\\n# The exec() function executes the specified Python code.\\n# The exec() function accepts large blocks of code, unlike the eval() function which only accepts a single expression\\nx = \\'name = \"John\"\\\\nprint(name)\\'\\nexec(x)', '#The filter() function returns an iterator were the items are filtered through a function to test if the item is accepted or not.', '# filter(function, iterable) function returns an iterator were the items are filtered through a function to test if the item is accepted or not.\\nages={12,14,16,18,20,22,24}\\n\\ndef nwFn():\\n    if ages < 18:\\n    return minor \\n    else:\\n    return Adult\\nadults= {nwFn, ages}\\n\\nfor i in adults:\\n    print(i)', '# filter(function, iterable) function returns an iterator were the items are filtered through a function to test if the item is accepted or not.\\nages={12,14,16,18,20,22,24}\\n\\ndef nwFn():\\n    if ages < 18:\\n     return minor \\n    else:\\n     return Adult\\nadults= {nwFn, ages}\\n\\nfor i in adults:\\n    print(i)', '# filter(function, iterable) function returns an iterator were the items are filtered through a function to test if the item is accepted or not.\\nages={12,14,16,18,20,22,24}\\n\\ndef nwFn():\\n    if ages < 18:\\n     return minor \\n    else:\\n     return Adult\\nadults= filter(nwFn, ages)\\n\\nfor i in adults:\\n    print(i)', '# filter(function, iterable) function returns an iterator were the items are filtered through a function to test if the item is accepted or not.\\nages={12,14,16,18,20,22,24}\\n\\ndef nwFn(i):\\n    if ages < 18:\\n     return minor \\n    else:\\n     return Adult\\nadults= filter(nwFn, ages)\\n\\nfor i in adults:\\n    print(i)', '# filter(function, iterable) function returns an iterator were the items are filtered through a function to test if the item is accepted or not.\\nages={12,14,16,18,20,22,24}\\n\\ndef nwFn(i):\\n    if i < 18:\\n     return minor \\n    else:\\n     return Adult\\nadults= filter(nwFn, ages)\\n\\nfor i in adults:\\n    print(i)', '# filter(function, iterable) function returns an iterator were the items are filtered through a function to test if the item is accepted or not.\\nages={12,14,16,18,20,22,24}\\n\\ndef nwFn(i):\\n    if i < 18:\\n     return Flase \\n    else:\\n     return True\\n\\nadults= filter(nwFn, ages)\\n\\nfor i in adults:\\n    print(i)', '# filter(function, iterable) function returns an iterator were the items are filtered through a function to test if the item is accepted or not.\\nages={12,14,16,18,20,22,24}\\n\\ndef nwFn(i):\\n    if i < 18:\\n     return False \\n    else:\\n     return True\\n\\nadults= filter(nwFn, ages)\\n\\nfor i in adults:\\n    print(i)', '# filter(function, iterable) function returns an iterator were the items are filtered through a function to test if the item is accepted or not.\\nages={12,14,16,18,20,22,24}\\n\\ndef nwFn(i):\\n    if i < 18:\\n     return \"minor\" \\n    else:\\n     return \"Adult\"\\n\\nadults= filter(nwFn, ages)\\n\\nfor i in adults:\\n    print(i)', '# filter(function, iterable) function returns an iterator were the items are filtered through a function to test if the item is accepted or not.\\nages={12,14,16,18,20,22,24}\\n\\ndef nwFn(i):\\n    if i < 18:\\n     return \"minor\" \\n    else:\\n     return \"Adult\"\\n\\nadults= filter(nwFn, ages)\\n\\nfor i in adults:\\n    print(i, return)', '# filter(function, iterable) function returns an iterator were the items are filtered through a function to test if the item is accepted or not.\\nages={12,14,16,18,20,22,24}\\n\\ndef nwFn(i):\\n    if i < 18:\\n     return \"minor\" \\n    else:\\n     return \"Adult\"\\n\\nadults= filter(nwFn, ages)\\n\\nfor i in adults:\\n    print(i)', '# filter(function, iterable) function returns an iterator were the items are filtered through a function to test if the item is accepted or not.\\nages={12,14,16,18,20,22,24}\\n\\ndef nwFn(i):\\n    if i < 18:\\n     return False \\n    else:\\n     return True\\n\\nadults= filter(nwFn, ages)\\n\\nfor i in adults:\\n    print(i)', '# filter(function, iterable) function returns an iterator were the items are filtered through a function to test if the item is accepted or not.\\nages={12,14,16,18,20,22,24}\\n\\ndef nwFn(i):\\n    if i < 18:\\n     return False \\n    else:\\n     return True\\n\\nadults= filter(nwFn, ages)\\nprint(adults)\\n\\nfor i in adults:\\n    print(i)', '# filter(function, iterable) function returns an iterator were the items are filtered through a function to test if the item is accepted or not.\\nages={12,14,16,18,20,22,24}\\n\\ndef nwFn(i):\\n    if i < 18:\\n     return False \\n    else:\\n     return True\\n\\nadults= filter(nwFn, ages)\\n print(adults)\\n\\nfor i in adults:\\n    print(i)', '# filter(function, iterable) function returns an iterator were the items are filtered through a function to test if the item is accepted or not.\\nages={12,14,16,18,20,22,24}\\n\\ndef nwFn(i):\\n    if i < 18:\\n     return False \\n    else:\\n     return True\\n\\nadults= filter(nwFn, ages)\\nprint(adults)\\n\\nfor i in adults:\\n    print(i)', '#float()\\tReturns a floating point number\\nprint(float(\"4\"))', '#The format(value, format) function formats a specified value into a specified format.\\nprint(format(15,^))', \"#The format(value, format) function formats a specified value into a specified format.\\nprint(format(15,'^'))\", \"#The format(value, format) function formats a specified value into a specified format.\\nprint(format(15,'_'))\", \"#The format(value, format) function formats a specified value into a specified format.\\nprint(format(15 20,'_'))\", \"#The format(value, format) function formats a specified value into a specified format.\\nprint(format(15, 20,'_'))\", \"#The format(value, format) function formats a specified value into a specified format.\\nprint(format(1520,'_'))\", \"#The format(value, format) function formats a specified value into a specified format.\\nprint(format(1520700,'_'))\", \"#The format(value, format) function formats a specified value into a specified format.\\nprint(format(1520700,'X'))\", \"#The format(value, format) function formats a specified value into a specified format.\\nprint(format(1520700,'x'))\", '# The frozenset(iterable) function returns an unchangeable frozenset object (which is like a set object, only unchangeable).\\nq={1,2,3,4,5,6}\\nprint(frozenset(q))', '# The frozenset(iterable) function returns an unchangeable frozenset object (which is like a set object, only unchangeable).\\nq={1,2,3,4,5,6}\\nprint(type(frozenset(q))', '# The frozenset(iterable) function returns an unchangeable frozenset object (which is like a set object, only unchangeable).\\nq={1,2,3,4,5,6}\\nprint(type(frozenset(q)))', '# The frozenset(iterable) function returns an unchangeable frozenset object \\n# (which is like a set object, only unchangeable).\\nq={1,2,3,4,5,6}\\nprint(frozenset(q))\\nprint(type(frozenset(q)))', 'class Person:\\n  name = \"John\"\\n  age = 36\\n  country = \"Norway\"\\n\\nx = getattr(Person, \\'age\\')', 'class Person:\\n  name = \"John\"\\n  age = 36\\n  country = \"Norway\"\\n\\nx = getattr(Person, \\'age\\')', 'class Person:\\n  name = \"John\"\\n  age = 36\\n  country = \"Norway\"\\n\\nx = getattr(Person, \\'age\\')', 'class Person:\\n  name = \"John\"\\n  age = 36\\n  country = \"Norway\"\\n\\nx = getattr(Person, \\'page\\', \\'my message\\')', 'class Person:\\n  name = \"John\"\\n  age = 36\\n  country = \"Norway\"\\n\\nx = getattr(Person, \\'page\\', \\'my message\\')\\nprint(x)', '# getattr(object, attribute, default) function returns the value of the specified attribute from the specified object.\\nclass Person:\\n  name = \"John\"\\n  age = 36\\n  country = \"Norway\"\\n\\nx = getattr(Person, \\'age\\', \\'my message\\')\\nprint(x)', '# getattr(object, attribute, default) function returns the value of the specified attribute from the specified object.\\nclass Person:\\n  name = \"John\"\\n  age = 36\\n  country = \"Norway\"\\n\\nx = getattr(Person, \\'country\\', \\'my message\\')\\nprint(x)', '# getattr(object, attribute, default) function returns the value of the specified attribute from the specified object.\\nclass Person:\\n  name = \"John\"\\n  age = 36\\n  country = \"Norway\"\\nx = getattr(Person, \\'country\\', \\'my message\\')\\nprint(x)\\ny = getattr(Person, \\'page\\', \\'not availble\\')\\nprint(x)\\n\\n# The delattr() function, to remove an attribute\\n\\n# The hasattr() function, to check if an attribute exist\\n\\n# The setattr() function, to set the value of an attribute', '# getattr(object, attribute, default) function returns the value of the specified attribute from the specified object.\\nclass Person:\\n  name = \"John\"\\n  age = 36\\n  country = \"Norway\"\\nx = getattr(Person, \\'country\\', \\'my message\\')\\nprint(x)\\ny = getattr(Person, \\'page\\', \\'not availble\\')\\nprint(y)\\n\\n# The delattr() function, to remove an attribute\\n\\n# The hasattr() function, to check if an attribute exist\\n\\n# The setattr() function, to set the value of an attribute', 'x = globals()\\nprint(x)', '# getattr(object, attribute, default) function returns the value of the specified attribute from the specified object.\\nclass Person:\\n  name = \"John\"\\n  age = 36\\n  country = \"Norway\"\\nx = getattr(Person, \\'country\\', \\'my message\\')\\nprint(x)\\ny = getattr(Person, \\'page\\', \\'not availble\\')\\nprint(y)\\n\\n# The delattr() function, to remove an attribute\\n\\n# The hasattr() function, to check if an attribute exist\\nprint(hasattr(Person,\"name\"))\\n\\n# The setattr() function, to set the value of an attribute', '# getattr(object, attribute, default) function returns the value of the specified attribute from the specified object.\\nclass Person:\\n  name = \"John\"\\n  age = 36\\n  country = \"Norway\"\\nx = getattr(Person, \\'country\\', \\'my message\\')\\nprint(x)\\ny = getattr(Person, \\'page\\', \\'not availble\\')\\nprint(y)\\n\\n# The delattr() function, to remove an attribute\\n\\n# The hasattr() function, to check if an attribute exist\\nprint(hasattr(Person,\"name\"))\\nprint(hasattr(Person,\"Fame\"))\\n\\n# The setattr() function, to set the value of an attribute', 'print(hash(12))', 'print(hash(\"Help\"))', 'help(\"hash\")', 'help(\"return\")', '# hex()\\tConverts a number into a hexadecimal value\\nprint(hex(12))', '# Id()\\tReturns the id of an object\\nprint(id(12))', '# Id()\\tReturns the id of an object\\nX=12\\nprint(id(X))', '# Id()\\tReturns the id of an object\\nX=12\\nprint(id(X))\\nprint(id(12))', '#input()\\tAllowing user input\\ninput()', '#int()\\tReturns an integer number\\nprint(int(\"4\"))', '# isinstance()\\tReturns True if a specified object is an instance of a specified object\\n# issubclass()\\tReturns True if a specified class is a subclass of a specified object', '# len()\\tReturns the length of an object\\nprint(len(1,2,,3))\\n# list()\\tReturns a list', '# len()\\tReturns the length of an object\\nprint(len(1,2,4,3))\\n# list()\\tReturns a list', '# len()\\tReturns the length of an object\\nprint(len((1,2,4,3))\\n# list()\\tReturns a list', '# len()\\tReturns the length of an object\\nprint(len({1,2,4,3})\\n# list()\\tReturns a list', '# len()\\tReturns the length of an object\\nprint(len({1,2,4,3})', '# len()\\tReturns the length of an object\\nprint(len({1,2,4,3}))', '# list()\\tReturns a list\\nprint(list({12,24,,5,2}))', '# list()\\tReturns a list\\nprint(list({12,24,5,5,2}))', 'x = locals()\\nprint(x)'], '_oh': {119: 'hello'}, '_dh': [PosixPath('/Users/ashutosh/Desktop/Directory/python/PythonCode/JupyterNotebook')], 'In': ['', '#abs()\\tReturns the absolute value of a number\\nprint(abs(-40))', '#abs()\\tReturns the absolute value of a number\\nprint(abs(-40))\\nprint(abs(40.59))', '#abs()\\tReturns the absolute value of a number\\nprint(abs(-40))\\nprint(abs(3+5j))', '# all()\\tReturns True if all items in an iterable object are true\\nx={1,2,3,4,5,6}\\nprint(all(x))', '# all()\\tReturns True if all items in an iterable object are true\\nx={1,2,3,4,5,6}\\nprint(all(x))\\ny=\"Ram\"\\nprint(all(y))', '# all()\\tReturns True if all items in an iterable object are true, otherwise false\\nx={1,2,3,4,5,6}\\nprint(all(x))\\ny=\"Ram\"\\nprint(all(y))\\nZ=1\\nprint(all(z))', '# all()\\tReturns True if all items in an iterable object are true, otherwise false\\nx={1,2,3,4,5,6}\\nprint(all(x))\\ny=\"Ram\"\\nprint(all(y))\\nZ=1\\nprint(all(Z))', '# all()\\tReturns True if all items in an iterable object are true, otherwise false\\nx={1,2,3,4,5,6}\\nprint(all(x))\\ny=\"Ram\"\\nprint(all(y))\\n#Z=1\\n#print(all(Z))\\n#any()\\tReturns True if any item in an iterable object is true\\nZ=1,2\\nprint(any(Z))', 'print(ascii(\"My name is Ståle\"))', 'print(ascii(\"My name is Ståle\"))', '#bin()\\tReturns the binary version of a number\\nprint(bin(1))', '#bin()\\tReturns the binary version of a number,The result will always start with the prefix 0b.\\nprint(bin(34))', '#bin()\\tReturns the binary version of a number,The result will always start with the prefix 0b.\\nprint(bin(4))', '#bin()\\tReturns the binary version of a number,The result will always start with the prefix 0b.\\nprint(bin(10))', '#bool()\\tReturns the boolean value of the specified object\\nprint(bool(2==3))', '#bin()\\tReturns the binary version of a number,The result will always start with the prefix 0b.\\nprint(bin(10))\\n#bytearray()\\tReturns an array of bytes\\nprint(bytearray(10))', '#bin()\\tReturns the binary version of a number,The result will always start with the prefix 0b.\\nprint(bin(10))\\n#bytearray(x, encoding, error)\\tReturns an array of bytes\\nprint(bytearray(\"Hi\",utf-8,@))', '#bin()\\tReturns the binary version of a number,The result will always start with the prefix 0b.\\nprint(bin(10))\\n#bytearray(x, encoding, error)\\tReturns an array of bytes\\nprint(bytearray(\"Hi\",utf-8,\"@\"))', '#bin()\\tReturns the binary version of a number,The result will always start with the prefix 0b.\\nprint(bin(10))\\n#bytearray(x, encoding, error)\\tReturns an array of bytes\\nprint(bytearray(\"Hi\",UTF-8,\"@\"))', '#bin()\\tReturns the binary version of a number,The result will always start with the prefix 0b.\\nprint(bin(10))\\n#bytearray(x, encoding, error)\\tReturns an array of bytes\\nprint(bytearray(\"Hi\",UTF8,\"@\"))', '#bin()\\tReturns the binary version of a number,The result will always start with the prefix 0b.\\nprint(bin(10))\\n#bytearray(x, encoding, error)\\tReturns an array of bytes\\nprint(bytearray(\"Hi\",Utf8,\"@\"))', '#bin()\\tReturns the binary version of a number,The result will always start with the prefix 0b.\\nprint(bin(10))\\n#bytearray(x, encoding, error)\\tReturns an array of bytes\\nprint(bytearray(\"Hi\",Utf-8,\"@\"))', '#bin()\\tReturns the binary version of a number,The result will always start with the prefix 0b.\\nprint(bin(10))\\n#bytearray(x, encoding, error)\\tReturns an array of bytes\\nprint(bytearray(\"Hi\",\\'Utf-8\\',\"@\"))', '#bin()\\tReturns the binary version of a number,The result will always start with the prefix 0b.\\nprint(bin(10))\\n#bytearray(x, encoding, error)\\tReturns an array of bytes\\nprint(bytearray(\"Hi\",\\'Utf-8\\',\"@\"))\\nprint(bytearray(23,\\'Utf-8\\',\"@\"))', '#bin()\\tReturns the binary version of a number,The result will always start with the prefix 0b.\\nprint(bin(10))\\n#bytearray(x, encoding, error)\\tReturns an array of bytes\\nprint(bytearray(\"Hi\",\\'Utf-8\\',\"@\"))\\nprint(bytearray(23,\"@\"))', '#bin()\\tReturns the binary version of a number,The result will always start with the prefix 0b.\\nprint(bin(10))\\n#bytearray(x, encoding, error)\\tReturns an array of bytes\\nprint(bytearray(\"Hi\",\\'Utf-8\\',\"@\"))\\nprint(bytearray(23)', '#bin()\\tReturns the binary version of a number,The result will always start with the prefix 0b.\\nprint(bin(10))\\n#bytearray(x, encoding, error)\\tReturns an array of bytes\\nprint(bytearray(\"Hi\",\\'Utf-8\\',\"@\"))\\nprint(bytearray(23))', '#bin()\\tReturns the binary version of a number,The result will always start with the prefix 0b.\\nprint(bin(10))\\n#bytearray(x, encoding, error)\\tReturns an array of bytes\\nprint(bytearray(\"Hi\",\\'Utf-8\\',\"@\"))\\nprint(bytearray(23))\\n#bytes()\\tReturns a bytes object\\nprint(bytes(\"h\"))', '#bin()\\tReturns the binary version of a number,The result will always start with the prefix 0b.\\nprint(bin(10))\\n#bytearray(x, encoding, error)\\tReturns an array of bytes\\nprint(bytearray(\"Hi\",\\'Utf-8\\',\"@\"))\\nprint(bytearray(23))\\n#bytes()\\tReturns a bytes object\\nprint(bytes(\"h\",\\'utf-8\\'))', '#bin()\\tReturns the binary version of a number,The result will always start with the prefix 0b.\\nprint(bin(10))\\n#bytearray(x, encoding, error)\\tReturns an array of bytes\\nprint(bytearray(\"Hi\",\\'Utf-8\\',\"@\"))\\nprint(bytearray(23))\\n#bytes()\\tReturns a bytes object\\nprint(bytes(\"h\",\\'utf-8\\'))\\nprint(bytes(6))', '#callable()\\tReturns True if the specified object is callable, otherwise False\\ndef cube(X):\\n    return X*X*X\\nprint(callable(cube(X))', '#callable()\\tReturns True if the specified object is callable, otherwise False\\ndef cube(X):\\n    return X*X*X\\nprint(callable(cube(4))', '#callable()\\tReturns True if the specified object is callable, otherwise False\\ndef cube(x):\\n    return x**3\\nprint(callable(cube(4))', '#callable()\\tReturns True if the specified object is callable, otherwise False\\ndef cube(x):\\n    return x**3\\nprint(callable(cube(x))', '#callable()\\tReturns True if the specified object is callable, otherwise False\\ndef cube(x):\\n    return x**3\\nprint(callable(cube(x)))', '#callable()\\tReturns True if the specified object is callable, otherwise False\\ndef cube(x):\\n    return xpow(3)\\nprint(callable(cube(x)))', '#callable()\\tReturns True if the specified object is callable, otherwise False\\ndef cube(x):\\n    return x.pow(3)\\nprint(callable(cube(x)))', '#callable()\\tReturns True if the specified object is callable, otherwise False\\ndef cube(x):\\n    return pow(X,3)\\nprint(callable(cube(x)))', '#callable()\\tReturns True if the specified object is callable, otherwise False\\ndef cube(x):\\n    return pow(x,3)\\nprint(callable(cube(x)))', '#callable()\\tReturns True if the specified object is callable, otherwise False\\ndef cube(x):\\n    return pow(x,3)\\nprint(callable(cube(4)))', '#callable()\\tReturns True if the specified object is callable, otherwise False\\ndef cube(x):\\n    return pow(x,3)\\nprint(callable(cube(4)))\\na=5\\nprint(callable(a))', '#callable()\\tReturns True if the specified object is callable, otherwise False\\ndef cube(x):\\n    return pow(x,3)\\nprint(callable(cube))\\na=5\\nprint(callable(a))', '#bin()\\tReturns the binary version of a number,The result will always start with the prefix 0b.\\nprint(bin(10))\\n#bytearray(x, encoding, error)\\tReturns an array of bytes\\nprint(bytearray(\"Hi\",\\'Utf-8\\',\"@\"))\\nprint(bytearray(23))\\n#bytesx, encoding, error)\\tReturns a bytes object\\nprint(bytes(\"h\",\\'utf-8\\'))\\nprint(bytes(6))\\n#chr()\\tReturns a character from the specified Unicode code.\\nprint(chr(11))', '#bin()\\tReturns the binary version of a number,The result will always start with the prefix 0b.\\nprint(bin(10))\\n#bytearray(x, encoding, error)\\tReturns an array of bytes\\nprint(bytearray(\"Hi\",\\'Utf-8\\',\"@\"))\\nprint(bytearray(23))\\n#bytesx, encoding, error)\\tReturns a bytes object\\nprint(bytes(\"h\",\\'utf-8\\'))\\nprint(bytes(6))\\n#chr()\\tReturns a character from the specified Unicode code.\\nprint(chr(1))', '#bin()\\tReturns the binary version of a number,The result will always start with the prefix 0b.\\nprint(bin(10))\\n#bytearray(x, encoding, error)\\tReturns an array of bytes\\nprint(bytearray(\"Hi\",\\'Utf-8\\',\"@\"))\\nprint(bytearray(23))\\n#bytesx, encoding, error)\\tReturns a bytes object\\nprint(bytes(\"h\",\\'utf-8\\'))\\nprint(bytes(6))\\n#chr()\\tReturns a character from the specified Unicode code.\\nprint(chr(\"he\"))', '#bin()\\tReturns the binary version of a number,The result will always start with the prefix 0b.\\nprint(bin(10))\\n#bytearray(x, encoding, error)\\tReturns an array of bytes\\nprint(bytearray(\"Hi\",\\'Utf-8\\',\"@\"))\\nprint(bytearray(23))\\n#bytesx, encoding, error)\\tReturns a bytes object\\nprint(bytes(\"h\",\\'utf-8\\'))\\nprint(bytes(6))\\n#chr()\\tReturns a character from the specified Unicode code.\\nprint(chr(123))', '#bin()\\tReturns the binary version of a number,The result will always start with the prefix 0b.\\nprint(bin(10))\\n#bytearray(x, encoding, error)\\tReturns an array of bytes\\nprint(bytearray(\"Hi\",\\'Utf-8\\',\"@\"))\\nprint(bytearray(23))\\n#bytesx, encoding, error)\\tReturns a bytes object\\nprint(bytes(\"h\",\\'utf-8\\'))\\nprint(bytes(6))\\n#chr()\\tReturns a character from the specified Unicode code.\\nprint(chr(97))', '#bin()\\tReturns the binary version of a number,The result will always start with the prefix 0b.\\nprint(bin(10))\\n#bytearray(x, encoding, error)\\tReturns an array of bytes\\nprint(bytearray(\"Hi\",\\'Utf-8\\',\"@\"))\\nprint(bytearray(23))\\n#bytesx, encoding, error)\\tReturns a bytes object\\nprint(bytes(\"h\",\\'utf-8\\'))\\nprint(bytes(6))\\n#chr()\\tReturns a character from the specified Unicode code.\\nprint(chr(97))', '#bin()\\tReturns the binary version of a number,The result will always start with the prefix 0b.\\nprint(bin(10))\\n#bytearray(x, encoding, error)\\tReturns an array of bytes\\nprint(bytearray(\"Hi\",\\'Utf-8\\',\"@\"))\\nprint(bytearray(23))\\n#bytesx, encoding, error)\\tReturns a bytes object\\nprint(bytes(\"h\",\\'utf-8\\'))\\nprint(bytes(6))\\n#chr()\\tReturns a character from the specified Unicode code.\\nprint(chr(97))\\n#The compile(source, filename, mode, flag, dont_inherit, optimize) - function returns the specified source as a code object, ready to be executed.\\nx = compile(\\'print(55)\\\\nprint(88)\\', \\'test\\', \\'exec\\')\\nexec(x)', 'print(complex(3.5))', 'print(complex(3,5))', \"# complex(real, imaginary) returns a complex number by specifying a real number and an imaginary number.\\nprint(complex(3,5))\\nprint(complex('3+5j'))\", '#', '#dict()\\tReturns a dictionary (Array)\\nprint(dict(1,2,3))', '#dict()\\tReturns a dictionary (Array)\\nprint(dict(1))', '#dict()\\tReturns a dictionary (Array)\\nprint(dict(1,))', '#dict()\\tReturns a dictionary (Array)\\nx=1,2,3\\ny=0\\nprint(dict(x,y))', '#dict()\\tReturns a dictionary (Array)\\nx=1,2,3\\ny=0\\nprint(dict(x))', '#dict(key=value,...)\\tReturns a dictionary (Array)\\n\\nprint(dict(dict(name = \"John\", age = 36, country = \"Norway\")))', '#dict(key=value,...)\\tReturns a dictionary (Array)\\nprint(dict(dict(name = \"John\", age = 36, country = \"Norway\")))', '# The dir() function returns all properties and methods of the specified object, without the values.\\n# This function will return all the properties and methods, even built-in properties which are default for all object.\\nclass student:\\n    name=\"many\"\\n    age=\"12\"\\n    section=\"3rd\"\\nprint(dir(student))    ', 'print(divmod(8,3))', '#enumerate()\\tTakes a collection (e.g. a tuple) and returns it as an enumerate object\\nl1=[A,B,C,D,E,F]\\nprint(enumerate(l1,1))', \"#enumerate()\\tTakes a collection (e.g. a tuple) and returns it as an enumerate object\\nl1=['A','B','C','D','E','F']\\nprint(enumerate(l1,1))\", \"#enumerate()\\tTakes a collection (e.g. a tuple) and returns it as an enumerate object\\nl1=['A','B','C','D','E','F']\\nprint(enumerate(l1,Start=1))\", '#eval()\\tEvaluates and executes an expression\\nprint(eval(x==12))', '#eval()\\tEvaluates and executes an expression\\nx=print(12)\\nprint(eval(x))', \"#eval(expression, globals, locals)\\tEvaluates and executes an expression\\nx=print(12)\\nprint(eval('x'))\", '# # exec(object, globals, locals)\\n# The exec() function executes the specified Python code.\\n# The exec() function accepts large blocks of code, unlike the eval() function which only accepts a single expression\\nx = \\'name = \"John\"\\\\nprint(name)\\'\\nexec(x)', '#The filter() function returns an iterator were the items are filtered through a function to test if the item is accepted or not.', '# filter(function, iterable) function returns an iterator were the items are filtered through a function to test if the item is accepted or not.\\nages={12,14,16,18,20,22,24}\\n\\ndef nwFn():\\n    if ages < 18:\\n    return minor \\n    else:\\n    return Adult\\nadults= {nwFn, ages}\\n\\nfor i in adults:\\n    print(i)', '# filter(function, iterable) function returns an iterator were the items are filtered through a function to test if the item is accepted or not.\\nages={12,14,16,18,20,22,24}\\n\\ndef nwFn():\\n    if ages < 18:\\n     return minor \\n    else:\\n     return Adult\\nadults= {nwFn, ages}\\n\\nfor i in adults:\\n    print(i)', '# filter(function, iterable) function returns an iterator were the items are filtered through a function to test if the item is accepted or not.\\nages={12,14,16,18,20,22,24}\\n\\ndef nwFn():\\n    if ages < 18:\\n     return minor \\n    else:\\n     return Adult\\nadults= filter(nwFn, ages)\\n\\nfor i in adults:\\n    print(i)', '# filter(function, iterable) function returns an iterator were the items are filtered through a function to test if the item is accepted or not.\\nages={12,14,16,18,20,22,24}\\n\\ndef nwFn(i):\\n    if ages < 18:\\n     return minor \\n    else:\\n     return Adult\\nadults= filter(nwFn, ages)\\n\\nfor i in adults:\\n    print(i)', '# filter(function, iterable) function returns an iterator were the items are filtered through a function to test if the item is accepted or not.\\nages={12,14,16,18,20,22,24}\\n\\ndef nwFn(i):\\n    if i < 18:\\n     return minor \\n    else:\\n     return Adult\\nadults= filter(nwFn, ages)\\n\\nfor i in adults:\\n    print(i)', '# filter(function, iterable) function returns an iterator were the items are filtered through a function to test if the item is accepted or not.\\nages={12,14,16,18,20,22,24}\\n\\ndef nwFn(i):\\n    if i < 18:\\n     return Flase \\n    else:\\n     return True\\n\\nadults= filter(nwFn, ages)\\n\\nfor i in adults:\\n    print(i)', '# filter(function, iterable) function returns an iterator were the items are filtered through a function to test if the item is accepted or not.\\nages={12,14,16,18,20,22,24}\\n\\ndef nwFn(i):\\n    if i < 18:\\n     return False \\n    else:\\n     return True\\n\\nadults= filter(nwFn, ages)\\n\\nfor i in adults:\\n    print(i)', '# filter(function, iterable) function returns an iterator were the items are filtered through a function to test if the item is accepted or not.\\nages={12,14,16,18,20,22,24}\\n\\ndef nwFn(i):\\n    if i < 18:\\n     return \"minor\" \\n    else:\\n     return \"Adult\"\\n\\nadults= filter(nwFn, ages)\\n\\nfor i in adults:\\n    print(i)', '# filter(function, iterable) function returns an iterator were the items are filtered through a function to test if the item is accepted or not.\\nages={12,14,16,18,20,22,24}\\n\\ndef nwFn(i):\\n    if i < 18:\\n     return \"minor\" \\n    else:\\n     return \"Adult\"\\n\\nadults= filter(nwFn, ages)\\n\\nfor i in adults:\\n    print(i, return)', '# filter(function, iterable) function returns an iterator were the items are filtered through a function to test if the item is accepted or not.\\nages={12,14,16,18,20,22,24}\\n\\ndef nwFn(i):\\n    if i < 18:\\n     return \"minor\" \\n    else:\\n     return \"Adult\"\\n\\nadults= filter(nwFn, ages)\\n\\nfor i in adults:\\n    print(i)', '# filter(function, iterable) function returns an iterator were the items are filtered through a function to test if the item is accepted or not.\\nages={12,14,16,18,20,22,24}\\n\\ndef nwFn(i):\\n    if i < 18:\\n     return False \\n    else:\\n     return True\\n\\nadults= filter(nwFn, ages)\\n\\nfor i in adults:\\n    print(i)', '# filter(function, iterable) function returns an iterator were the items are filtered through a function to test if the item is accepted or not.\\nages={12,14,16,18,20,22,24}\\n\\ndef nwFn(i):\\n    if i < 18:\\n     return False \\n    else:\\n     return True\\n\\nadults= filter(nwFn, ages)\\nprint(adults)\\n\\nfor i in adults:\\n    print(i)', '# filter(function, iterable) function returns an iterator were the items are filtered through a function to test if the item is accepted or not.\\nages={12,14,16,18,20,22,24}\\n\\ndef nwFn(i):\\n    if i < 18:\\n     return False \\n    else:\\n     return True\\n\\nadults= filter(nwFn, ages)\\n print(adults)\\n\\nfor i in adults:\\n    print(i)', '# filter(function, iterable) function returns an iterator were the items are filtered through a function to test if the item is accepted or not.\\nages={12,14,16,18,20,22,24}\\n\\ndef nwFn(i):\\n    if i < 18:\\n     return False \\n    else:\\n     return True\\n\\nadults= filter(nwFn, ages)\\nprint(adults)\\n\\nfor i in adults:\\n    print(i)', '#float()\\tReturns a floating point number\\nprint(float(\"4\"))', '#The format(value, format) function formats a specified value into a specified format.\\nprint(format(15,^))', \"#The format(value, format) function formats a specified value into a specified format.\\nprint(format(15,'^'))\", \"#The format(value, format) function formats a specified value into a specified format.\\nprint(format(15,'_'))\", \"#The format(value, format) function formats a specified value into a specified format.\\nprint(format(15 20,'_'))\", \"#The format(value, format) function formats a specified value into a specified format.\\nprint(format(15, 20,'_'))\", \"#The format(value, format) function formats a specified value into a specified format.\\nprint(format(1520,'_'))\", \"#The format(value, format) function formats a specified value into a specified format.\\nprint(format(1520700,'_'))\", \"#The format(value, format) function formats a specified value into a specified format.\\nprint(format(1520700,'X'))\", \"#The format(value, format) function formats a specified value into a specified format.\\nprint(format(1520700,'x'))\", '# The frozenset(iterable) function returns an unchangeable frozenset object (which is like a set object, only unchangeable).\\nq={1,2,3,4,5,6}\\nprint(frozenset(q))', '# The frozenset(iterable) function returns an unchangeable frozenset object (which is like a set object, only unchangeable).\\nq={1,2,3,4,5,6}\\nprint(type(frozenset(q))', '# The frozenset(iterable) function returns an unchangeable frozenset object (which is like a set object, only unchangeable).\\nq={1,2,3,4,5,6}\\nprint(type(frozenset(q)))', '# The frozenset(iterable) function returns an unchangeable frozenset object \\n# (which is like a set object, only unchangeable).\\nq={1,2,3,4,5,6}\\nprint(frozenset(q))\\nprint(type(frozenset(q)))', 'class Person:\\n  name = \"John\"\\n  age = 36\\n  country = \"Norway\"\\n\\nx = getattr(Person, \\'age\\')', 'class Person:\\n  name = \"John\"\\n  age = 36\\n  country = \"Norway\"\\n\\nx = getattr(Person, \\'age\\')', 'class Person:\\n  name = \"John\"\\n  age = 36\\n  country = \"Norway\"\\n\\nx = getattr(Person, \\'age\\')', 'class Person:\\n  name = \"John\"\\n  age = 36\\n  country = \"Norway\"\\n\\nx = getattr(Person, \\'page\\', \\'my message\\')', 'class Person:\\n  name = \"John\"\\n  age = 36\\n  country = \"Norway\"\\n\\nx = getattr(Person, \\'page\\', \\'my message\\')\\nprint(x)', '# getattr(object, attribute, default) function returns the value of the specified attribute from the specified object.\\nclass Person:\\n  name = \"John\"\\n  age = 36\\n  country = \"Norway\"\\n\\nx = getattr(Person, \\'age\\', \\'my message\\')\\nprint(x)', '# getattr(object, attribute, default) function returns the value of the specified attribute from the specified object.\\nclass Person:\\n  name = \"John\"\\n  age = 36\\n  country = \"Norway\"\\n\\nx = getattr(Person, \\'country\\', \\'my message\\')\\nprint(x)', '# getattr(object, attribute, default) function returns the value of the specified attribute from the specified object.\\nclass Person:\\n  name = \"John\"\\n  age = 36\\n  country = \"Norway\"\\nx = getattr(Person, \\'country\\', \\'my message\\')\\nprint(x)\\ny = getattr(Person, \\'page\\', \\'not availble\\')\\nprint(x)\\n\\n# The delattr() function, to remove an attribute\\n\\n# The hasattr() function, to check if an attribute exist\\n\\n# The setattr() function, to set the value of an attribute', '# getattr(object, attribute, default) function returns the value of the specified attribute from the specified object.\\nclass Person:\\n  name = \"John\"\\n  age = 36\\n  country = \"Norway\"\\nx = getattr(Person, \\'country\\', \\'my message\\')\\nprint(x)\\ny = getattr(Person, \\'page\\', \\'not availble\\')\\nprint(y)\\n\\n# The delattr() function, to remove an attribute\\n\\n# The hasattr() function, to check if an attribute exist\\n\\n# The setattr() function, to set the value of an attribute', 'x = globals()\\nprint(x)', '# getattr(object, attribute, default) function returns the value of the specified attribute from the specified object.\\nclass Person:\\n  name = \"John\"\\n  age = 36\\n  country = \"Norway\"\\nx = getattr(Person, \\'country\\', \\'my message\\')\\nprint(x)\\ny = getattr(Person, \\'page\\', \\'not availble\\')\\nprint(y)\\n\\n# The delattr() function, to remove an attribute\\n\\n# The hasattr() function, to check if an attribute exist\\nprint(hasattr(Person,\"name\"))\\n\\n# The setattr() function, to set the value of an attribute', '# getattr(object, attribute, default) function returns the value of the specified attribute from the specified object.\\nclass Person:\\n  name = \"John\"\\n  age = 36\\n  country = \"Norway\"\\nx = getattr(Person, \\'country\\', \\'my message\\')\\nprint(x)\\ny = getattr(Person, \\'page\\', \\'not availble\\')\\nprint(y)\\n\\n# The delattr() function, to remove an attribute\\n\\n# The hasattr() function, to check if an attribute exist\\nprint(hasattr(Person,\"name\"))\\nprint(hasattr(Person,\"Fame\"))\\n\\n# The setattr() function, to set the value of an attribute', 'print(hash(12))', 'print(hash(\"Help\"))', 'help(\"hash\")', 'help(\"return\")', '# hex()\\tConverts a number into a hexadecimal value\\nprint(hex(12))', '# Id()\\tReturns the id of an object\\nprint(id(12))', '# Id()\\tReturns the id of an object\\nX=12\\nprint(id(X))', '# Id()\\tReturns the id of an object\\nX=12\\nprint(id(X))\\nprint(id(12))', '#input()\\tAllowing user input\\ninput()', '#int()\\tReturns an integer number\\nprint(int(\"4\"))', '# isinstance()\\tReturns True if a specified object is an instance of a specified object\\n# issubclass()\\tReturns True if a specified class is a subclass of a specified object', '# len()\\tReturns the length of an object\\nprint(len(1,2,,3))\\n# list()\\tReturns a list', '# len()\\tReturns the length of an object\\nprint(len(1,2,4,3))\\n# list()\\tReturns a list', '# len()\\tReturns the length of an object\\nprint(len((1,2,4,3))\\n# list()\\tReturns a list', '# len()\\tReturns the length of an object\\nprint(len({1,2,4,3})\\n# list()\\tReturns a list', '# len()\\tReturns the length of an object\\nprint(len({1,2,4,3})', '# len()\\tReturns the length of an object\\nprint(len({1,2,4,3}))', '# list()\\tReturns a list\\nprint(list({12,24,,5,2}))', '# list()\\tReturns a list\\nprint(list({12,24,5,5,2}))', 'x = locals()\\nprint(x)'], 'Out': {119: 'hello'}, 'get_ipython': <bound method InteractiveShell.get_ipython of <ipykernel.zmqshell.ZMQInteractiveShell object at 0x103c11b50>>, 'exit': <IPython.core.autocall.ZMQExitAutocall object at 0x103c2d050>, 'quit': <IPython.core.autocall.ZMQExitAutocall object at 0x103c2d050>, 'open': <function open at 0x1026e3d80>, '_': 'hello', '__': '', '___': '', '_i': '# list()\\tReturns a list\\nprint(list({12,24,5,5,2}))', '_ii': '# list()\\tReturns a list\\nprint(list({12,24,,5,2}))', '_iii': '# len()\\tReturns the length of an object\\nprint(len({1,2,4,3}))', '_i1': '#abs()\\tReturns the absolute value of a number\\nprint(abs(-40))', '_i2': '#abs()\\tReturns the absolute value of a number\\nprint(abs(-40))\\nprint(abs(40.59))', '_i3': '#abs()\\tReturns the absolute value of a number\\nprint(abs(-40))\\nprint(abs(3+5j))', '_i4': '# all()\\tReturns True if all items in an iterable object are true\\nx={1,2,3,4,5,6}\\nprint(all(x))', 'x': {...}, '_i5': '# all()\\tReturns True if all items in an iterable object are true\\nx={1,2,3,4,5,6}\\nprint(all(x))\\ny=\"Ram\"\\nprint(all(y))', 'y': 'not availble', '_i6': '# all()\\tReturns True if all items in an iterable object are true, otherwise false\\nx={1,2,3,4,5,6}\\nprint(all(x))\\ny=\"Ram\"\\nprint(all(y))\\nZ=1\\nprint(all(z))', 'Z': (1, 2), '_i7': '# all()\\tReturns True if all items in an iterable object are true, otherwise false\\nx={1,2,3,4,5,6}\\nprint(all(x))\\ny=\"Ram\"\\nprint(all(y))\\nZ=1\\nprint(all(Z))', '_i8': '# all()\\tReturns True if all items in an iterable object are true, otherwise false\\nx={1,2,3,4,5,6}\\nprint(all(x))\\ny=\"Ram\"\\nprint(all(y))\\n#Z=1\\n#print(all(Z))\\n#any()\\tReturns True if any item in an iterable object is true\\nZ=1,2\\nprint(any(Z))', '_i9': 'print(ascii(\"My name is Ståle\"))', '_i10': 'print(ascii(\"My name is Ståle\"))', '_i11': '#bin()\\tReturns the binary version of a number\\nprint(bin(1))', '_i12': '#bin()\\tReturns the binary version of a number,The result will always start with the prefix 0b.\\nprint(bin(34))', '_i13': '#bin()\\tReturns the binary version of a number,The result will always start with the prefix 0b.\\nprint(bin(4))', '_i14': '#bin()\\tReturns the binary version of a number,The result will always start with the prefix 0b.\\nprint(bin(10))', '_i15': '#bool()\\tReturns the boolean value of the specified object\\nprint(bool(2==3))', '_i16': '#bin()\\tReturns the binary version of a number,The result will always start with the prefix 0b.\\nprint(bin(10))\\n#bytearray()\\tReturns an array of bytes\\nprint(bytearray(10))', '_i17': '#bin()\\tReturns the binary version of a number,The result will always start with the prefix 0b.\\nprint(bin(10))\\n#bytearray(x, encoding, error)\\tReturns an array of bytes\\nprint(bytearray(\"Hi\",utf-8,@))', '_i18': '#bin()\\tReturns the binary version of a number,The result will always start with the prefix 0b.\\nprint(bin(10))\\n#bytearray(x, encoding, error)\\tReturns an array of bytes\\nprint(bytearray(\"Hi\",utf-8,\"@\"))', '_i19': '#bin()\\tReturns the binary version of a number,The result will always start with the prefix 0b.\\nprint(bin(10))\\n#bytearray(x, encoding, error)\\tReturns an array of bytes\\nprint(bytearray(\"Hi\",UTF-8,\"@\"))', '_i20': '#bin()\\tReturns the binary version of a number,The result will always start with the prefix 0b.\\nprint(bin(10))\\n#bytearray(x, encoding, error)\\tReturns an array of bytes\\nprint(bytearray(\"Hi\",UTF8,\"@\"))', '_i21': '#bin()\\tReturns the binary version of a number,The result will always start with the prefix 0b.\\nprint(bin(10))\\n#bytearray(x, encoding, error)\\tReturns an array of bytes\\nprint(bytearray(\"Hi\",Utf8,\"@\"))', '_i22': '#bin()\\tReturns the binary version of a number,The result will always start with the prefix 0b.\\nprint(bin(10))\\n#bytearray(x, encoding, error)\\tReturns an array of bytes\\nprint(bytearray(\"Hi\",Utf-8,\"@\"))', '_i23': '#bin()\\tReturns the binary version of a number,The result will always start with the prefix 0b.\\nprint(bin(10))\\n#bytearray(x, encoding, error)\\tReturns an array of bytes\\nprint(bytearray(\"Hi\",\\'Utf-8\\',\"@\"))', '_i24': '#bin()\\tReturns the binary version of a number,The result will always start with the prefix 0b.\\nprint(bin(10))\\n#bytearray(x, encoding, error)\\tReturns an array of bytes\\nprint(bytearray(\"Hi\",\\'Utf-8\\',\"@\"))\\nprint(bytearray(23,\\'Utf-8\\',\"@\"))', '_i25': '#bin()\\tReturns the binary version of a number,The result will always start with the prefix 0b.\\nprint(bin(10))\\n#bytearray(x, encoding, error)\\tReturns an array of bytes\\nprint(bytearray(\"Hi\",\\'Utf-8\\',\"@\"))\\nprint(bytearray(23,\"@\"))', '_i26': '#bin()\\tReturns the binary version of a number,The result will always start with the prefix 0b.\\nprint(bin(10))\\n#bytearray(x, encoding, error)\\tReturns an array of bytes\\nprint(bytearray(\"Hi\",\\'Utf-8\\',\"@\"))\\nprint(bytearray(23)', '_i27': '#bin()\\tReturns the binary version of a number,The result will always start with the prefix 0b.\\nprint(bin(10))\\n#bytearray(x, encoding, error)\\tReturns an array of bytes\\nprint(bytearray(\"Hi\",\\'Utf-8\\',\"@\"))\\nprint(bytearray(23))', '_i28': '#bin()\\tReturns the binary version of a number,The result will always start with the prefix 0b.\\nprint(bin(10))\\n#bytearray(x, encoding, error)\\tReturns an array of bytes\\nprint(bytearray(\"Hi\",\\'Utf-8\\',\"@\"))\\nprint(bytearray(23))\\n#bytes()\\tReturns a bytes object\\nprint(bytes(\"h\"))', '_i29': '#bin()\\tReturns the binary version of a number,The result will always start with the prefix 0b.\\nprint(bin(10))\\n#bytearray(x, encoding, error)\\tReturns an array of bytes\\nprint(bytearray(\"Hi\",\\'Utf-8\\',\"@\"))\\nprint(bytearray(23))\\n#bytes()\\tReturns a bytes object\\nprint(bytes(\"h\",\\'utf-8\\'))', '_i30': '#bin()\\tReturns the binary version of a number,The result will always start with the prefix 0b.\\nprint(bin(10))\\n#bytearray(x, encoding, error)\\tReturns an array of bytes\\nprint(bytearray(\"Hi\",\\'Utf-8\\',\"@\"))\\nprint(bytearray(23))\\n#bytes()\\tReturns a bytes object\\nprint(bytes(\"h\",\\'utf-8\\'))\\nprint(bytes(6))', '_i31': '#callable()\\tReturns True if the specified object is callable, otherwise False\\ndef cube(X):\\n    return X*X*X\\nprint(callable(cube(X))', '_i32': '#callable()\\tReturns True if the specified object is callable, otherwise False\\ndef cube(X):\\n    return X*X*X\\nprint(callable(cube(4))', '_i33': '#callable()\\tReturns True if the specified object is callable, otherwise False\\ndef cube(x):\\n    return x**3\\nprint(callable(cube(4))', '_i34': '#callable()\\tReturns True if the specified object is callable, otherwise False\\ndef cube(x):\\n    return x**3\\nprint(callable(cube(x))', '_i35': '#callable()\\tReturns True if the specified object is callable, otherwise False\\ndef cube(x):\\n    return x**3\\nprint(callable(cube(x)))', 'cube': <function cube at 0x10443c900>, '_i36': '#callable()\\tReturns True if the specified object is callable, otherwise False\\ndef cube(x):\\n    return xpow(3)\\nprint(callable(cube(x)))', '_i37': '#callable()\\tReturns True if the specified object is callable, otherwise False\\ndef cube(x):\\n    return x.pow(3)\\nprint(callable(cube(x)))', '_i38': '#callable()\\tReturns True if the specified object is callable, otherwise False\\ndef cube(x):\\n    return pow(X,3)\\nprint(callable(cube(x)))', '_i39': '#callable()\\tReturns True if the specified object is callable, otherwise False\\ndef cube(x):\\n    return pow(x,3)\\nprint(callable(cube(x)))', '_i40': '#callable()\\tReturns True if the specified object is callable, otherwise False\\ndef cube(x):\\n    return pow(x,3)\\nprint(callable(cube(4)))', '_i41': '#callable()\\tReturns True if the specified object is callable, otherwise False\\ndef cube(x):\\n    return pow(x,3)\\nprint(callable(cube(4)))\\na=5\\nprint(callable(a))', 'a': 5, '_i42': '#callable()\\tReturns True if the specified object is callable, otherwise False\\ndef cube(x):\\n    return pow(x,3)\\nprint(callable(cube))\\na=5\\nprint(callable(a))', '_i43': '#bin()\\tReturns the binary version of a number,The result will always start with the prefix 0b.\\nprint(bin(10))\\n#bytearray(x, encoding, error)\\tReturns an array of bytes\\nprint(bytearray(\"Hi\",\\'Utf-8\\',\"@\"))\\nprint(bytearray(23))\\n#bytesx, encoding, error)\\tReturns a bytes object\\nprint(bytes(\"h\",\\'utf-8\\'))\\nprint(bytes(6))\\n#chr()\\tReturns a character from the specified Unicode code.\\nprint(chr(11))', '_i44': '#bin()\\tReturns the binary version of a number,The result will always start with the prefix 0b.\\nprint(bin(10))\\n#bytearray(x, encoding, error)\\tReturns an array of bytes\\nprint(bytearray(\"Hi\",\\'Utf-8\\',\"@\"))\\nprint(bytearray(23))\\n#bytesx, encoding, error)\\tReturns a bytes object\\nprint(bytes(\"h\",\\'utf-8\\'))\\nprint(bytes(6))\\n#chr()\\tReturns a character from the specified Unicode code.\\nprint(chr(1))', '_i45': '#bin()\\tReturns the binary version of a number,The result will always start with the prefix 0b.\\nprint(bin(10))\\n#bytearray(x, encoding, error)\\tReturns an array of bytes\\nprint(bytearray(\"Hi\",\\'Utf-8\\',\"@\"))\\nprint(bytearray(23))\\n#bytesx, encoding, error)\\tReturns a bytes object\\nprint(bytes(\"h\",\\'utf-8\\'))\\nprint(bytes(6))\\n#chr()\\tReturns a character from the specified Unicode code.\\nprint(chr(\"he\"))', '_i46': '#bin()\\tReturns the binary version of a number,The result will always start with the prefix 0b.\\nprint(bin(10))\\n#bytearray(x, encoding, error)\\tReturns an array of bytes\\nprint(bytearray(\"Hi\",\\'Utf-8\\',\"@\"))\\nprint(bytearray(23))\\n#bytesx, encoding, error)\\tReturns a bytes object\\nprint(bytes(\"h\",\\'utf-8\\'))\\nprint(bytes(6))\\n#chr()\\tReturns a character from the specified Unicode code.\\nprint(chr(123))', '_i47': '#bin()\\tReturns the binary version of a number,The result will always start with the prefix 0b.\\nprint(bin(10))\\n#bytearray(x, encoding, error)\\tReturns an array of bytes\\nprint(bytearray(\"Hi\",\\'Utf-8\\',\"@\"))\\nprint(bytearray(23))\\n#bytesx, encoding, error)\\tReturns a bytes object\\nprint(bytes(\"h\",\\'utf-8\\'))\\nprint(bytes(6))\\n#chr()\\tReturns a character from the specified Unicode code.\\nprint(chr(97))', '_i48': '#bin()\\tReturns the binary version of a number,The result will always start with the prefix 0b.\\nprint(bin(10))\\n#bytearray(x, encoding, error)\\tReturns an array of bytes\\nprint(bytearray(\"Hi\",\\'Utf-8\\',\"@\"))\\nprint(bytearray(23))\\n#bytesx, encoding, error)\\tReturns a bytes object\\nprint(bytes(\"h\",\\'utf-8\\'))\\nprint(bytes(6))\\n#chr()\\tReturns a character from the specified Unicode code.\\nprint(chr(97))', '_i49': '#bin()\\tReturns the binary version of a number,The result will always start with the prefix 0b.\\nprint(bin(10))\\n#bytearray(x, encoding, error)\\tReturns an array of bytes\\nprint(bytearray(\"Hi\",\\'Utf-8\\',\"@\"))\\nprint(bytearray(23))\\n#bytesx, encoding, error)\\tReturns a bytes object\\nprint(bytes(\"h\",\\'utf-8\\'))\\nprint(bytes(6))\\n#chr()\\tReturns a character from the specified Unicode code.\\nprint(chr(97))\\n#The compile(source, filename, mode, flag, dont_inherit, optimize) - function returns the specified source as a code object, ready to be executed.\\nx = compile(\\'print(55)\\\\nprint(88)\\', \\'test\\', \\'exec\\')\\nexec(x)', '_i50': 'print(complex(3.5))', '_i51': 'print(complex(3,5))', '_i52': \"# complex(real, imaginary) returns a complex number by specifying a real number and an imaginary number.\\nprint(complex(3,5))\\nprint(complex('3+5j'))\", '_i53': '#', '_i54': '#dict()\\tReturns a dictionary (Array)\\nprint(dict(1,2,3))', '_i55': '#dict()\\tReturns a dictionary (Array)\\nprint(dict(1))', '_i56': '#dict()\\tReturns a dictionary (Array)\\nprint(dict(1,))', '_i57': '#dict()\\tReturns a dictionary (Array)\\nx=1,2,3\\ny=0\\nprint(dict(x,y))', '_i58': '#dict()\\tReturns a dictionary (Array)\\nx=1,2,3\\ny=0\\nprint(dict(x))', '_i59': '#dict(key=value,...)\\tReturns a dictionary (Array)\\n\\nprint(dict(dict(name = \"John\", age = 36, country = \"Norway\")))', '_i60': '#dict(key=value,...)\\tReturns a dictionary (Array)\\nprint(dict(dict(name = \"John\", age = 36, country = \"Norway\")))', '_i61': '# The dir() function returns all properties and methods of the specified object, without the values.\\n# This function will return all the properties and methods, even built-in properties which are default for all object.\\nclass student:\\n    name=\"many\"\\n    age=\"12\"\\n    section=\"3rd\"\\nprint(dir(student))    ', 'student': <class '__main__.student'>, '_i62': 'print(divmod(8,3))', '_i63': '#enumerate()\\tTakes a collection (e.g. a tuple) and returns it as an enumerate object\\nl1=[A,B,C,D,E,F]\\nprint(enumerate(l1,1))', '_i64': \"#enumerate()\\tTakes a collection (e.g. a tuple) and returns it as an enumerate object\\nl1=['A','B','C','D','E','F']\\nprint(enumerate(l1,1))\", 'l1': ['A', 'B', 'C', 'D', 'E', 'F'], '_i65': \"#enumerate()\\tTakes a collection (e.g. a tuple) and returns it as an enumerate object\\nl1=['A','B','C','D','E','F']\\nprint(enumerate(l1,Start=1))\", '_i66': '#eval()\\tEvaluates and executes an expression\\nprint(eval(x==12))', '_i67': '#eval()\\tEvaluates and executes an expression\\nx=print(12)\\nprint(eval(x))', '_i68': \"#eval(expression, globals, locals)\\tEvaluates and executes an expression\\nx=print(12)\\nprint(eval('x'))\", '_i69': '# # exec(object, globals, locals)\\n# The exec() function executes the specified Python code.\\n# The exec() function accepts large blocks of code, unlike the eval() function which only accepts a single expression\\nx = \\'name = \"John\"\\\\nprint(name)\\'\\nexec(x)', 'name': 'John', '_i70': '#The filter() function returns an iterator were the items are filtered through a function to test if the item is accepted or not.', '_i71': '# filter(function, iterable) function returns an iterator were the items are filtered through a function to test if the item is accepted or not.\\nages={12,14,16,18,20,22,24}\\n\\ndef nwFn():\\n    if ages < 18:\\n    return minor \\n    else:\\n    return Adult\\nadults= {nwFn, ages}\\n\\nfor i in adults:\\n    print(i)', '_i72': '# filter(function, iterable) function returns an iterator were the items are filtered through a function to test if the item is accepted or not.\\nages={12,14,16,18,20,22,24}\\n\\ndef nwFn():\\n    if ages < 18:\\n     return minor \\n    else:\\n     return Adult\\nadults= {nwFn, ages}\\n\\nfor i in adults:\\n    print(i)', 'ages': {16, 18, 20, 22, 24, 12, 14}, 'nwFn': <function nwFn at 0x10460c720>, '_i73': '# filter(function, iterable) function returns an iterator were the items are filtered through a function to test if the item is accepted or not.\\nages={12,14,16,18,20,22,24}\\n\\ndef nwFn():\\n    if ages < 18:\\n     return minor \\n    else:\\n     return Adult\\nadults= filter(nwFn, ages)\\n\\nfor i in adults:\\n    print(i)', 'adults': <filter object at 0x1044628f0>, '_i74': '# filter(function, iterable) function returns an iterator were the items are filtered through a function to test if the item is accepted or not.\\nages={12,14,16,18,20,22,24}\\n\\ndef nwFn(i):\\n    if ages < 18:\\n     return minor \\n    else:\\n     return Adult\\nadults= filter(nwFn, ages)\\n\\nfor i in adults:\\n    print(i)', '_i75': '# filter(function, iterable) function returns an iterator were the items are filtered through a function to test if the item is accepted or not.\\nages={12,14,16,18,20,22,24}\\n\\ndef nwFn(i):\\n    if i < 18:\\n     return minor \\n    else:\\n     return Adult\\nadults= filter(nwFn, ages)\\n\\nfor i in adults:\\n    print(i)', '_i76': '# filter(function, iterable) function returns an iterator were the items are filtered through a function to test if the item is accepted or not.\\nages={12,14,16,18,20,22,24}\\n\\ndef nwFn(i):\\n    if i < 18:\\n     return Flase \\n    else:\\n     return True\\n\\nadults= filter(nwFn, ages)\\n\\nfor i in adults:\\n    print(i)', '_i77': '# filter(function, iterable) function returns an iterator were the items are filtered through a function to test if the item is accepted or not.\\nages={12,14,16,18,20,22,24}\\n\\ndef nwFn(i):\\n    if i < 18:\\n     return False \\n    else:\\n     return True\\n\\nadults= filter(nwFn, ages)\\n\\nfor i in adults:\\n    print(i)', 'i': 24, '_i78': '# filter(function, iterable) function returns an iterator were the items are filtered through a function to test if the item is accepted or not.\\nages={12,14,16,18,20,22,24}\\n\\ndef nwFn(i):\\n    if i < 18:\\n     return \"minor\" \\n    else:\\n     return \"Adult\"\\n\\nadults= filter(nwFn, ages)\\n\\nfor i in adults:\\n    print(i)', '_i79': '# filter(function, iterable) function returns an iterator were the items are filtered through a function to test if the item is accepted or not.\\nages={12,14,16,18,20,22,24}\\n\\ndef nwFn(i):\\n    if i < 18:\\n     return \"minor\" \\n    else:\\n     return \"Adult\"\\n\\nadults= filter(nwFn, ages)\\n\\nfor i in adults:\\n    print(i, return)', '_i80': '# filter(function, iterable) function returns an iterator were the items are filtered through a function to test if the item is accepted or not.\\nages={12,14,16,18,20,22,24}\\n\\ndef nwFn(i):\\n    if i < 18:\\n     return \"minor\" \\n    else:\\n     return \"Adult\"\\n\\nadults= filter(nwFn, ages)\\n\\nfor i in adults:\\n    print(i)', '_i81': '# filter(function, iterable) function returns an iterator were the items are filtered through a function to test if the item is accepted or not.\\nages={12,14,16,18,20,22,24}\\n\\ndef nwFn(i):\\n    if i < 18:\\n     return False \\n    else:\\n     return True\\n\\nadults= filter(nwFn, ages)\\n\\nfor i in adults:\\n    print(i)', '_i82': '# filter(function, iterable) function returns an iterator were the items are filtered through a function to test if the item is accepted or not.\\nages={12,14,16,18,20,22,24}\\n\\ndef nwFn(i):\\n    if i < 18:\\n     return False \\n    else:\\n     return True\\n\\nadults= filter(nwFn, ages)\\nprint(adults)\\n\\nfor i in adults:\\n    print(i)', '_i83': '# filter(function, iterable) function returns an iterator were the items are filtered through a function to test if the item is accepted or not.\\nages={12,14,16,18,20,22,24}\\n\\ndef nwFn(i):\\n    if i < 18:\\n     return False \\n    else:\\n     return True\\n\\nadults= filter(nwFn, ages)\\n print(adults)\\n\\nfor i in adults:\\n    print(i)', '_i84': '# filter(function, iterable) function returns an iterator were the items are filtered through a function to test if the item is accepted or not.\\nages={12,14,16,18,20,22,24}\\n\\ndef nwFn(i):\\n    if i < 18:\\n     return False \\n    else:\\n     return True\\n\\nadults= filter(nwFn, ages)\\nprint(adults)\\n\\nfor i in adults:\\n    print(i)', '_i85': '#float()\\tReturns a floating point number\\nprint(float(\"4\"))', '_i86': '#The format(value, format) function formats a specified value into a specified format.\\nprint(format(15,^))', '_i87': \"#The format(value, format) function formats a specified value into a specified format.\\nprint(format(15,'^'))\", '_i88': \"#The format(value, format) function formats a specified value into a specified format.\\nprint(format(15,'_'))\", '_i89': \"#The format(value, format) function formats a specified value into a specified format.\\nprint(format(15 20,'_'))\", '_i90': \"#The format(value, format) function formats a specified value into a specified format.\\nprint(format(15, 20,'_'))\", '_i91': \"#The format(value, format) function formats a specified value into a specified format.\\nprint(format(1520,'_'))\", '_i92': \"#The format(value, format) function formats a specified value into a specified format.\\nprint(format(1520700,'_'))\", '_i93': \"#The format(value, format) function formats a specified value into a specified format.\\nprint(format(1520700,'X'))\", '_i94': \"#The format(value, format) function formats a specified value into a specified format.\\nprint(format(1520700,'x'))\", '_i95': '# The frozenset(iterable) function returns an unchangeable frozenset object (which is like a set object, only unchangeable).\\nq={1,2,3,4,5,6}\\nprint(frozenset(q))', 'q': {1, 2, 3, 4, 5, 6}, '_i96': '# The frozenset(iterable) function returns an unchangeable frozenset object (which is like a set object, only unchangeable).\\nq={1,2,3,4,5,6}\\nprint(type(frozenset(q))', '_i97': '# The frozenset(iterable) function returns an unchangeable frozenset object (which is like a set object, only unchangeable).\\nq={1,2,3,4,5,6}\\nprint(type(frozenset(q)))', '_i98': '# The frozenset(iterable) function returns an unchangeable frozenset object \\n# (which is like a set object, only unchangeable).\\nq={1,2,3,4,5,6}\\nprint(frozenset(q))\\nprint(type(frozenset(q)))', '_i99': '\\nclass Person:\\n  name = \"John\"\\n  age = 36\\n  country = \"Norway\"\\n\\nx = getattr(Person, \\'age\\')', 'Person': <class '__main__.Person'>, '_i100': '\\nclass Person:\\n  name = \"John\"\\n  age = 36\\n  country = \"Norway\"\\n\\nx = getattr(Person, \\'age\\')', '_i101': '\\nclass Person:\\n  name = \"John\"\\n  age = 36\\n  country = \"Norway\"\\n\\nx = getattr(Person, \\'age\\')', '_i102': '\\nclass Person:\\n  name = \"John\"\\n  age = 36\\n  country = \"Norway\"\\n\\nx = getattr(Person, \\'page\\', \\'my message\\')', '_i103': '\\nclass Person:\\n  name = \"John\"\\n  age = 36\\n  country = \"Norway\"\\n\\nx = getattr(Person, \\'page\\', \\'my message\\')\\nprint(x)', '_i104': '# getattr(object, attribute, default) function returns the value of the specified attribute from the specified object.\\nclass Person:\\n  name = \"John\"\\n  age = 36\\n  country = \"Norway\"\\n\\nx = getattr(Person, \\'age\\', \\'my message\\')\\nprint(x)', '_i105': '# getattr(object, attribute, default) function returns the value of the specified attribute from the specified object.\\nclass Person:\\n  name = \"John\"\\n  age = 36\\n  country = \"Norway\"\\n\\nx = getattr(Person, \\'country\\', \\'my message\\')\\nprint(x)', '_i106': '# getattr(object, attribute, default) function returns the value of the specified attribute from the specified object.\\nclass Person:\\n  name = \"John\"\\n  age = 36\\n  country = \"Norway\"\\nx = getattr(Person, \\'country\\', \\'my message\\')\\nprint(x)\\ny = getattr(Person, \\'page\\', \\'not availble\\')\\nprint(x)\\n\\n# The delattr() function, to remove an attribute\\n\\n# The hasattr() function, to check if an attribute exist\\n\\n# The setattr() function, to set the value of an attribute', '_i107': '# getattr(object, attribute, default) function returns the value of the specified attribute from the specified object.\\nclass Person:\\n  name = \"John\"\\n  age = 36\\n  country = \"Norway\"\\nx = getattr(Person, \\'country\\', \\'my message\\')\\nprint(x)\\ny = getattr(Person, \\'page\\', \\'not availble\\')\\nprint(y)\\n\\n# The delattr() function, to remove an attribute\\n\\n# The hasattr() function, to check if an attribute exist\\n\\n# The setattr() function, to set the value of an attribute', '_i108': 'x = globals()\\nprint(x)', '_i109': '# getattr(object, attribute, default) function returns the value of the specified attribute from the specified object.\\nclass Person:\\n  name = \"John\"\\n  age = 36\\n  country = \"Norway\"\\nx = getattr(Person, \\'country\\', \\'my message\\')\\nprint(x)\\ny = getattr(Person, \\'page\\', \\'not availble\\')\\nprint(y)\\n\\n# The delattr() function, to remove an attribute\\n\\n# The hasattr() function, to check if an attribute exist\\nprint(hasattr(Person,\"name\"))\\n\\n# The setattr() function, to set the value of an attribute', '_i110': '# getattr(object, attribute, default) function returns the value of the specified attribute from the specified object.\\nclass Person:\\n  name = \"John\"\\n  age = 36\\n  country = \"Norway\"\\nx = getattr(Person, \\'country\\', \\'my message\\')\\nprint(x)\\ny = getattr(Person, \\'page\\', \\'not availble\\')\\nprint(y)\\n\\n# The delattr() function, to remove an attribute\\n\\n# The hasattr() function, to check if an attribute exist\\nprint(hasattr(Person,\"name\"))\\nprint(hasattr(Person,\"Fame\"))\\n\\n# The setattr() function, to set the value of an attribute', '_i111': 'print(hash(12))', '_i112': 'print(hash(\"Help\"))', '_i113': 'help(\"hash\")', '_i114': 'help(\"return\")', '_i115': '# hex()\\tConverts a number into a hexadecimal value\\nprint(hex(12))', '_i116': '# Id()\\tReturns the id of an object\\nprint(id(12))', '_i117': '# Id()\\tReturns the id of an object\\nX=12\\nprint(id(X))', 'X': 12, '_i118': '# Id()\\tReturns the id of an object\\nX=12\\nprint(id(X))\\nprint(id(12))', '_i119': '#input()\\tAllowing user input\\ninput()', '_119': 'hello', '_i120': '#int()\\tReturns an integer number\\nprint(int(\"4\"))', '_i121': '# isinstance()\\tReturns True if a specified object is an instance of a specified object\\n# issubclass()\\tReturns True if a specified class is a subclass of a specified object', '_i122': '# len()\\tReturns the length of an object\\nprint(len(1,2,,3))\\n# list()\\tReturns a list', '_i123': '# len()\\tReturns the length of an object\\nprint(len(1,2,4,3))\\n# list()\\tReturns a list', '_i124': '# len()\\tReturns the length of an object\\nprint(len((1,2,4,3))\\n# list()\\tReturns a list', '_i125': '# len()\\tReturns the length of an object\\nprint(len({1,2,4,3})\\n# list()\\tReturns a list', '_i126': '# len()\\tReturns the length of an object\\nprint(len({1,2,4,3})', '_i127': '# len()\\tReturns the length of an object\\nprint(len({1,2,4,3}))', '_i128': '# list()\\tReturns a list\\nprint(list({12,24,,5,2}))', '_i129': '# list()\\tReturns a list\\nprint(list({12,24,5,5,2}))', '_i130': 'x = locals()\\nprint(x)'}\n"
     ]
    }
   ],
   "source": [
    "# The locals() function returns the local symbol table as a dictionary.\n",
    "# A symbol table contains necessary information about the current program.\n",
    "x = locals()\n",
    "print(x)"
   ]
  },
  {
   "cell_type": "code",
   "execution_count": 131,
   "id": "2a811d49",
   "metadata": {},
   "outputs": [],
   "source": [
    "# map()\tReturns the specified iterator with the specified function applied to each item\n"
   ]
  },
  {
   "cell_type": "code",
   "execution_count": 133,
   "id": "bb7ebfc7",
   "metadata": {},
   "outputs": [
    {
     "name": "stdout",
     "output_type": "stream",
     "text": [
      "531\n"
     ]
    }
   ],
   "source": [
    "# max()\tReturns the largest item in an iterable\n",
    "print(max({12,23,34,2,531,12}))"
   ]
  },
  {
   "cell_type": "code",
   "execution_count": 134,
   "id": "aad1228b",
   "metadata": {},
   "outputs": [
    {
     "name": "stdout",
     "output_type": "stream",
     "text": [
      "2\n"
     ]
    }
   ],
   "source": [
    "# max()\tReturns the largest item in an iterable\n",
    "print(min({12,23,34,2,531,12}))"
   ]
  },
  {
   "cell_type": "code",
   "execution_count": 135,
   "id": "a2ed943e",
   "metadata": {},
   "outputs": [
    {
     "name": "stdout",
     "output_type": "stream",
     "text": [
      "<memory at 0x1043c7700>\n",
      "72\n",
      "101\n"
     ]
    }
   ],
   "source": [
    "# memoryview(object)function returns a memory view object from a specified object.\n",
    "x = memoryview(b\"Hello\")\n",
    "print(x)\n",
    "#return the Unicode of the first character\n",
    "print(x[0])\n",
    "#return the Unicode of the second character\n",
    "print(x[1])"
   ]
  },
  {
   "cell_type": "code",
   "execution_count": 140,
   "id": "dfb4b8ff",
   "metadata": {},
   "outputs": [
    {
     "name": "stdout",
     "output_type": "stream",
     "text": [
      "1\n",
      "3\n",
      "5\n",
      "7\n",
      "8\n",
      "no next key\n"
     ]
    }
   ],
   "source": [
    "#next(iterable, default)\tReturns the next item in an iterable\n",
    "q=iter({1,3,5,7,8})\n",
    "print(next(q))\n",
    "print(next(q))\n",
    "print(next(q))\n",
    "print(next(q))\n",
    "print(next(q))\n",
    "print(next(q, 'no next key'))"
   ]
  },
  {
   "cell_type": "code",
   "execution_count": 142,
   "id": "b65be435",
   "metadata": {},
   "outputs": [],
   "source": [
    "# object()\tReturns a new object\n",
    "x = object()"
   ]
  },
  {
   "cell_type": "code",
   "execution_count": 143,
   "id": "30acd90e",
   "metadata": {},
   "outputs": [
    {
     "name": "stdout",
     "output_type": "stream",
     "text": [
      "0o14\n"
     ]
    }
   ],
   "source": [
    "# oct()\tConverts a number into an octal\n",
    "print(oct(12))"
   ]
  },
  {
   "cell_type": "code",
   "execution_count": 90,
   "id": "956ffe02",
   "metadata": {},
   "outputs": [],
   "source": [
    "#open()\tOpens a file and returns a file object\n",
    "y= open('/Users/ashutosh/Desktop/Directory/python','r')"
   ]
  },
  {
   "cell_type": "code",
   "execution_count": 2,
   "id": "05b19335",
   "metadata": {},
   "outputs": [
    {
     "name": "stdout",
     "output_type": "stream",
     "text": [
      "104\n"
     ]
    }
   ],
   "source": [
    "#  ord(charcter)\tConvert an integer representing the Unicode of the specified character\n",
    "print(ord(\"h\"))\n"
   ]
  },
  {
   "cell_type": "code",
   "execution_count": 3,
   "id": "4a5164d0",
   "metadata": {},
   "outputs": [
    {
     "name": "stdout",
     "output_type": "stream",
     "text": [
      "125\n"
     ]
    }
   ],
   "source": [
    "#pow()\tReturns the value of x to the power of y\n",
    "print(pow(5,3))"
   ]
  },
  {
   "cell_type": "code",
   "execution_count": 4,
   "id": "ebc59ba8",
   "metadata": {},
   "outputs": [
    {
     "name": "stdout",
     "output_type": "stream",
     "text": [
      "Ashutosh\n"
     ]
    }
   ],
   "source": [
    "#print()\tPrints to the standard output device\n",
    "print(\"Ashutosh\")"
   ]
  },
  {
   "cell_type": "code",
   "execution_count": 5,
   "id": "f1556878",
   "metadata": {},
   "outputs": [],
   "source": [
    "#property()\tGets, sets, deletes a property\n"
   ]
  },
  {
   "cell_type": "code",
   "execution_count": 10,
   "id": "46262414",
   "metadata": {},
   "outputs": [
    {
     "name": "stdout",
     "output_type": "stream",
     "text": [
      "0\n",
      "2\n",
      "4\n",
      "6\n",
      "8\n",
      "10\n"
     ]
    }
   ],
   "source": [
    "#range()\tReturns a sequence of numbers, starting from 0 and increments by 1 (by default)\n",
    "for i in range(0,11,2):\n",
    "    print(i)"
   ]
  },
  {
   "cell_type": "code",
   "execution_count": 11,
   "id": "4a6a43d9",
   "metadata": {},
   "outputs": [],
   "source": [
    "#repr()\tReturns a readable version of an object"
   ]
  },
  {
   "cell_type": "code",
   "execution_count": 14,
   "id": "461dde83",
   "metadata": {},
   "outputs": [
    {
     "name": "stdout",
     "output_type": "stream",
     "text": [
      "<list_reverseiterator object at 0x109a02500>\n",
      "ler\n",
      "fow\n",
      "farah\n",
      "amy\n"
     ]
    }
   ],
   "source": [
    "#reversed(sequence)\tReturns a reversed iterator\n",
    "a=[\"amy\",\"farah\", \"fow\", \"ler\"]\n",
    "b=reversed(a)\n",
    "print(b)\n",
    "for i in b:\n",
    "    print(i)\n",
    "    \n",
    "# The iter() function returns an iterator object.\n",
    "# The list.reverse() method reverses a List. "
   ]
  },
  {
   "cell_type": "code",
   "execution_count": 16,
   "id": "996efc79",
   "metadata": {},
   "outputs": [
    {
     "name": "stdout",
     "output_type": "stream",
     "text": [
      "20.6\n"
     ]
    }
   ],
   "source": [
    "#round()\tRounds a numbers\n",
    "print(round(20.59,1))"
   ]
  },
  {
   "cell_type": "code",
   "execution_count": 18,
   "id": "c540161c",
   "metadata": {},
   "outputs": [
    {
     "name": "stdout",
     "output_type": "stream",
     "text": [
      "{1, 2, 3}\n"
     ]
    }
   ],
   "source": [
    "#set()\tReturns a new set object\n",
    "a=[1,2,3]\n",
    "print(set(a))"
   ]
  },
  {
   "cell_type": "code",
   "execution_count": 21,
   "id": "7bd0ee1d",
   "metadata": {},
   "outputs": [
    {
     "name": "stdout",
     "output_type": "stream",
     "text": [
      "('a', 'c', 'e', 'g')\n"
     ]
    }
   ],
   "source": [
    "#slice(start, end, step)\tReturns a slice object\n",
    "a = (\"a\", \"b\", \"c\", \"d\", \"e\", \"f\", \"g\", \"h\")\n",
    "b=slice(0,7,2)\n",
    "print(a[b])"
   ]
  },
  {
   "cell_type": "code",
   "execution_count": 24,
   "id": "6a28a79a",
   "metadata": {},
   "outputs": [
    {
     "name": "stdout",
     "output_type": "stream",
     "text": [
      "[0, 1, 2, 3, 4, 5, 6, 7, 8, 9, 12, 23, 34, 45]\n"
     ]
    }
   ],
   "source": [
    "# sorted(iterable, key=key, reverse=reverse) function returns a sorted list of the specified iterable object.\n",
    "a = (9,0,1,34,12, 2,3,4,23, 5, 6,45,7,8)\n",
    "print(sorted(a))"
   ]
  },
  {
   "cell_type": "code",
   "execution_count": 28,
   "id": "35bcd4fc",
   "metadata": {},
   "outputs": [],
   "source": [
    "#staticmethod()\tConverts a method into a static method\n"
   ]
  },
  {
   "cell_type": "code",
   "execution_count": 27,
   "id": "a8704961",
   "metadata": {},
   "outputs": [
    {
     "name": "stdout",
     "output_type": "stream",
     "text": [
      "159\n"
     ]
    }
   ],
   "source": [
    "# sum()\tSums the items of an iterator\n",
    "a=[0, 1, 2, 3, 4, 5, 6, 7, 8, 9, 12, 23, 34, 45]\n",
    "print(sum(a))"
   ]
  },
  {
   "cell_type": "code",
   "execution_count": 29,
   "id": "446e2090",
   "metadata": {},
   "outputs": [
    {
     "name": "stdout",
     "output_type": "stream",
     "text": [
      "4.5\n"
     ]
    }
   ],
   "source": [
    "# str(object, encoding=encoding, errors=errors)\tReturns a string object\n",
    "a=4.50\n",
    "print(str(a))"
   ]
  },
  {
   "cell_type": "code",
   "execution_count": 30,
   "id": "f3c34d5e",
   "metadata": {},
   "outputs": [
    {
     "name": "stdout",
     "output_type": "stream",
     "text": [
      "Hello, and welcome!\n"
     ]
    }
   ],
   "source": [
    "#super()\tReturns an object that represents the parent class\n",
    "class Parent:\n",
    "  def __init__(self, txt):\n",
    "    self.message = txt\n",
    "\n",
    "  def printmessage(self):\n",
    "    print(self.message)\n",
    "\n",
    "class Child(Parent):\n",
    "  def __init__(self, txt):\n",
    "    super().__init__(txt)\n",
    "\n",
    "x = Child(\"Hello, and welcome!\")\n",
    "\n",
    "x.printmessage()"
   ]
  },
  {
   "cell_type": "code",
   "execution_count": 32,
   "id": "3266251c",
   "metadata": {},
   "outputs": [
    {
     "name": "stdout",
     "output_type": "stream",
     "text": [
      "(0, 1, 2, 3, 4, 5, 6, 7, 8, 9, 12, 23, 34, 45)\n",
      "<class 'tuple'>\n"
     ]
    }
   ],
   "source": [
    "#tuple()\tReturns a tuple\n",
    "a=[0, 1, 2, 3, 4, 5, 6, 7, 8, 9, 12, 23, 34, 45]\n",
    "print(tuple(a))\n",
    "#type()\tReturns the type of an object\n",
    "print(type(tuple(a)))"
   ]
  },
  {
   "cell_type": "code",
   "execution_count": 37,
   "id": "0c96796c",
   "metadata": {},
   "outputs": [
    {
     "name": "stdout",
     "output_type": "stream",
     "text": [
      "{'__module__': '__main__', 'name': 'John', 'age': 36, 'country': 'norway', '__dict__': <attribute '__dict__' of 'Person' objects>, '__weakref__': <attribute '__weakref__' of 'Person' objects>, '__doc__': None}\n"
     ]
    }
   ],
   "source": [
    "# vars(object))\tReturns the __dict__ property of an object\n",
    "class Person:\n",
    "  name = \"John\"\n",
    "  age = 36\n",
    "  country = \"norway\"\n",
    "x = vars(Person)\n",
    "print(x)"
   ]
  },
  {
   "cell_type": "markdown",
   "id": "0e712d10",
   "metadata": {},
   "source": [
    "# functional programming\n"
   ]
  },
  {
   "cell_type": "code",
   "execution_count": 89,
   "id": "bb528374",
   "metadata": {},
   "outputs": [
    {
     "name": "stdout",
     "output_type": "stream",
     "text": [
      "<zip object at 0x10a748200>\n",
      "[('John', 'Jenny'), ('Charles', 'Christy'), ('Mike', 'Monica')]\n"
     ]
    }
   ],
   "source": [
    "# zip(iterator1, iterator2, iterator3 ...)\tReturns an iterator, from two or more iterators\n",
    "a = (\"John\", \"Charles\", \"Mike\")\n",
    "b = (\"Jenny\", \"Christy\", \"Monica\")\n",
    "x = zip(a, b)\n",
    "print(x)\n",
    "print(list(x))"
   ]
  },
  {
   "cell_type": "code",
   "execution_count": 88,
   "id": "ec219250",
   "metadata": {},
   "outputs": [
    {
     "name": "stdout",
     "output_type": "stream",
     "text": [
      "4\n",
      "21\n"
     ]
    }
   ],
   "source": [
    "#Lambda Function --Anonymmous -- when you do not want to write a function\n",
    "print((lambda x : x**2)(2))\n",
    "print((lambda x,y,z : x**2+y**2+z**2)(1,2,4))"
   ]
  },
  {
   "cell_type": "markdown",
   "id": "5417092b",
   "metadata": {},
   "source": [
    "# Map, filter , reduce"
   ]
  },
  {
   "cell_type": "markdown",
   "id": "eb49c0f7",
   "metadata": {},
   "source": [
    "##Functional programmming \n",
    "1. Function are first class citizens, functions are objects.\n",
    "2. data and operation/mutations should be done seprately\n",
    "3. treat data as immutable, even if it is mutable"
   ]
  },
  {
   "cell_type": "code",
   "execution_count": 55,
   "id": "e7052394",
   "metadata": {},
   "outputs": [
    {
     "name": "stdout",
     "output_type": "stream",
     "text": [
      "<map object at 0x109c6c5b0>\n",
      "[1, 4, 9, 16, 25, 36, 49, 64, 81, 0]\n",
      "[1, 4, 9, 16, 25, 36, 49, 64, 81, 0]\n"
     ]
    }
   ],
   "source": [
    "#Map(function, iterable) -- higher order function; store the updated vaules given by new function using iterables.\n",
    "lis1 = [1,2,3,4,5,6,7,8,9,0]\n",
    "def sq(x):\n",
    "    return x**2\n",
    "q = map(sq, lis1)\n",
    "print(q)\n",
    "print(list(q))\n",
    "print(list(map(lambda x:x**2,lis1)))"
   ]
  },
  {
   "cell_type": "code",
   "execution_count": 61,
   "id": "c76a4cab",
   "metadata": {},
   "outputs": [
    {
     "name": "stdout",
     "output_type": "stream",
     "text": [
      "[0, 1, 4, 9, 16, 25, 36, 49, 64, 81, 100]\n"
     ]
    }
   ],
   "source": [
    "lis1 = [1,2,3,4,5,6,7,8,9,0]\n",
    "lis2 = []\n",
    "for i in range(0, len(lis1)+1):\n",
    "    lis2.append(i ** 2)\n",
    "print(lis2)"
   ]
  },
  {
   "cell_type": "code",
   "execution_count": 68,
   "id": "d64b36c9",
   "metadata": {},
   "outputs": [
    {
     "name": "stdout",
     "output_type": "stream",
     "text": [
      "['S', 'S', 'M', 'M', 'L', 'L', 'L']\n",
      "[160, 180, 200, 220, 240]\n"
     ]
    }
   ],
   "source": [
    "# filter(function, iterable) function returns an iterator were the items are filtered through a function to test if the item is accepted or not.\n",
    "height=[120,140,160,180,200,220,240]\n",
    "def converter(h):\n",
    "    if h > 180:\n",
    "        return \"L\"\n",
    "    elif h>=160 and h<=180:\n",
    "        return \"M\"\n",
    "    else:\n",
    "        return \"S\"\n",
    "print(list(map(converter,height)))    \n",
    "print(list(filter(lambda x: x>=160 ,height))) "
   ]
  },
  {
   "cell_type": "code",
   "execution_count": 72,
   "id": "97946e39",
   "metadata": {},
   "outputs": [
    {
     "name": "stdout",
     "output_type": "stream",
     "text": [
      "66\n",
      "66\n",
      "2358720\n",
      "26\n"
     ]
    }
   ],
   "source": [
    "# reduce() -- computational rolling --finally return 1 value \n",
    "from functools import reduce # importing function from differnt modules\n",
    "lst = [1,3,5,7,8,9,26,4,3]\n",
    "print(sum(lst))\n",
    "print(reduce(lambda x,y:x+y, lst))\n",
    "print(reduce(lambda x,y:x*y, lst))\n",
    "print(reduce (lambda x,y: x if x>y else y, lst))"
   ]
  },
  {
   "cell_type": "code",
   "execution_count": null,
   "id": "16db0bfc",
   "metadata": {},
   "outputs": [],
   "source": []
  }
 ],
 "metadata": {
  "kernelspec": {
   "display_name": "Python 3 (ipykernel)",
   "language": "python",
   "name": "python3"
  },
  "language_info": {
   "codemirror_mode": {
    "name": "ipython",
    "version": 3
   },
   "file_extension": ".py",
   "mimetype": "text/x-python",
   "name": "python",
   "nbconvert_exporter": "python",
   "pygments_lexer": "ipython3",
   "version": "3.11.1"
  }
 },
 "nbformat": 4,
 "nbformat_minor": 5
}
